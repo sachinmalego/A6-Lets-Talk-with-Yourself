{
 "cells": [
  {
   "cell_type": "markdown",
   "metadata": {},
   "source": [
    "## **A6: Let’s Talk with Yourself!**\n",
    "\n",
    "In this assignment, apply RAG (Retrieval-Augmented Generation) techniques in Langchain framework to augment your chatbot that specializes in answering questions related to yourself, your documents, resume and any other relevant information.\n",
    "\n",
    "### **Load Libraries and define device**"
   ]
  },
  {
   "cell_type": "code",
   "execution_count": 1,
   "metadata": {},
   "outputs": [
    {
     "data": {
      "text/plain": [
       "device(type='mps')"
      ]
     },
     "execution_count": 1,
     "metadata": {},
     "output_type": "execute_result"
    }
   ],
   "source": [
    "import os\n",
    "import torch\n",
    "\n",
    "# Set GPU device for CUDA computation\n",
    "# os.environ[\"CUDA_VISIBLE_DEVICES\"] = \"1\"\n",
    "# os.environ['http_proxy']  = 'http://192.41.170.23:3128'\n",
    "# os.environ['https_proxy'] = 'http://192.41.170.23:3128'\n",
    "# device = torch.device('cuda' if torch.cuda.is_available() else 'cpu')\n",
    "\n",
    "os.environ[\"TOKENIZERS_PARALLELISM\"] = \"True\"\n",
    "\n",
    "# Use the MPS (Metal Performance Shaders) backend for PyTorch if available for MAC Users.\n",
    "device = torch.device(\"mps\" if torch.backends.mps.is_available() else \"cpu\")\n",
    "device"
   ]
  },
  {
   "cell_type": "markdown",
   "metadata": {},
   "source": [
    "#### **Task 1. Source Discovery - Based on code-along/01-rag-langchain.ipynb, modify as follows:**\n",
    "\n",
    "1) Find all relevant sources related to yourself, including documents, websites, or personal data. Please list down the reference documents (1 point)\n",
    "   \n",
    "   **Answer:** For this task I have used my CV and Profile as a reference document which holds all the answers to the 10 questions that is to be answered about myself by the chat bot. The document can be downloaded from the link: [Download Document](https://drive.google.com/drive/folders/1WsGkfhqnxTYJMzgKL1IwmOW_xUIcGIws?usp=sharing)\n",
    "\n",
    "2) Design your Prompt for Chatbot to handle questions related to your personal information. Develop a model that can provide gentle and informative answers based on the designed template. (0.5 point)\n",
    "\n",
    "3) Explore the use of other text-generation models or OPENAI models to enhance AI capabilities. (0.5 point)\n",
    "\n",
    "**Note:** Groq also offers the llama3-70b model (generator model) with limited request capacity. For further exploration, refer to the following link (https://python.langchain.com/docs/integrations/chat/groq/)\n"
   ]
  },
  {
   "cell_type": "markdown",
   "metadata": {},
   "source": [
    "##### **1. Prompt**\n",
    "A set of instructions or input provided by a user to guide the model's response, helping it understand the context and generate relevant and coherent language-based output, such as answering questions, completing sentences, or engaging in a conversation."
   ]
  },
  {
   "cell_type": "code",
   "execution_count": 2,
   "metadata": {},
   "outputs": [
    {
     "data": {
      "text/plain": [
       "PromptTemplate(input_variables=['context', 'question'], template=\"Hi! I am an AI - RAGBot assistant that answers questions about the user based on the available documents. \\n    I ensure responses are accurate and cite relevant sources.\\n    I'll be sure to answer you to the best of my ability!!\\n    Context: {context}\\n    Question: {question}\\n    Answer:\")"
      ]
     },
     "execution_count": 2,
     "metadata": {},
     "output_type": "execute_result"
    }
   ],
   "source": [
    "from langchain import PromptTemplate\n",
    "\n",
    "prompt_template = \"\"\"\n",
    "    Hi! I am an AI - RAGBot assistant that answers questions about the user based on the available documents. \n",
    "    I ensure responses are accurate and cite relevant sources.\n",
    "    I'll be sure to answer you to the best of my ability!!\n",
    "    Context: {context}\n",
    "    Question: {question}\n",
    "    Answer:\n",
    "    \"\"\".strip()\n",
    "\n",
    "PROMPT = PromptTemplate.from_template(\n",
    "    template = prompt_template\n",
    ")\n",
    "\n",
    "PROMPT\n",
    "#using str.format \n",
    "#The placeholder is defined using curly brackets: {} {}"
   ]
  },
  {
   "cell_type": "code",
   "execution_count": 3,
   "metadata": {},
   "outputs": [
    {
     "data": {
      "text/plain": [
       "\"Hi! I am an AI - RAGBot assistant that answers questions about the user based on the available documents. \\n    I ensure responses are accurate and cite relevant sources.\\n    I'll be sure to answer you to the best of my ability!!\\n    Context: A RAGBot is a type of artificial intelligence that answers questions by retrieving information from uploaded documents. It uses NLP techniques to process and understand the content of these documents, allowing it to provide accurate and contextually relevant responses to user queries. By analyzing text and context, the RAGBot can extract the most pertinent details and generate appropriate answers without the need for explicit instructions.\\n    Question: What is a RAGBot?\\n    Answer:\""
      ]
     },
     "execution_count": 3,
     "metadata": {},
     "output_type": "execute_result"
    }
   ],
   "source": [
    "PROMPT.format(\n",
    "    context = \"A RAGBot is a type of artificial intelligence that answers questions by retrieving information from uploaded documents. It uses NLP techniques to process and understand the content of these documents, allowing it to provide accurate and contextually relevant responses to user queries. By analyzing text and context, the RAGBot can extract the most pertinent details and generate appropriate answers without the need for explicit instructions.\",\n",
    "    question = \"What is a RAGBot?\"\n",
    ")"
   ]
  },
  {
   "cell_type": "markdown",
   "metadata": {},
   "source": [
    "##### **2. Retrieval**\n",
    "\n",
    "1. `Document loaders` : Load documents from many different sources (HTML, PDF, code). \n",
    "   \n",
    "2. `Document transformers` : One of the essential steps in document retrieval is breaking down a large document into smaller, relevant chunks to enhance the retrieval process.\n",
    "   \n",
    "3. `Text embedding models` : Embeddings capture the semantic meaning of the text, allowing you to quickly and efficiently find other pieces of text that are similar.\n",
    "   \n",
    "4. `Vector stores`: there has emerged a need for databases to support efficient storage and searching of these embeddings.\n",
    "   \n",
    "5. `Retrievers` : Once the data is in the database, you still need to retrieve it."
   ]
  },
  {
   "cell_type": "markdown",
   "metadata": {},
   "source": [
    "##### **2.1 Document Loaders**\n",
    "Use document loaders to load data from a source as Document's. A Document is a piece of text and associated metadata. For example, there are document loaders for loading a simple .txt file, for loading the text contents of any web page, or even for loading a transcript of a YouTube video.\n",
    "\n",
    "[PDF Loader](https://python.langchain.com/docs/modules/data_connection/document_loaders/pdf)"
   ]
  },
  {
   "cell_type": "code",
   "execution_count": 4,
   "metadata": {},
   "outputs": [],
   "source": [
    "from langchain.document_loaders import PyMuPDFLoader\n",
    "\n",
    "# nlp_docs = 'documents/CV _SachinMalego.pdf'\n",
    "# loader = PyMuPDFLoader(nlp_docs)\n",
    "# documents = loader.load()\n",
    "\n",
    "# List of document paths\n",
    "nlp_docs = [\n",
    "    '/Users/sachinmalego/Documents/AIT Course Works/02. Second Semester/02. AI-NLU/Lab Work/Github/Python-fo-Natural-Language-Processing/Assignment/NLP-A6-Lets-Talk-with-Yourself/documents/CV _SachinMalego.pdf',\n",
    "    '/Users/sachinmalego/Documents/AIT Course Works/02. Second Semester/02. AI-NLU/Lab Work/Github/Python-fo-Natural-Language-Processing/Assignment/NLP-A6-Lets-Talk-with-Yourself/documents/Profile_SachinMalego.pdf'\n",
    "]\n",
    "\n",
    "# Load all documents\n",
    "documents = []\n",
    "for doc in nlp_docs:\n",
    "    loader = PyMuPDFLoader(doc)\n",
    "    documents.extend(loader.load())\n",
    "\n",
    "# Now 'documents' contains all loaded text from the PDFs\n",
    "documents = [doc for file in nlp_docs for doc in PyMuPDFLoader(file).load()]"
   ]
  },
  {
   "cell_type": "code",
   "execution_count": 5,
   "metadata": {},
   "outputs": [
    {
     "data": {
      "text/plain": [
       "9"
      ]
     },
     "execution_count": 5,
     "metadata": {},
     "output_type": "execute_result"
    }
   ],
   "source": [
    "len(documents)"
   ]
  },
  {
   "cell_type": "code",
   "execution_count": 6,
   "metadata": {},
   "outputs": [
    {
     "data": {
      "text/plain": [
       "Document(page_content='SACHIN MALEGO  \\n  \\n+66-0910633538(M); e-mail: s.malego@gmail.com; st125171@ait.asia   \\n2 | P a g e  \\n  \\nOrganization/Duty Station: National Disaster Risk Reduction and Management Authority  \\n(NDRRMA), Government of Nepal and National Housing and Settlements Resilience Platform \\n(NHSRP) Central Office, Lalitpur (Assigned districts: Kathmandu, Lalitpur, Bhaktapur, Makwanpur, \\nNawalpur, Parasi, and Sindhuli) Job Responsibilities:  \\n• \\nCoordination with Relevant IM Actors: Collaborate with pertinent Information Management (IM) \\nstakeholders to ensure the upkeep of common district-level IM tools. These tools facilitate various \\nfunctions such as data collection, collation, analysis, and dissemination. It involves maintaining \\narchives of baseline data, key datasets, key indicators, and other essential tools necessary for \\neffective information management.  \\n• \\nManagement of IT Projects: Oversee IT projects, including software development initiatives, to \\nensure they are completed within established timelines and meet project objectives. This entails \\ncoordinating with developers, stakeholders, and project managers to ensure smooth project \\nexecution.  \\n• \\nComprehensive System Documentation: Conduct thorough documentation of systems and source \\ncode to ensure clarity, transparency, and compliance with organizational policies and standards. \\nThis documentation serves as a reference for future maintenance, troubleshooting, and \\nenhancements.  \\n• \\nDevelopment of Training Packages: Develop training and orientation packages tailored to the \\nspecific needs of users of the developed information systems. These packages aim to equip users \\nwith the necessary knowledge and skills to effectively utilize the systems for their intended \\npurposes.  \\n• \\nTechnical Support to NDRRMA: Provide crucial technical support to the National Disaster Risk \\nReduction and Management Authority (NDRRMA) in the multi-hazard policy-making process. This \\ninvolves leveraging expertise in information management to contribute to informed decision \\nmaking and the development of effective disaster management strategies.  \\n• \\nSupport for Major NDRRMA Information Systems: Offer consultancy and assistance support for \\nkey NDRRMA information systems, such as the Bipad portal, Reconstruction Management \\nInformation System (RMIS), Resource Management System, and Volunteer Management System \\n(VMS). This includes ensuring the smooth functioning, maintenance, and optimization of these \\nsystems.  \\n• \\nGovernment Data Security: Provide feedback on government data security measures and \\ncontribute to the development of a robust data management platform for multi-hazard disaster \\nmanagement. This involves identifying vulnerabilities, recommending solutions, and supporting the \\nimplementation of security protocols to safeguard sensitive information.  \\n• \\nAnalysis and Reporting Support: Assist the General/Technical Coordinator in conducting analysis \\nand generating reports on the quality, coverage, and gaps in operational activities. These \\nanalyses and reports serve as valuable insights for decision-making and strategic planning \\npurposes.  \\n• \\nInformation Sharing Mechanisms: Contribute to the establishment and maintenance of robust \\ninformation sharing, communication, and dissemination mechanisms among Partner Organizations \\n(POs), local authorities, and other humanitarian actors. This facilitates efficient exchange of \\ninformation and coordination of efforts in disaster response and recovery efforts.  \\n• \\nTechnical Assistance in Information Management: Provide technical assistance in various aspects \\nof information management, including data collection, verification, and analysis. This support aims \\nto enhance the identification of coverage and gaps in disaster response activities and improve \\noverall data quality.  \\n• \\nPreparation and Sharing of Information Products: Prepare and disseminate localized information \\nproducts, such as analysis reports, maps, and case studies, in the local language. These products \\nserve to inform stakeholders and aid in strategy and decision-making processes at the local level.  \\n', metadata={'source': '/Users/sachinmalego/Documents/AIT Course Works/02. Second Semester/02. AI-NLU/Lab Work/Github/Python-fo-Natural-Language-Processing/Assignment/NLP-A6-Lets-Talk-with-Yourself/documents/CV _SachinMalego.pdf', 'file_path': '/Users/sachinmalego/Documents/AIT Course Works/02. Second Semester/02. AI-NLU/Lab Work/Github/Python-fo-Natural-Language-Processing/Assignment/NLP-A6-Lets-Talk-with-Yourself/documents/CV _SachinMalego.pdf', 'page': 1, 'total_pages': 7, 'format': 'PDF 1.4', 'title': '', 'author': '', 'subject': '', 'keywords': '', 'creator': '', 'producer': 'macOS Version 15.1.1 (Build 24B91) Quartz PDFContext', 'creationDate': \"D:20241213042847Z00'00'\", 'modDate': \"D:20241213042847Z00'00'\", 'trapped': ''})"
      ]
     },
     "execution_count": 6,
     "metadata": {},
     "output_type": "execute_result"
    }
   ],
   "source": [
    "documents[1]"
   ]
  },
  {
   "cell_type": "markdown",
   "metadata": {},
   "source": [
    "##### **2.2 Document Transformers**\n",
    "\n",
    "This text splitter is the recommended one for generic text. It is parameterized by a list of characters. It tries to split on them in order until the chunks are small enough"
   ]
  },
  {
   "cell_type": "code",
   "execution_count": 7,
   "metadata": {},
   "outputs": [],
   "source": [
    "from langchain.text_splitter import RecursiveCharacterTextSplitter\n",
    "\n",
    "text_splitter = RecursiveCharacterTextSplitter(\n",
    "    chunk_size = 700,\n",
    "    chunk_overlap = 100\n",
    ")\n",
    "\n",
    "doc = text_splitter.split_documents(documents)"
   ]
  },
  {
   "cell_type": "code",
   "execution_count": 8,
   "metadata": {},
   "outputs": [
    {
     "data": {
      "text/plain": [
       "Document(page_content='offering assistance in information system design, data visualization, data security, and data \\nmanagement of Reconstruction portals.  \\n• \\nSupported the National Disaster Risk Reduction and Management Authority (NDRRMA) as a \\nconsultant in the design and development of Bipad portals, along with creating training and \\norientation packages.  \\n• \\nServed as Technical Lead for Asia Shelter Forum 2020 and Co-facilitator for Asia Shelter Forum \\n2021.  \\n  \\nOBJECTIVE  \\nTo leverage my extensive experience in Information Systems Design, Data Management, Data Science,  \\nAI, and Disaster Risk Reduction to contribute effectively as an Expert to the field. With a proven track', metadata={'source': '/Users/sachinmalego/Documents/AIT Course Works/02. Second Semester/02. AI-NLU/Lab Work/Github/Python-fo-Natural-Language-Processing/Assignment/NLP-A6-Lets-Talk-with-Yourself/documents/CV _SachinMalego.pdf', 'file_path': '/Users/sachinmalego/Documents/AIT Course Works/02. Second Semester/02. AI-NLU/Lab Work/Github/Python-fo-Natural-Language-Processing/Assignment/NLP-A6-Lets-Talk-with-Yourself/documents/CV _SachinMalego.pdf', 'page': 0, 'total_pages': 7, 'format': 'PDF 1.4', 'title': '', 'author': '', 'subject': '', 'keywords': '', 'creator': '', 'producer': 'macOS Version 15.1.1 (Build 24B91) Quartz PDFContext', 'creationDate': \"D:20241213042847Z00'00'\", 'modDate': \"D:20241213042847Z00'00'\", 'trapped': ''})"
      ]
     },
     "execution_count": 8,
     "metadata": {},
     "output_type": "execute_result"
    }
   ],
   "source": [
    "doc[1]"
   ]
  },
  {
   "cell_type": "code",
   "execution_count": 9,
   "metadata": {},
   "outputs": [
    {
     "data": {
      "text/plain": [
       "45"
      ]
     },
     "execution_count": 9,
     "metadata": {},
     "output_type": "execute_result"
    }
   ],
   "source": [
    "len(doc)"
   ]
  },
  {
   "cell_type": "markdown",
   "metadata": {},
   "source": [
    "##### **2.3 Text Embedding Models**\n",
    "Embeddings create a vector representation of a piece of text. This is useful because it means we can think about text in the vector space, and do things like semantic search where we look for pieces of text that are most similar in the vector space.\n",
    "\n",
    "*Note* Instructor Model : [Huggingface](gingface.co/hkunlp/instructor-base) | [Paper](https://arxiv.org/abs/2212.09741)"
   ]
  },
  {
   "cell_type": "code",
   "execution_count": 10,
   "metadata": {},
   "outputs": [
    {
     "name": "stdout",
     "output_type": "stream",
     "text": [
      "load INSTRUCTOR_Transformer\n",
      "max_seq_length  512\n"
     ]
    }
   ],
   "source": [
    "import warnings\n",
    "warnings.simplefilter(\"ignore\", FutureWarning)\n",
    "\n",
    "import torch\n",
    "from langchain_community.embeddings import HuggingFaceInstructEmbeddings\n",
    "\n",
    "model_name = 'hkunlp/instructor-base'\n",
    "\n",
    "embedding_model = HuggingFaceInstructEmbeddings(\n",
    "    model_name = model_name,\n",
    "    model_kwargs = {\"device\" : device}\n",
    ")"
   ]
  },
  {
   "cell_type": "markdown",
   "metadata": {},
   "source": [
    "##### **2.4 Vector Stores**\n",
    "\n",
    "One of the most common ways to store and search over unstructured data is to embed it and store the resulting embedding vectors, and then at query time to embed the unstructured query and retrieve the embedding vectors that are 'most similar' to the embedded query. A vector store takes care of storing embedded data and performing vector search for you."
   ]
  },
  {
   "cell_type": "code",
   "execution_count": 11,
   "metadata": {},
   "outputs": [],
   "source": [
    "#locate vectorstore\n",
    "vector_path = './vector-store'\n",
    "if not os.path.exists(vector_path):\n",
    "    os.makedirs(vector_path)\n",
    "    print('create path done')"
   ]
  },
  {
   "cell_type": "code",
   "execution_count": 12,
   "metadata": {},
   "outputs": [],
   "source": [
    "#save vector locally\n",
    "from langchain.vectorstores import FAISS\n",
    "\n",
    "vectordb = FAISS.from_documents(\n",
    "    documents = doc,\n",
    "    embedding = embedding_model\n",
    ")\n",
    "\n",
    "db_file_name = 'nlp_db'\n",
    "\n",
    "vectordb.save_local(\n",
    "    folder_path = os.path.join(vector_path, db_file_name),\n",
    "    index_name = 'nlp' #default index\n",
    ")"
   ]
  },
  {
   "cell_type": "markdown",
   "metadata": {},
   "source": [
    "##### **2.5 retrievers**\n",
    "A retriever is an interface that returns documents given an unstructured query. It is more general than a vector store. A retriever does not need to be able to store documents, only to return (or retrieve) them. Vector stores can be used as the backbone of a retriever, but there are other types of retrievers as well."
   ]
  },
  {
   "cell_type": "code",
   "execution_count": 13,
   "metadata": {},
   "outputs": [],
   "source": [
    "#calling vector from local\n",
    "vector_path = './vector-store'\n",
    "db_file_name = 'nlp_db'\n",
    "\n",
    "from langchain.vectorstores import FAISS\n",
    "\n",
    "vectordb = FAISS.load_local(\n",
    "    folder_path = os.path.join(vector_path, db_file_name),\n",
    "    embeddings = embedding_model,\n",
    "    index_name = 'nlp' #default index\n",
    ")   "
   ]
  },
  {
   "cell_type": "code",
   "execution_count": 14,
   "metadata": {},
   "outputs": [],
   "source": [
    "#ready to use\n",
    "retriever = vectordb.as_retriever()"
   ]
  },
  {
   "cell_type": "code",
   "execution_count": 15,
   "metadata": {},
   "outputs": [
    {
     "data": {
      "text/plain": [
       "[Document(page_content='record in technical leadership and consultancy roles, my aim is to drive digital transformation initiatives \\nand enhance organizational capabilities in utilizing data-driven strategies, artificial intelligence, and \\nmachine learning for impactful decision-making and sustainable development.  \\n  \\nPERSONAL DETAILS  \\nDate of Birth:  \\n23rd Dec 1988 A.D.  \\nGender:  \\nMale  \\nPermanent Address:  \\nAsan Tole, Tansen-2, Palpa, Nepal   \\nCurrent Address:  \\nAIT Thailand  \\nNationality:  \\nNepali  \\nLanguage Known:  \\nEnglish, Nepali  \\n  \\nPROFESSIONAL WORKING EXPERIENCE  \\nDate: July 08, 2018 – July 15, 2024 \\nJob Title: Information Management Officer - National', metadata={'source': '/Users/sachinmalego/Documents/AIT Course Works/02. Second Semester/02. AI-NLU/Lab Work/Github/Python-fo-Natural-Language-Processing/Assignment/NLP-A6-Lets-Talk-with-Yourself/documents/CV _SachinMalego.pdf', 'file_path': '/Users/sachinmalego/Documents/AIT Course Works/02. Second Semester/02. AI-NLU/Lab Work/Github/Python-fo-Natural-Language-Processing/Assignment/NLP-A6-Lets-Talk-with-Yourself/documents/CV _SachinMalego.pdf', 'page': 0, 'total_pages': 7, 'format': 'PDF 1.4', 'title': '', 'author': '', 'subject': '', 'keywords': '', 'creator': '', 'producer': 'macOS Version 15.1.1 (Build 24B91) Quartz PDFContext', 'creationDate': \"D:20241213042847Z00'00'\", 'modDate': \"D:20241213042847Z00'00'\", 'trapped': ''}),\n",
       " Document(page_content='• \\nUndertake any other duties assigned by the supervisor, demonstrating flexibility and \\nadaptability to contribute to various tasks and initiatives as needed.  \\n  \\nDate: July 08, 2018 - March 31, 2018', metadata={'source': '/Users/sachinmalego/Documents/AIT Course Works/02. Second Semester/02. AI-NLU/Lab Work/Github/Python-fo-Natural-Language-Processing/Assignment/NLP-A6-Lets-Talk-with-Yourself/documents/CV _SachinMalego.pdf', 'file_path': '/Users/sachinmalego/Documents/AIT Course Works/02. Second Semester/02. AI-NLU/Lab Work/Github/Python-fo-Natural-Language-Processing/Assignment/NLP-A6-Lets-Talk-with-Yourself/documents/CV _SachinMalego.pdf', 'page': 2, 'total_pages': 7, 'format': 'PDF 1.4', 'title': '', 'author': '', 'subject': '', 'keywords': '', 'creator': '', 'producer': 'macOS Version 15.1.1 (Build 24B91) Quartz PDFContext', 'creationDate': \"D:20241213042847Z00'00'\", 'modDate': \"D:20241213042847Z00'00'\", 'trapped': ''}),\n",
       " Document(page_content='Sachin Malego is an accomplished professional specializing in Information Systems Design, Data \\nScience, Artificial Intelligence, and Disaster Risk Reduction. Born on December 23, 1988, he has \\namassed extensive experience in the field, combining technical expertise with leadership roles in \\nnational and international projects. His career spans over a decade, with significant contributions \\nto data-driven decision-making and digital transformation initiatives. \\nWith an academic foundation rooted in technology and innovation, Sachin holds a Bachelor of \\nScience in Computer Science and Information Technology (B.Sc. CSIT) from St. Xavier’s', metadata={'source': '/Users/sachinmalego/Documents/AIT Course Works/02. Second Semester/02. AI-NLU/Lab Work/Github/Python-fo-Natural-Language-Processing/Assignment/NLP-A6-Lets-Talk-with-Yourself/documents/Profile_SachinMalego.pdf', 'file_path': '/Users/sachinmalego/Documents/AIT Course Works/02. Second Semester/02. AI-NLU/Lab Work/Github/Python-fo-Natural-Language-Processing/Assignment/NLP-A6-Lets-Talk-with-Yourself/documents/Profile_SachinMalego.pdf', 'page': 0, 'total_pages': 2, 'format': 'PDF 1.3', 'title': '', 'author': '', 'subject': '', 'keywords': '', 'creator': '', 'producer': 'macOS Version 15.3.2 (Build 24D81) Quartz PDFContext', 'creationDate': \"D:20250315142840Z00'00'\", 'modDate': \"D:20250315142840Z00'00'\", 'trapped': ''}),\n",
       " Document(page_content='• \\nKnowledge of Email, Internet, Social networking sites, etc.  \\n• \\nKnowledge of hardware and software installation, troubleshooting, and bugs fixing.  \\n• \\nKnowledge of GIS/Mapping and Google Maps API.  \\n• \\nKnowledge of Content Management System.  \\n• \\nKnowledge of Zoom Hosting and maintenance.  \\n  \\nPUBLICATION/RESEARCH WORK  \\n• \\nReport publication on “Urban Housing Recovery - July 2020” from HRRP, worked primarily on \\ncase analysis and visualization, and report publication.  \\n• \\nReport publication on “Impact of COVID-19 on Post-Earthquake Recovery and Reconstruction \\nJune 2020” from HRRP, worked primarily on data collection strategy, work division, data', metadata={'source': '/Users/sachinmalego/Documents/AIT Course Works/02. Second Semester/02. AI-NLU/Lab Work/Github/Python-fo-Natural-Language-Processing/Assignment/NLP-A6-Lets-Talk-with-Yourself/documents/CV _SachinMalego.pdf', 'file_path': '/Users/sachinmalego/Documents/AIT Course Works/02. Second Semester/02. AI-NLU/Lab Work/Github/Python-fo-Natural-Language-Processing/Assignment/NLP-A6-Lets-Talk-with-Yourself/documents/CV _SachinMalego.pdf', 'page': 5, 'total_pages': 7, 'format': 'PDF 1.4', 'title': '', 'author': '', 'subject': '', 'keywords': '', 'creator': '', 'producer': 'macOS Version 15.1.1 (Build 24B91) Quartz PDFContext', 'creationDate': \"D:20241213042847Z00'00'\", 'modDate': \"D:20241213042847Z00'00'\", 'trapped': ''})]"
      ]
     },
     "execution_count": 15,
     "metadata": {},
     "output_type": "execute_result"
    }
   ],
   "source": [
    "retriever.get_relevant_documents(\"How old are you?\")"
   ]
  },
  {
   "cell_type": "code",
   "execution_count": 16,
   "metadata": {},
   "outputs": [
    {
     "data": {
      "text/plain": [
       "[Document(page_content='(Division)  \\nM.Sc. DSAI \\nAIT \\nAsian Institute of Technology, \\nThailand \\nCurrent \\n \\nB.Sc. CSIT  \\nT.U.  \\nSt. Xavier’s College Maitighar,  \\nKathmandu  \\n2013 A.D.  \\n81.36%  \\n(Distinction)  \\n10+2  \\nHSEB  \\nMillennium H.S.S. Tansen, \\nPalpa  \\n2007 A.D.  \\n64.1%  \\n(Ist div.)  \\nS.L.C.  \\nHMG  \\nNew Horizon Eng. Bo. Sec. School \\nTansen, Palpa  \\n2005 A.D.  \\n71.37%  \\n(Ist div.)  \\n  \\nACADEMIC PROJECTS  \\n• \\nFinal year project entitled “ICT in SMART Energy for Sustainable Empowerment” as per the \\nrequirement for the partial fulfillment of B.Sc. CSIT degree.  \\n• \\nMini project on Database entitled “Vehicle Registration System” as per the requirement for the \\npartial fulfillment of B.Sc. CSIT degree.  \\n•', metadata={'source': '/Users/sachinmalego/Documents/AIT Course Works/02. Second Semester/02. AI-NLU/Lab Work/Github/Python-fo-Natural-Language-Processing/Assignment/NLP-A6-Lets-Talk-with-Yourself/documents/CV _SachinMalego.pdf', 'file_path': '/Users/sachinmalego/Documents/AIT Course Works/02. Second Semester/02. AI-NLU/Lab Work/Github/Python-fo-Natural-Language-Processing/Assignment/NLP-A6-Lets-Talk-with-Yourself/documents/CV _SachinMalego.pdf', 'page': 4, 'total_pages': 7, 'format': 'PDF 1.4', 'title': '', 'author': '', 'subject': '', 'keywords': '', 'creator': '', 'producer': 'macOS Version 15.1.1 (Build 24B91) Quartz PDFContext', 'creationDate': \"D:20241213042847Z00'00'\", 'modDate': \"D:20241213042847Z00'00'\", 'trapped': ''}),\n",
       " Document(page_content=\"Science in Computer Science and Information Technology (B.Sc. CSIT) from St. Xavier’s \\nCollege, Maitighar, Kathmandu, where he graduated with distinction, securing 81.36%. Currently, \\nhe is pursuing a Master of Science in Data Science and Artificial Intelligence at the Asian Institute \\nof Technology (AIT), Thailand, further expanding his expertise in AI, predictive analytics, and \\ndata-driven solutions. \\nSachin's professional experience is marked by his tenure as an Information Management Officer \\nat the National Disaster Risk Reduction and Management Authority (NDRRMA) under the \\nGovernment of Nepal from 2018 to 2024. His role involved designing and managing critical\", metadata={'source': '/Users/sachinmalego/Documents/AIT Course Works/02. Second Semester/02. AI-NLU/Lab Work/Github/Python-fo-Natural-Language-Processing/Assignment/NLP-A6-Lets-Talk-with-Yourself/documents/Profile_SachinMalego.pdf', 'file_path': '/Users/sachinmalego/Documents/AIT Course Works/02. Second Semester/02. AI-NLU/Lab Work/Github/Python-fo-Natural-Language-Processing/Assignment/NLP-A6-Lets-Talk-with-Yourself/documents/Profile_SachinMalego.pdf', 'page': 0, 'total_pages': 2, 'format': 'PDF 1.3', 'title': '', 'author': '', 'subject': '', 'keywords': '', 'creator': '', 'producer': 'macOS Version 15.3.2 (Build 24D81) Quartz PDFContext', 'creationDate': \"D:20250315142840Z00'00'\", 'modDate': \"D:20250315142840Z00'00'\", 'trapped': ''}),\n",
       " Document(page_content='Sachin Malego is an accomplished professional specializing in Information Systems Design, Data \\nScience, Artificial Intelligence, and Disaster Risk Reduction. Born on December 23, 1988, he has \\namassed extensive experience in the field, combining technical expertise with leadership roles in \\nnational and international projects. His career spans over a decade, with significant contributions \\nto data-driven decision-making and digital transformation initiatives. \\nWith an academic foundation rooted in technology and innovation, Sachin holds a Bachelor of \\nScience in Computer Science and Information Technology (B.Sc. CSIT) from St. Xavier’s', metadata={'source': '/Users/sachinmalego/Documents/AIT Course Works/02. Second Semester/02. AI-NLU/Lab Work/Github/Python-fo-Natural-Language-Processing/Assignment/NLP-A6-Lets-Talk-with-Yourself/documents/Profile_SachinMalego.pdf', 'file_path': '/Users/sachinmalego/Documents/AIT Course Works/02. Second Semester/02. AI-NLU/Lab Work/Github/Python-fo-Natural-Language-Processing/Assignment/NLP-A6-Lets-Talk-with-Yourself/documents/Profile_SachinMalego.pdf', 'page': 0, 'total_pages': 2, 'format': 'PDF 1.3', 'title': '', 'author': '', 'subject': '', 'keywords': '', 'creator': '', 'producer': 'macOS Version 15.3.2 (Build 24D81) Quartz PDFContext', 'creationDate': \"D:20250315142840Z00'00'\", 'modDate': \"D:20250315142840Z00'00'\", 'trapped': ''}),\n",
       " Document(page_content='record in technical leadership and consultancy roles, my aim is to drive digital transformation initiatives \\nand enhance organizational capabilities in utilizing data-driven strategies, artificial intelligence, and \\nmachine learning for impactful decision-making and sustainable development.  \\n  \\nPERSONAL DETAILS  \\nDate of Birth:  \\n23rd Dec 1988 A.D.  \\nGender:  \\nMale  \\nPermanent Address:  \\nAsan Tole, Tansen-2, Palpa, Nepal   \\nCurrent Address:  \\nAIT Thailand  \\nNationality:  \\nNepali  \\nLanguage Known:  \\nEnglish, Nepali  \\n  \\nPROFESSIONAL WORKING EXPERIENCE  \\nDate: July 08, 2018 – July 15, 2024 \\nJob Title: Information Management Officer - National', metadata={'source': '/Users/sachinmalego/Documents/AIT Course Works/02. Second Semester/02. AI-NLU/Lab Work/Github/Python-fo-Natural-Language-Processing/Assignment/NLP-A6-Lets-Talk-with-Yourself/documents/CV _SachinMalego.pdf', 'file_path': '/Users/sachinmalego/Documents/AIT Course Works/02. Second Semester/02. AI-NLU/Lab Work/Github/Python-fo-Natural-Language-Processing/Assignment/NLP-A6-Lets-Talk-with-Yourself/documents/CV _SachinMalego.pdf', 'page': 0, 'total_pages': 7, 'format': 'PDF 1.4', 'title': '', 'author': '', 'subject': '', 'keywords': '', 'creator': '', 'producer': 'macOS Version 15.1.1 (Build 24B91) Quartz PDFContext', 'creationDate': \"D:20241213042847Z00'00'\", 'modDate': \"D:20241213042847Z00'00'\", 'trapped': ''})]"
      ]
     },
     "execution_count": 16,
     "metadata": {},
     "output_type": "execute_result"
    }
   ],
   "source": [
    "retriever.get_relevant_documents(\"What is your highest level of education?\")"
   ]
  },
  {
   "cell_type": "markdown",
   "metadata": {},
   "source": [
    "##### **3. Memory**\n",
    "\n",
    "One of the core utility classes underpinning most (if not all) memory modules is the ChatMessageHistory class. This is a super lightweight wrapper that provides convenience methods for saving HumanMessages, AIMessages, and then fetching them all.\n",
    "\n",
    "You may want to use this class directly if you are managing memory outside of a chain.\n"
   ]
  },
  {
   "cell_type": "code",
   "execution_count": 17,
   "metadata": {},
   "outputs": [
    {
     "data": {
      "text/plain": [
       "ChatMessageHistory(messages=[])"
      ]
     },
     "execution_count": 17,
     "metadata": {},
     "output_type": "execute_result"
    }
   ],
   "source": [
    "from langchain.memory import ChatMessageHistory\n",
    "\n",
    "history = ChatMessageHistory()\n",
    "history"
   ]
  },
  {
   "cell_type": "code",
   "execution_count": 18,
   "metadata": {},
   "outputs": [],
   "source": [
    "history.add_user_message('hi')\n",
    "history.add_ai_message('Whats up?')\n",
    "history.add_user_message('How are you')\n",
    "history.add_ai_message('I\\'m quite good. How about you?')\n",
    "history.add_user_message('I\\'m fine')\n",
    "history.add_ai_message('That\\'s good to hear')\n",
    "history.add_user_message('Bye')\n",
    "history.add_ai_message('Bye')"
   ]
  },
  {
   "cell_type": "code",
   "execution_count": 19,
   "metadata": {},
   "outputs": [
    {
     "data": {
      "text/plain": [
       "ChatMessageHistory(messages=[HumanMessage(content='hi'), AIMessage(content='Whats up?'), HumanMessage(content='How are you'), AIMessage(content=\"I'm quite good. How about you?\"), HumanMessage(content=\"I'm fine\"), AIMessage(content=\"That's good to hear\"), HumanMessage(content='Bye'), AIMessage(content='Bye')])"
      ]
     },
     "execution_count": 19,
     "metadata": {},
     "output_type": "execute_result"
    }
   ],
   "source": [
    "history"
   ]
  },
  {
   "cell_type": "markdown",
   "metadata": {},
   "source": [
    "##### **3.1 Memory types**\n",
    "\n",
    "There are many different types of memory. Each has their own parameters, their own return types, and is useful in different scenarios. \n",
    "- Converstaion Buffer\n",
    "- Converstaion Buffer Window\n",
    "  \n",
    "**What variables get returned from memory?**\n",
    "\n",
    "Before going into the chain, various variables are read from memory. These have specific names which need to align with the variables the chain expects. You can see what these variables are by calling memory.load_memory_variables({}). Note that the empty dictionary that we pass in is just a placeholder for real variables. If the memory type you are using is dependent upon the input variables, you may need to pass some in.\n",
    "\n",
    "In this case, you can see that load_memory_variables returns a single key, history. This means that your chain (and likely your prompt) should expect an input named history. You can usually control this variable through parameters on the memory class. For example, if you want the memory variables to be returned in the key chat_history you can do.\n",
    "\n",
    "##### **Converstaion Buffer**\n",
    "This memory allows for storing messages and then extracts the messages in a variable."
   ]
  },
  {
   "cell_type": "code",
   "execution_count": 20,
   "metadata": {},
   "outputs": [
    {
     "data": {
      "text/plain": [
       "{'history': \"Human: hi\\nAI: What's up?\\nHuman: How are you?\\nAI: I'm quite good. How about you?\"}"
      ]
     },
     "execution_count": 20,
     "metadata": {},
     "output_type": "execute_result"
    }
   ],
   "source": [
    "from langchain.memory import ConversationBufferMemory\n",
    "\n",
    "memory = ConversationBufferMemory()\n",
    "memory.save_context({'input':'hi'}, {'output':'What\\'s up?'})\n",
    "memory.save_context({\"input\":'How are you?'},{'output': 'I\\'m quite good. How about you?'})\n",
    "memory.load_memory_variables({})"
   ]
  },
  {
   "cell_type": "code",
   "execution_count": 21,
   "metadata": {},
   "outputs": [
    {
     "data": {
      "text/plain": [
       "{'history': [HumanMessage(content='hi'),\n",
       "  AIMessage(content=\"What's up?\"),\n",
       "  HumanMessage(content='How are you?'),\n",
       "  AIMessage(content=\"I'm quite good. How about you?\")]}"
      ]
     },
     "execution_count": 21,
     "metadata": {},
     "output_type": "execute_result"
    }
   ],
   "source": [
    "from langchain.memory import ConversationBufferMemory\n",
    "\n",
    "memory = ConversationBufferMemory(return_messages = True)\n",
    "memory.save_context({'input':'hi'}, {'output':'What\\'s up?'})\n",
    "memory.save_context({\"input\":'How are you?'},{'output': 'I\\'m quite good. How about you?'})\n",
    "memory.load_memory_variables({})"
   ]
  },
  {
   "cell_type": "markdown",
   "metadata": {},
   "source": [
    "##### **Conversation Buffer Window**\n",
    "- it keeps a list of the interactions of the conversation over time. \n",
    "- it only uses the last K interactions. \n",
    "- it can be useful for keeping a sliding window of the most recent interactions, so the buffer does not get too large."
   ]
  },
  {
   "cell_type": "code",
   "execution_count": 22,
   "metadata": {},
   "outputs": [
    {
     "data": {
      "text/plain": [
       "{'history': \"Human: How are you?\\nAI: I'm quite good. How about you?\"}"
      ]
     },
     "execution_count": 22,
     "metadata": {},
     "output_type": "execute_result"
    }
   ],
   "source": [
    "from langchain.memory import ConversationBufferWindowMemory\n",
    "\n",
    "memory = ConversationBufferWindowMemory(k=1)\n",
    "memory.save_context({'input':'hi'}, {'output':'What\\'s up?'})\n",
    "memory.save_context({\"input\":'How are you?'},{'output': 'I\\'m quite good. How about you?'})\n",
    "memory.load_memory_variables({})"
   ]
  },
  {
   "cell_type": "markdown",
   "metadata": {},
   "source": [
    "##### **4. Chain**\n",
    "\n",
    "Using an LLM in isolation is fine for simple applications, but more complex applications require chaining LLMs - either with each other or with other components.\n",
    "\n",
    "An `LLMChain` is a simple chain that adds some functionality around language models.\n",
    "- it consists of a `PromptTemplate` and a `LM` (either an LLM or chat model).\n",
    "- it formats the prompt template using the input key values provided (and also memory key values, if available), \n",
    "- it passes the formatted string to LLM and returns the LLM output.\n",
    "\n",
    "Note : [Download Fastchat Model Here](https://huggingface.co/lmsys/fastchat-t5-3b-v1.0)"
   ]
  },
  {
   "cell_type": "code",
   "execution_count": 23,
   "metadata": {},
   "outputs": [],
   "source": [
    "#%cd /Users/sachinmalego/Documents/AIT Course Works/02. Second Semester/02. AI-NLU/Lab Work/Github/Python-fo-Natural-Language-Processing/Code/06 - RAG/code-along/models\n",
    "#!git clone https://huggingface.co/lmsys/fastchat-t5-3b-v1.0"
   ]
  },
  {
   "cell_type": "code",
   "execution_count": 24,
   "metadata": {},
   "outputs": [
    {
     "name": "stderr",
     "output_type": "stream",
     "text": [
      "You are using the default legacy behaviour of the <class 'transformers.models.t5.tokenization_t5.T5Tokenizer'>. This is expected, and simply means that the `legacy` (previous) behavior will be used so nothing changes for you. If you want to use the new behaviour, set `legacy=False`. This should only be set if you understand what it means, and thouroughly read the reason why this was added as explained in https://github.com/huggingface/transformers/pull/24565\n",
      "Special tokens have been added in the vocabulary, make sure the associated word embeddings are fine-tuned or trained.\n",
      "Special tokens have been added in the vocabulary, make sure the associated word embeddings are fine-tuned or trained.\n"
     ]
    }
   ],
   "source": [
    "from transformers import AutoTokenizer, pipeline, AutoModelForSeq2SeqLM\n",
    "from transformers import BitsAndBytesConfig\n",
    "from langchain import HuggingFacePipeline\n",
    "import torch\n",
    "\n",
    "model_id = '/Users/sachinmalego/Documents/AIT Course Works/02. Second Semester/02. AI-NLU/Lab Work/Github/Python-fo-Natural-Language-Processing/Assignment/NLP-A6-Lets-Talk-with-Yourself/models/fastchat-t5-3b-v1.0'\n",
    "\n",
    "tokenizer = AutoTokenizer.from_pretrained(\n",
    "    model_id)\n",
    "\n",
    "tokenizer.pad_token_id = tokenizer.eos_token_id\n",
    "\n",
    "bitsandbyte_config = BitsAndBytesConfig(\n",
    "    load_in_4bit = True,\n",
    "    bnb_4bit_quant_type = \"nf4\",\n",
    "    bnb_4bit_compute_dtype = torch.float16,\n",
    "    bnb_4bit_use_double_quant = True\n",
    ")\n",
    "\n",
    "model = AutoModelForSeq2SeqLM.from_pretrained(\n",
    "    model_id,\n",
    "    #quantization_config = bitsandbyte_config, #caution Nvidia\n",
    "    #device_map = 'auto',\n",
    "    torch_dtype=torch.float16,\n",
    "    device_map={\"\": device}\n",
    "    #load_in_8bit = True\n",
    ")\n",
    "\n",
    "pipe = pipeline(\n",
    "    task=\"text2text-generation\",\n",
    "    model=model,\n",
    "    tokenizer=tokenizer,\n",
    "    max_new_tokens = 256,\n",
    "    model_kwargs = {\n",
    "        \"temperature\" : 0,\n",
    "        \"repetition_penalty\": 1.5\n",
    "    }\n",
    ")\n",
    "\n",
    "llm = HuggingFacePipeline(pipeline = pipe)"
   ]
  },
  {
   "cell_type": "markdown",
   "metadata": {},
   "source": [
    "##### **[Class ConversationalRetrievalChain](https://api.python.langchain.com/en/latest/_modules/langchain/chains/conversational_retrieval/base.html#ConversationalRetrievalChain)**\n",
    "\n",
    "- `retriever` : Retriever to use to fetch documents.\n",
    "\n",
    "- `combine_docs_chain` : The chain used to combine any retrieved documents.\n",
    "\n",
    "- `question_generator`: The chain used to generate a new question for the sake of retrieval. This chain will take in the current question (with variable question) and any chat history (with variable chat_history) and will produce a new standalone question to be used later on.\n",
    "\n",
    "- `return_source_documents` : Return the retrieved source documents as part of the final result.\n",
    "\n",
    "- `get_chat_history` : An optional function to get a string of the chat history. If None is provided, will use a default.\n",
    "\n",
    "- `return_generated_question` : Return the generated question as part of the final result.\n",
    "\n",
    "- `response_if_no_docs_found` : If specified, the chain will return a fixed response if no docs are found for the question.\n"
   ]
  },
  {
   "cell_type": "markdown",
   "metadata": {},
   "source": [
    "##### **Question Generator**"
   ]
  },
  {
   "cell_type": "code",
   "execution_count": 25,
   "metadata": {},
   "outputs": [],
   "source": [
    "from langchain.chains import LLMChain\n",
    "from langchain.chains.conversational_retrieval.prompts import CONDENSE_QUESTION_PROMPT\n",
    "from langchain.memory import ConversationBufferWindowMemory\n",
    "from langchain.chains.question_answering import load_qa_chain\n",
    "from langchain.chains import ConversationalRetrievalChain"
   ]
  },
  {
   "cell_type": "code",
   "execution_count": 26,
   "metadata": {},
   "outputs": [
    {
     "data": {
      "text/plain": [
       "PromptTemplate(input_variables=['chat_history', 'question'], template='Given the following conversation and a follow up question, rephrase the follow up question to be a standalone question, in its original language.\\n\\nChat History:\\n{chat_history}\\nFollow Up Input: {question}\\nStandalone question:')"
      ]
     },
     "execution_count": 26,
     "metadata": {},
     "output_type": "execute_result"
    }
   ],
   "source": [
    "CONDENSE_QUESTION_PROMPT"
   ]
  },
  {
   "cell_type": "code",
   "execution_count": 27,
   "metadata": {},
   "outputs": [],
   "source": [
    "question_generator = LLMChain(\n",
    "    llm = llm,\n",
    "    prompt = CONDENSE_QUESTION_PROMPT,\n",
    "    verbose = True\n",
    ")"
   ]
  },
  {
   "cell_type": "code",
   "execution_count": 28,
   "metadata": {},
   "outputs": [
    {
     "name": "stdout",
     "output_type": "stream",
     "text": [
      "\n",
      "\n",
      "\u001b[1m> Entering new LLMChain chain...\u001b[0m\n",
      "Prompt after formatting:\n",
      "\u001b[32;1m\u001b[1;3mGiven the following conversation and a follow up question, rephrase the follow up question to be a standalone question, in its original language.\n",
      "\n",
      "Chat History:\n",
      "Human:How old are you?\n",
      "AI:\n",
      "Human:What is your Date of Birth?\n",
      "AI:\n",
      "Follow Up Input: Comparing both of them\n",
      "Standalone question:\u001b[0m\n",
      "\n",
      "\u001b[1m> Finished chain.\u001b[0m\n"
     ]
    },
    {
     "data": {
      "text/plain": [
       "{'chat_history': 'Human:How old are you?\\nAI:\\nHuman:What is your Date of Birth?\\nAI:',\n",
       " 'question': 'Comparing both of them',\n",
       " 'text': '<pad> What  is  your  Date  of  Birth?\\n'}"
      ]
     },
     "execution_count": 28,
     "metadata": {},
     "output_type": "execute_result"
    }
   ],
   "source": [
    "query = 'Comparing both of them'\n",
    "chat_history = \"Human:How old are you?\\nAI:\\nHuman:What is your Date of Birth?\\nAI:\"\n",
    "\n",
    "question_generator({'chat_history' : chat_history, \"question\" : query})"
   ]
  },
  {
   "cell_type": "markdown",
   "metadata": {},
   "source": [
    "#### **Combined Docs Chain**"
   ]
  },
  {
   "cell_type": "code",
   "execution_count": 29,
   "metadata": {},
   "outputs": [
    {
     "data": {
      "text/plain": [
       "StuffDocumentsChain(verbose=True, llm_chain=LLMChain(verbose=True, prompt=PromptTemplate(input_variables=['context', 'question'], template=\"Hi! I am an AI - RAGBot assistant that answers questions about the user based on the available documents. \\n    I ensure responses are accurate and cite relevant sources.\\n    I'll be sure to answer you to the best of my ability!!\\n    Context: {context}\\n    Question: {question}\\n    Answer:\"), llm=HuggingFacePipeline(pipeline=<transformers.pipelines.text2text_generation.Text2TextGenerationPipeline object at 0x35120e8e0>)), document_variable_name='context')"
      ]
     },
     "execution_count": 29,
     "metadata": {},
     "output_type": "execute_result"
    }
   ],
   "source": [
    "doc_chain = load_qa_chain(\n",
    "    llm = llm,\n",
    "    chain_type = 'stuff',\n",
    "    prompt = PROMPT,\n",
    "    verbose = True\n",
    ")\n",
    "doc_chain"
   ]
  },
  {
   "cell_type": "code",
   "execution_count": 30,
   "metadata": {},
   "outputs": [
    {
     "name": "stdout",
     "output_type": "stream",
     "text": [
      "\n",
      "\n",
      "\u001b[1m> Entering new StuffDocumentsChain chain...\u001b[0m\n",
      "\n",
      "\n",
      "\u001b[1m> Entering new LLMChain chain...\u001b[0m\n",
      "Prompt after formatting:\n",
      "\u001b[32;1m\u001b[1;3mHi! I am an AI - RAGBot assistant that answers questions about the user based on the available documents. \n",
      "    I ensure responses are accurate and cite relevant sources.\n",
      "    I'll be sure to answer you to the best of my ability!!\n",
      "    Context: record in technical leadership and consultancy roles, my aim is to drive digital transformation initiatives \n",
      "and enhance organizational capabilities in utilizing data-driven strategies, artificial intelligence, and \n",
      "machine learning for impactful decision-making and sustainable development.  \n",
      "  \n",
      "PERSONAL DETAILS  \n",
      "Date of Birth:  \n",
      "23rd Dec 1988 A.D.  \n",
      "Gender:  \n",
      "Male  \n",
      "Permanent Address:  \n",
      "Asan Tole, Tansen-2, Palpa, Nepal   \n",
      "Current Address:  \n",
      "AIT Thailand  \n",
      "Nationality:  \n",
      "Nepali  \n",
      "Language Known:  \n",
      "English, Nepali  \n",
      "  \n",
      "PROFESSIONAL WORKING EXPERIENCE  \n",
      "Date: July 08, 2018 – July 15, 2024 \n",
      "Job Title: Information Management Officer - National\n",
      "\n",
      "• \n",
      "Undertake any other duties assigned by the supervisor, demonstrating flexibility and \n",
      "adaptability to contribute to various tasks and initiatives as needed.  \n",
      "  \n",
      "Date: July 08, 2018 - March 31, 2018\n",
      "\n",
      "Sachin Malego is an accomplished professional specializing in Information Systems Design, Data \n",
      "Science, Artificial Intelligence, and Disaster Risk Reduction. Born on December 23, 1988, he has \n",
      "amassed extensive experience in the field, combining technical expertise with leadership roles in \n",
      "national and international projects. His career spans over a decade, with significant contributions \n",
      "to data-driven decision-making and digital transformation initiatives. \n",
      "With an academic foundation rooted in technology and innovation, Sachin holds a Bachelor of \n",
      "Science in Computer Science and Information Technology (B.Sc. CSIT) from St. Xavier’s\n",
      "\n",
      "Science in Computer Science and Information Technology (B.Sc. CSIT) from St. Xavier’s \n",
      "College, Maitighar, Kathmandu, where he graduated with distinction, securing 81.36%. Currently, \n",
      "he is pursuing a Master of Science in Data Science and Artificial Intelligence at the Asian Institute \n",
      "of Technology (AIT), Thailand, further expanding his expertise in AI, predictive analytics, and \n",
      "data-driven solutions. \n",
      "Sachin's professional experience is marked by his tenure as an Information Management Officer \n",
      "at the National Disaster Risk Reduction and Management Authority (NDRRMA) under the \n",
      "Government of Nepal from 2018 to 2024. His role involved designing and managing critical\n",
      "    Question: What is your age?\n",
      "    Answer:\u001b[0m\n",
      "\n",
      "\u001b[1m> Finished chain.\u001b[0m\n",
      "\n",
      "\u001b[1m> Finished chain.\u001b[0m\n"
     ]
    },
    {
     "data": {
      "text/plain": [
       "{'input_documents': [Document(page_content='record in technical leadership and consultancy roles, my aim is to drive digital transformation initiatives \\nand enhance organizational capabilities in utilizing data-driven strategies, artificial intelligence, and \\nmachine learning for impactful decision-making and sustainable development.  \\n  \\nPERSONAL DETAILS  \\nDate of Birth:  \\n23rd Dec 1988 A.D.  \\nGender:  \\nMale  \\nPermanent Address:  \\nAsan Tole, Tansen-2, Palpa, Nepal   \\nCurrent Address:  \\nAIT Thailand  \\nNationality:  \\nNepali  \\nLanguage Known:  \\nEnglish, Nepali  \\n  \\nPROFESSIONAL WORKING EXPERIENCE  \\nDate: July 08, 2018 – July 15, 2024 \\nJob Title: Information Management Officer - National', metadata={'source': '/Users/sachinmalego/Documents/AIT Course Works/02. Second Semester/02. AI-NLU/Lab Work/Github/Python-fo-Natural-Language-Processing/Assignment/NLP-A6-Lets-Talk-with-Yourself/documents/CV _SachinMalego.pdf', 'file_path': '/Users/sachinmalego/Documents/AIT Course Works/02. Second Semester/02. AI-NLU/Lab Work/Github/Python-fo-Natural-Language-Processing/Assignment/NLP-A6-Lets-Talk-with-Yourself/documents/CV _SachinMalego.pdf', 'page': 0, 'total_pages': 7, 'format': 'PDF 1.4', 'title': '', 'author': '', 'subject': '', 'keywords': '', 'creator': '', 'producer': 'macOS Version 15.1.1 (Build 24B91) Quartz PDFContext', 'creationDate': \"D:20241213042847Z00'00'\", 'modDate': \"D:20241213042847Z00'00'\", 'trapped': ''}),\n",
       "  Document(page_content='• \\nUndertake any other duties assigned by the supervisor, demonstrating flexibility and \\nadaptability to contribute to various tasks and initiatives as needed.  \\n  \\nDate: July 08, 2018 - March 31, 2018', metadata={'source': '/Users/sachinmalego/Documents/AIT Course Works/02. Second Semester/02. AI-NLU/Lab Work/Github/Python-fo-Natural-Language-Processing/Assignment/NLP-A6-Lets-Talk-with-Yourself/documents/CV _SachinMalego.pdf', 'file_path': '/Users/sachinmalego/Documents/AIT Course Works/02. Second Semester/02. AI-NLU/Lab Work/Github/Python-fo-Natural-Language-Processing/Assignment/NLP-A6-Lets-Talk-with-Yourself/documents/CV _SachinMalego.pdf', 'page': 2, 'total_pages': 7, 'format': 'PDF 1.4', 'title': '', 'author': '', 'subject': '', 'keywords': '', 'creator': '', 'producer': 'macOS Version 15.1.1 (Build 24B91) Quartz PDFContext', 'creationDate': \"D:20241213042847Z00'00'\", 'modDate': \"D:20241213042847Z00'00'\", 'trapped': ''}),\n",
       "  Document(page_content='Sachin Malego is an accomplished professional specializing in Information Systems Design, Data \\nScience, Artificial Intelligence, and Disaster Risk Reduction. Born on December 23, 1988, he has \\namassed extensive experience in the field, combining technical expertise with leadership roles in \\nnational and international projects. His career spans over a decade, with significant contributions \\nto data-driven decision-making and digital transformation initiatives. \\nWith an academic foundation rooted in technology and innovation, Sachin holds a Bachelor of \\nScience in Computer Science and Information Technology (B.Sc. CSIT) from St. Xavier’s', metadata={'source': '/Users/sachinmalego/Documents/AIT Course Works/02. Second Semester/02. AI-NLU/Lab Work/Github/Python-fo-Natural-Language-Processing/Assignment/NLP-A6-Lets-Talk-with-Yourself/documents/Profile_SachinMalego.pdf', 'file_path': '/Users/sachinmalego/Documents/AIT Course Works/02. Second Semester/02. AI-NLU/Lab Work/Github/Python-fo-Natural-Language-Processing/Assignment/NLP-A6-Lets-Talk-with-Yourself/documents/Profile_SachinMalego.pdf', 'page': 0, 'total_pages': 2, 'format': 'PDF 1.3', 'title': '', 'author': '', 'subject': '', 'keywords': '', 'creator': '', 'producer': 'macOS Version 15.3.2 (Build 24D81) Quartz PDFContext', 'creationDate': \"D:20250315142840Z00'00'\", 'modDate': \"D:20250315142840Z00'00'\", 'trapped': ''}),\n",
       "  Document(page_content=\"Science in Computer Science and Information Technology (B.Sc. CSIT) from St. Xavier’s \\nCollege, Maitighar, Kathmandu, where he graduated with distinction, securing 81.36%. Currently, \\nhe is pursuing a Master of Science in Data Science and Artificial Intelligence at the Asian Institute \\nof Technology (AIT), Thailand, further expanding his expertise in AI, predictive analytics, and \\ndata-driven solutions. \\nSachin's professional experience is marked by his tenure as an Information Management Officer \\nat the National Disaster Risk Reduction and Management Authority (NDRRMA) under the \\nGovernment of Nepal from 2018 to 2024. His role involved designing and managing critical\", metadata={'source': '/Users/sachinmalego/Documents/AIT Course Works/02. Second Semester/02. AI-NLU/Lab Work/Github/Python-fo-Natural-Language-Processing/Assignment/NLP-A6-Lets-Talk-with-Yourself/documents/Profile_SachinMalego.pdf', 'file_path': '/Users/sachinmalego/Documents/AIT Course Works/02. Second Semester/02. AI-NLU/Lab Work/Github/Python-fo-Natural-Language-Processing/Assignment/NLP-A6-Lets-Talk-with-Yourself/documents/Profile_SachinMalego.pdf', 'page': 0, 'total_pages': 2, 'format': 'PDF 1.3', 'title': '', 'author': '', 'subject': '', 'keywords': '', 'creator': '', 'producer': 'macOS Version 15.3.2 (Build 24D81) Quartz PDFContext', 'creationDate': \"D:20250315142840Z00'00'\", 'modDate': \"D:20250315142840Z00'00'\", 'trapped': ''})],\n",
       " 'question': 'What is your age?',\n",
       " 'output_text': '<pad>  I  am  an  AI  -  RAGBot  assistant  and  do  not  have  a  physical  age.  My  age  is  based  on  the  information  provided  in  the  document  and  is  not  a  personal  age  of  the  user.\\n'}"
      ]
     },
     "execution_count": 30,
     "metadata": {},
     "output_type": "execute_result"
    }
   ],
   "source": [
    "query = \"What is your age?\"\n",
    "input_document = retriever.get_relevant_documents(query)\n",
    "\n",
    "doc_chain({'input_documents':input_document, 'question':query})"
   ]
  },
  {
   "cell_type": "code",
   "execution_count": 31,
   "metadata": {},
   "outputs": [
    {
     "data": {
      "text/plain": [
       "ConversationalRetrievalChain(memory=ConversationBufferWindowMemory(output_key='answer', return_messages=True, memory_key='chat_history', k=3), verbose=True, combine_docs_chain=StuffDocumentsChain(verbose=True, llm_chain=LLMChain(verbose=True, prompt=PromptTemplate(input_variables=['context', 'question'], template=\"Hi! I am an AI - RAGBot assistant that answers questions about the user based on the available documents. \\n    I ensure responses are accurate and cite relevant sources.\\n    I'll be sure to answer you to the best of my ability!!\\n    Context: {context}\\n    Question: {question}\\n    Answer:\"), llm=HuggingFacePipeline(pipeline=<transformers.pipelines.text2text_generation.Text2TextGenerationPipeline object at 0x35120e8e0>)), document_variable_name='context'), question_generator=LLMChain(verbose=True, prompt=PromptTemplate(input_variables=['chat_history', 'question'], template='Given the following conversation and a follow up question, rephrase the follow up question to be a standalone question, in its original language.\\n\\nChat History:\\n{chat_history}\\nFollow Up Input: {question}\\nStandalone question:'), llm=HuggingFacePipeline(pipeline=<transformers.pipelines.text2text_generation.Text2TextGenerationPipeline object at 0x35120e8e0>)), return_source_documents=True, get_chat_history=<function <lambda> at 0x35214ff70>, retriever=VectorStoreRetriever(tags=['FAISS', 'HuggingFaceInstructEmbeddings'], vectorstore=<langchain_community.vectorstores.faiss.FAISS object at 0x31eb97160>))"
      ]
     },
     "execution_count": 31,
     "metadata": {},
     "output_type": "execute_result"
    }
   ],
   "source": [
    "memory = ConversationBufferWindowMemory(\n",
    "    k=3, \n",
    "    memory_key = \"chat_history\",\n",
    "    return_messages = True,\n",
    "    output_key = 'answer'\n",
    ")\n",
    "\n",
    "chain = ConversationalRetrievalChain(\n",
    "    retriever=retriever,\n",
    "    question_generator=question_generator,\n",
    "    combine_docs_chain=doc_chain,\n",
    "    return_source_documents=True,\n",
    "    memory=memory,\n",
    "    verbose=True,\n",
    "    get_chat_history=lambda h : h\n",
    ")\n",
    "chain"
   ]
  },
  {
   "cell_type": "code",
   "execution_count": 32,
   "metadata": {},
   "outputs": [
    {
     "name": "stdout",
     "output_type": "stream",
     "text": [
      "\n",
      "\n",
      "\u001b[1m> Entering new ConversationalRetrievalChain chain...\u001b[0m\n",
      "\n",
      "\n",
      "\u001b[1m> Entering new StuffDocumentsChain chain...\u001b[0m\n",
      "\n",
      "\n",
      "\u001b[1m> Entering new LLMChain chain...\u001b[0m\n",
      "Prompt after formatting:\n",
      "\u001b[32;1m\u001b[1;3mHi! I am an AI - RAGBot assistant that answers questions about the user based on the available documents. \n",
      "    I ensure responses are accurate and cite relevant sources.\n",
      "    I'll be sure to answer you to the best of my ability!!\n",
      "    Context: record in technical leadership and consultancy roles, my aim is to drive digital transformation initiatives \n",
      "and enhance organizational capabilities in utilizing data-driven strategies, artificial intelligence, and \n",
      "machine learning for impactful decision-making and sustainable development.  \n",
      "  \n",
      "PERSONAL DETAILS  \n",
      "Date of Birth:  \n",
      "23rd Dec 1988 A.D.  \n",
      "Gender:  \n",
      "Male  \n",
      "Permanent Address:  \n",
      "Asan Tole, Tansen-2, Palpa, Nepal   \n",
      "Current Address:  \n",
      "AIT Thailand  \n",
      "Nationality:  \n",
      "Nepali  \n",
      "Language Known:  \n",
      "English, Nepali  \n",
      "  \n",
      "PROFESSIONAL WORKING EXPERIENCE  \n",
      "Date: July 08, 2018 – July 15, 2024 \n",
      "Job Title: Information Management Officer - National\n",
      "\n",
      "Sachin Malego is an accomplished professional specializing in Information Systems Design, Data \n",
      "Science, Artificial Intelligence, and Disaster Risk Reduction. Born on December 23, 1988, he has \n",
      "amassed extensive experience in the field, combining technical expertise with leadership roles in \n",
      "national and international projects. His career spans over a decade, with significant contributions \n",
      "to data-driven decision-making and digital transformation initiatives. \n",
      "With an academic foundation rooted in technology and innovation, Sachin holds a Bachelor of \n",
      "Science in Computer Science and Information Technology (B.Sc. CSIT) from St. Xavier’s\n",
      "\n",
      "SACHIN MALEGO  \n",
      "  \n",
      "+66-0910633538(M); e-mail: s.malego@gmail.com; st125171@ait.asia   \n",
      "5 | P a g e  \n",
      "  \n",
      "• \n",
      "Synthesized and analyzed complex information, presenting it in a simplified manner for \n",
      "understanding across the board.  \n",
      "• \n",
      "Supervised interns and data entry volunteers.  \n",
      "• \n",
      "Acted as a backup for the Data Management Associate, as and when requested.  \n",
      "• \n",
      "Provided end-user technical support to staff on software and hardware, including Operating \n",
      "systems, MS-Office package, network printers, and other applications.  \n",
      "• \n",
      "Conducted periodic database backups to ensure data and information security.  \n",
      "• \n",
      "Performed regular quality checks in the database to ensure data quality, accuracy, and\n",
      "\n",
      "Prior to this, Sachin served as a Web Developer and Data Management Officer at Web Fusion \n",
      "Nepal from 2013 to 2018, where he led software development projects, managed databases, and \n",
      "contributed to web application development. His expertise in programming languages such as C, \n",
      "C++, Java, Python, and PHP, along with his proficiency in GIS mapping, SharePoint, and AI-\n",
      "based modeling, have been instrumental in his success. \n",
      "Throughout his career, Sachin has provided consultancy services to national and international \n",
      "organizations, offering insights on data visualization, system documentation, and disaster\n",
      "    Question: Who are you by the way?\n",
      "    Answer:\u001b[0m\n",
      "\n",
      "\u001b[1m> Finished chain.\u001b[0m\n",
      "\n",
      "\u001b[1m> Finished chain.\u001b[0m\n",
      "\n",
      "\u001b[1m> Finished chain.\u001b[0m\n"
     ]
    },
    {
     "data": {
      "text/plain": [
       "{'question': 'Who are you by the way?',\n",
       " 'chat_history': [],\n",
       " 'answer': '<pad>  I  am  an  AI  -  RAGBot  assistant  that  answers  questions  about  the  user  based  on  the  available  documents.  I  am  not  a  human  being  and  do  not  have  personal  experiences  or  identity.  I  am  here  to  assist  you  with  any  questions  you  may  have.\\n',\n",
       " 'source_documents': [Document(page_content='record in technical leadership and consultancy roles, my aim is to drive digital transformation initiatives \\nand enhance organizational capabilities in utilizing data-driven strategies, artificial intelligence, and \\nmachine learning for impactful decision-making and sustainable development.  \\n  \\nPERSONAL DETAILS  \\nDate of Birth:  \\n23rd Dec 1988 A.D.  \\nGender:  \\nMale  \\nPermanent Address:  \\nAsan Tole, Tansen-2, Palpa, Nepal   \\nCurrent Address:  \\nAIT Thailand  \\nNationality:  \\nNepali  \\nLanguage Known:  \\nEnglish, Nepali  \\n  \\nPROFESSIONAL WORKING EXPERIENCE  \\nDate: July 08, 2018 – July 15, 2024 \\nJob Title: Information Management Officer - National', metadata={'source': '/Users/sachinmalego/Documents/AIT Course Works/02. Second Semester/02. AI-NLU/Lab Work/Github/Python-fo-Natural-Language-Processing/Assignment/NLP-A6-Lets-Talk-with-Yourself/documents/CV _SachinMalego.pdf', 'file_path': '/Users/sachinmalego/Documents/AIT Course Works/02. Second Semester/02. AI-NLU/Lab Work/Github/Python-fo-Natural-Language-Processing/Assignment/NLP-A6-Lets-Talk-with-Yourself/documents/CV _SachinMalego.pdf', 'page': 0, 'total_pages': 7, 'format': 'PDF 1.4', 'title': '', 'author': '', 'subject': '', 'keywords': '', 'creator': '', 'producer': 'macOS Version 15.1.1 (Build 24B91) Quartz PDFContext', 'creationDate': \"D:20241213042847Z00'00'\", 'modDate': \"D:20241213042847Z00'00'\", 'trapped': ''}),\n",
       "  Document(page_content='Sachin Malego is an accomplished professional specializing in Information Systems Design, Data \\nScience, Artificial Intelligence, and Disaster Risk Reduction. Born on December 23, 1988, he has \\namassed extensive experience in the field, combining technical expertise with leadership roles in \\nnational and international projects. His career spans over a decade, with significant contributions \\nto data-driven decision-making and digital transformation initiatives. \\nWith an academic foundation rooted in technology and innovation, Sachin holds a Bachelor of \\nScience in Computer Science and Information Technology (B.Sc. CSIT) from St. Xavier’s', metadata={'source': '/Users/sachinmalego/Documents/AIT Course Works/02. Second Semester/02. AI-NLU/Lab Work/Github/Python-fo-Natural-Language-Processing/Assignment/NLP-A6-Lets-Talk-with-Yourself/documents/Profile_SachinMalego.pdf', 'file_path': '/Users/sachinmalego/Documents/AIT Course Works/02. Second Semester/02. AI-NLU/Lab Work/Github/Python-fo-Natural-Language-Processing/Assignment/NLP-A6-Lets-Talk-with-Yourself/documents/Profile_SachinMalego.pdf', 'page': 0, 'total_pages': 2, 'format': 'PDF 1.3', 'title': '', 'author': '', 'subject': '', 'keywords': '', 'creator': '', 'producer': 'macOS Version 15.3.2 (Build 24D81) Quartz PDFContext', 'creationDate': \"D:20250315142840Z00'00'\", 'modDate': \"D:20250315142840Z00'00'\", 'trapped': ''}),\n",
       "  Document(page_content='SACHIN MALEGO  \\n  \\n+66-0910633538(M); e-mail: s.malego@gmail.com; st125171@ait.asia   \\n5 | P a g e  \\n  \\n• \\nSynthesized and analyzed complex information, presenting it in a simplified manner for \\nunderstanding across the board.  \\n• \\nSupervised interns and data entry volunteers.  \\n• \\nActed as a backup for the Data Management Associate, as and when requested.  \\n• \\nProvided end-user technical support to staff on software and hardware, including Operating \\nsystems, MS-Office package, network printers, and other applications.  \\n• \\nConducted periodic database backups to ensure data and information security.  \\n• \\nPerformed regular quality checks in the database to ensure data quality, accuracy, and', metadata={'source': '/Users/sachinmalego/Documents/AIT Course Works/02. Second Semester/02. AI-NLU/Lab Work/Github/Python-fo-Natural-Language-Processing/Assignment/NLP-A6-Lets-Talk-with-Yourself/documents/CV _SachinMalego.pdf', 'file_path': '/Users/sachinmalego/Documents/AIT Course Works/02. Second Semester/02. AI-NLU/Lab Work/Github/Python-fo-Natural-Language-Processing/Assignment/NLP-A6-Lets-Talk-with-Yourself/documents/CV _SachinMalego.pdf', 'page': 4, 'total_pages': 7, 'format': 'PDF 1.4', 'title': '', 'author': '', 'subject': '', 'keywords': '', 'creator': '', 'producer': 'macOS Version 15.1.1 (Build 24B91) Quartz PDFContext', 'creationDate': \"D:20241213042847Z00'00'\", 'modDate': \"D:20241213042847Z00'00'\", 'trapped': ''}),\n",
       "  Document(page_content='Prior to this, Sachin served as a Web Developer and Data Management Officer at Web Fusion \\nNepal from 2013 to 2018, where he led software development projects, managed databases, and \\ncontributed to web application development. His expertise in programming languages such as C, \\nC++, Java, Python, and PHP, along with his proficiency in GIS mapping, SharePoint, and AI-\\nbased modeling, have been instrumental in his success. \\nThroughout his career, Sachin has provided consultancy services to national and international \\norganizations, offering insights on data visualization, system documentation, and disaster', metadata={'source': '/Users/sachinmalego/Documents/AIT Course Works/02. Second Semester/02. AI-NLU/Lab Work/Github/Python-fo-Natural-Language-Processing/Assignment/NLP-A6-Lets-Talk-with-Yourself/documents/Profile_SachinMalego.pdf', 'file_path': '/Users/sachinmalego/Documents/AIT Course Works/02. Second Semester/02. AI-NLU/Lab Work/Github/Python-fo-Natural-Language-Processing/Assignment/NLP-A6-Lets-Talk-with-Yourself/documents/Profile_SachinMalego.pdf', 'page': 0, 'total_pages': 2, 'format': 'PDF 1.3', 'title': '', 'author': '', 'subject': '', 'keywords': '', 'creator': '', 'producer': 'macOS Version 15.3.2 (Build 24D81) Quartz PDFContext', 'creationDate': \"D:20250315142840Z00'00'\", 'modDate': \"D:20250315142840Z00'00'\", 'trapped': ''})]}"
      ]
     },
     "execution_count": 32,
     "metadata": {},
     "output_type": "execute_result"
    }
   ],
   "source": [
    "prompt_question = \"Who are you by the way?\"\n",
    "answer = chain({\"question\":prompt_question})\n",
    "answer"
   ]
  },
  {
   "cell_type": "markdown",
   "metadata": {},
   "source": [
    "#### **Task 2. Analysis and Problem Solving**\n",
    "1) Provide a list of the retriever and generator models you have utilized. (0.25 point)\n",
    "\n",
    "2) Analyze any issues related to the models providing unrelated information. (0.25 point)\n",
    "\n",
    "**Note:** RAG utilizes two models: a retriever model and a generator model. Therefore, when performing\n",
    "your analysis, make sure to evaluate and analyze both models, not just one."
   ]
  },
  {
   "cell_type": "markdown",
   "metadata": {},
   "source": [
    "**Answers:** \n",
    "1. The list of retriever and generator models that I have used are:\n",
    "    - **Retriever Models:**\n",
    "        - Embedding Model used for this task is `hkunlp/instructor-base` from the HuggingFaceInstructEmbeddings\n",
    "        - Vector Store used for this task is `faiss`\n",
    "    - **Generator Model:**\n",
    "        - The generator model used for this task is `Fast Chat Model` from the HuggingFacePipeline.\n",
    "    \n",
    "2. **Issues related to the models:**\n",
    "    - **Unrelated Information:**\n",
    "        - The model may give unrelated information to the user.\n",
    "    - **Inaccurate Information:**\n",
    "        - The model may give inaccurate information to the user.\n",
    "    - **Missing Information:**\n",
    "        - The model may not give all the information to the user.\n",
    "    - **Duplicate Information:**\n",
    "        - The model may give duplicate information to the user.\n",
    "    - **Generation Errors:**\n",
    "        - The model may generate errors in the response.\n",
    "    - **Inconsistent Responses:**\n",
    "        - The model may give inconsistent responses to the user.\n",
    "    - **Lack of Contextual Information:**\n",
    "        - The model may not give contextual information to the user.\n",
    "\n",
    "Here’s a table summarizing the limitations of the retriever and generator models, along with possible solutions:  \n",
    "\n",
    "| **Component**       | **Model Used**                  | **Limitations**                                                                                                                                   | **Possible Solutions**                                                                                               |\n",
    "|---------------------|--------------------------------|--------------------------------------------------------------------------------------------------------------------------------------------------|----------------------------------------------------------------------------------------------------------------------|\n",
    "| **Retriever Model** | `hkunlp/instructor-base`      | - May not generalize well to highly domain-specific queries. <br> - Embedding quality depends on training data. <br> - Struggles with complex queries requiring reasoning. | - Fine-tune the model on domain-specific data. <br> - Use hybrid retrieval (dense + keyword-based search).         |\n",
    "| **Vector Store**    | `faiss`                        | - Doesn't support distributed indexing natively. <br> - Struggles with dynamic data updates (requires re-indexing). <br> - Lacks metadata filtering capabilities. | - Use alternatives like `Weaviate` or `Pinecone` for real-time updates. <br> - Implement approximate nearest neighbors (ANN) tuning. |\n",
    "| **Generator Model** | `Fast Chat Model` (HuggingFacePipeline) | - May generate hallucinated responses. <br> - Performance varies with prompt engineering. <br> - Computationally expensive for long responses. | - Implement retrieval-augmented generation (RAG) for factual accuracy. <br> - Optimize inference with quantization techniques. |"
   ]
  },
  {
   "cell_type": "markdown",
   "metadata": {},
   "source": [
    "#### **Task 3. Chatbot Development - Web Application Development - Develop a web application that demonstrates a chatbot.**\n",
    "\n",
    "1) The application should feature a chat interface with an input box where users can type messages.\n",
    "\n",
    "2) Based on the user input, the model should generate coherent responses and also provide relevant source documents that support the generated response. For example, if the user types ”How old are you?”, the model might generate a concise summary along with links to related articles or documents. (0.5 point)\n",
    "\n",
    "**Note:** You are encouraged to use any available resources related to your personal information, and ensure the chatbot provides accurate and relevant information."
   ]
  },
  {
   "cell_type": "markdown",
   "metadata": {},
   "source": [
    "**Answer:**\n",
    "\n",
    "<h5><b>Application Interfaces</b></h5>\n",
    "\n",
    "<p align=\"left\">\n",
    "  <img src=\"./screenshots/Screenshot_RAG1.png\" width=\"30%\">\n",
    "  <img src=\"./screenshots/Screenshot_RAG2.png\" width=\"30%\">\n",
    "  <img src=\"./screenshots/Screenshot_RAG3.png\" width=\"30%\">\n",
    "</p>\n",
    "\n",
    "<p align=\"left\">\n",
    "  <img src=\"./screenshots/Screenshot_RAG4.png\" width=\"30%\">\n",
    "  <img src=\"./screenshots/Screenshot_RAG5.png\" width=\"30%\">\n",
    "  <img src=\"./screenshots/Screenshot_RAG6.png\" width=\"30%\">\n",
    "</p>\n",
    "\n",
    "<p align=\"left\">\n",
    "  <img src=\"./screenshots/Screenshot_RAG7.png\" width=\"30%\">\n",
    "  <img src=\"./screenshots/Screenshot_RAG8.png\" width=\"30%\">\n",
    "  <img src=\"./screenshots/Screenshot_RAG9.png\" width=\"30%\">\n",
    "</p>\n",
    "\n",
    "<p align=\"left\">\n",
    "  <img src=\"./screenshots/Screenshot_RAG10.png\" width=\"30%\">\n",
    "  <img src=\"./screenshots/Screenshot_RAG11.png\" width=\"30%\">\n",
    "  <img src=\"./screenshots/Screenshot_RAG12.png\" width=\"30%\">\n",
    "</p>\n",
    "\n",
    "<p align=\"left\">\n",
    "  <img src=\"./screenshots/Screenshot_RAG13.png\" width=\"30%\">\n",
    "</p>\n",
    "\n",
    "\n",
    "<h5><b>Working of the Application</b></h5>\n",
    "\n",
    "<a href=\"\">Link to the application video</a>\n",
    "\n",
    "<p align=\"left\">\n",
    "  <img src=\"./screenshots/Video.gif\" width=\"50%\">\n",
    "</p>"
   ]
  },
  {
   "cell_type": "markdown",
   "metadata": {},
   "source": [
    "#### **Below are 10 questions your chatbot should be able to answer:**\n",
    "1) How old are you?\n",
    "\n",
    "2) What is your highest level of education?\n",
    "\n",
    "3) What major or field of study did you pursue during your education?\n",
    "\n",
    "4) How many years of work experience do you have?\n",
    "\n",
    "5) What type of work or industry have you been involved in?\n",
    "\n",
    "6) Can you describe your current role or job responsibilities?\n",
    "\n",
    "7) What are your core beliefs regarding the role of technology in shaping society?\n",
    "\n",
    "8) How do you think cultural values should influence technological advancements?\n",
    "\n",
    "9) As a master’s student, what is the most challenging aspect of your studies so far?\n",
    "\n",
    "10) What specific research interests or academic goals do you hope to achieve during your time as a master’s student?\n",
    "\n",
    "**Submission Instructions:** For each question, your chatbot should generate a response. Please submit the question-answer pairs to your Github repository in the following JSON format:\n",
    "\n",
    "`[\n",
    "{  \n",
    "\"question\": \"How old are you?\",  \n",
    "\"answer\": \"Your answer here\"  \n",
    "},  \n",
    "{  \n",
    "\"question\": \"What is your highest level of education?\",  \n",
    "\"answer\": \"Your answer here\"  \n",
    "},  \n",
    "...  \n",
    "]`\n",
    "\n",
    "**Make sure that each question and corresponding answer is properly formatted in the JSON structure. This will be part of your deliverables. (0.5 point)**"
   ]
  },
  {
   "cell_type": "code",
   "execution_count": 33,
   "metadata": {},
   "outputs": [
    {
     "name": "stdout",
     "output_type": "stream",
     "text": [
      "\n",
      "\n",
      "\u001b[1m> Entering new ConversationalRetrievalChain chain...\u001b[0m\n",
      "\n",
      "\n",
      "\u001b[1m> Entering new LLMChain chain...\u001b[0m\n",
      "Prompt after formatting:\n",
      "\u001b[32;1m\u001b[1;3mGiven the following conversation and a follow up question, rephrase the follow up question to be a standalone question, in its original language.\n",
      "\n",
      "Chat History:\n",
      "[HumanMessage(content='Who are you by the way?'), AIMessage(content='<pad>  I  am  an  AI  -  RAGBot  assistant  that  answers  questions  about  the  user  based  on  the  available  documents.  I  am  not  a  human  being  and  do  not  have  personal  experiences  or  identity.  I  am  here  to  assist  you  with  any  questions  you  may  have.\\n')]\n",
      "Follow Up Input: How old are you?\n",
      "Standalone question:\u001b[0m\n",
      "\n",
      "\u001b[1m> Finished chain.\u001b[0m\n",
      "\n",
      "\n",
      "\u001b[1m> Entering new StuffDocumentsChain chain...\u001b[0m\n",
      "\n",
      "\n",
      "\u001b[1m> Entering new LLMChain chain...\u001b[0m\n",
      "Prompt after formatting:\n",
      "\u001b[32;1m\u001b[1;3mHi! I am an AI - RAGBot assistant that answers questions about the user based on the available documents. \n",
      "    I ensure responses are accurate and cite relevant sources.\n",
      "    I'll be sure to answer you to the best of my ability!!\n",
      "    Context: record in technical leadership and consultancy roles, my aim is to drive digital transformation initiatives \n",
      "and enhance organizational capabilities in utilizing data-driven strategies, artificial intelligence, and \n",
      "machine learning for impactful decision-making and sustainable development.  \n",
      "  \n",
      "PERSONAL DETAILS  \n",
      "Date of Birth:  \n",
      "23rd Dec 1988 A.D.  \n",
      "Gender:  \n",
      "Male  \n",
      "Permanent Address:  \n",
      "Asan Tole, Tansen-2, Palpa, Nepal   \n",
      "Current Address:  \n",
      "AIT Thailand  \n",
      "Nationality:  \n",
      "Nepali  \n",
      "Language Known:  \n",
      "English, Nepali  \n",
      "  \n",
      "PROFESSIONAL WORKING EXPERIENCE  \n",
      "Date: July 08, 2018 – July 15, 2024 \n",
      "Job Title: Information Management Officer - National\n",
      "\n",
      "• \n",
      "Undertake any other duties assigned by the supervisor, demonstrating flexibility and \n",
      "adaptability to contribute to various tasks and initiatives as needed.  \n",
      "  \n",
      "Date: July 08, 2018 - March 31, 2018\n",
      "\n",
      "Sachin Malego is an accomplished professional specializing in Information Systems Design, Data \n",
      "Science, Artificial Intelligence, and Disaster Risk Reduction. Born on December 23, 1988, he has \n",
      "amassed extensive experience in the field, combining technical expertise with leadership roles in \n",
      "national and international projects. His career spans over a decade, with significant contributions \n",
      "to data-driven decision-making and digital transformation initiatives. \n",
      "With an academic foundation rooted in technology and innovation, Sachin holds a Bachelor of \n",
      "Science in Computer Science and Information Technology (B.Sc. CSIT) from St. Xavier’s\n",
      "\n",
      "SACHIN MALEGO  \n",
      "  \n",
      "+66-0910633538(M); e-mail: s.malego@gmail.com; st125171@ait.asia   \n",
      "1 | P a g e  \n",
      "  \n",
      "SUMMARY  \n",
      "• \n",
      "Proficient in Core Information Systems Design and Development.  \n",
      "• \n",
      "Skilled in Data Management, Data Collection, Data Analysis, and Data Visualization.  \n",
      "• \n",
      "Experienced in Publication and Infographics Designs.  \n",
      "• \n",
      "Competent in GIS Mapping, particularly with QGIS.  \n",
      "• \n",
      "Proficient in Web Application, Web Design, and Development.  \n",
      "• \n",
      "Familiar with Office package software.  \n",
      "• \n",
      "Provided support as a Consultant to the National Reconstruction Authority (NRA) from CRS-HRRP, \n",
      "offering assistance in information system design, data visualization, data security, and data\n",
      "    Question: <pad> How  old  are  you?\n",
      "\n",
      "    Answer:\u001b[0m\n",
      "\n",
      "\u001b[1m> Finished chain.\u001b[0m\n",
      "\n",
      "\u001b[1m> Finished chain.\u001b[0m\n",
      "\n",
      "\u001b[1m> Finished chain.\u001b[0m\n"
     ]
    },
    {
     "data": {
      "text/plain": [
       "{'question': 'How old are you?',\n",
       " 'chat_history': [HumanMessage(content='Who are you by the way?'),\n",
       "  AIMessage(content='<pad>  I  am  an  AI  -  RAGBot  assistant  that  answers  questions  about  the  user  based  on  the  available  documents.  I  am  not  a  human  being  and  do  not  have  personal  experiences  or  identity.  I  am  here  to  assist  you  with  any  questions  you  may  have.\\n')],\n",
       " 'answer': '<pad>  23rd  Dec  1988  A.D.\\n',\n",
       " 'source_documents': [Document(page_content='record in technical leadership and consultancy roles, my aim is to drive digital transformation initiatives \\nand enhance organizational capabilities in utilizing data-driven strategies, artificial intelligence, and \\nmachine learning for impactful decision-making and sustainable development.  \\n  \\nPERSONAL DETAILS  \\nDate of Birth:  \\n23rd Dec 1988 A.D.  \\nGender:  \\nMale  \\nPermanent Address:  \\nAsan Tole, Tansen-2, Palpa, Nepal   \\nCurrent Address:  \\nAIT Thailand  \\nNationality:  \\nNepali  \\nLanguage Known:  \\nEnglish, Nepali  \\n  \\nPROFESSIONAL WORKING EXPERIENCE  \\nDate: July 08, 2018 – July 15, 2024 \\nJob Title: Information Management Officer - National', metadata={'source': '/Users/sachinmalego/Documents/AIT Course Works/02. Second Semester/02. AI-NLU/Lab Work/Github/Python-fo-Natural-Language-Processing/Assignment/NLP-A6-Lets-Talk-with-Yourself/documents/CV _SachinMalego.pdf', 'file_path': '/Users/sachinmalego/Documents/AIT Course Works/02. Second Semester/02. AI-NLU/Lab Work/Github/Python-fo-Natural-Language-Processing/Assignment/NLP-A6-Lets-Talk-with-Yourself/documents/CV _SachinMalego.pdf', 'page': 0, 'total_pages': 7, 'format': 'PDF 1.4', 'title': '', 'author': '', 'subject': '', 'keywords': '', 'creator': '', 'producer': 'macOS Version 15.1.1 (Build 24B91) Quartz PDFContext', 'creationDate': \"D:20241213042847Z00'00'\", 'modDate': \"D:20241213042847Z00'00'\", 'trapped': ''}),\n",
       "  Document(page_content='• \\nUndertake any other duties assigned by the supervisor, demonstrating flexibility and \\nadaptability to contribute to various tasks and initiatives as needed.  \\n  \\nDate: July 08, 2018 - March 31, 2018', metadata={'source': '/Users/sachinmalego/Documents/AIT Course Works/02. Second Semester/02. AI-NLU/Lab Work/Github/Python-fo-Natural-Language-Processing/Assignment/NLP-A6-Lets-Talk-with-Yourself/documents/CV _SachinMalego.pdf', 'file_path': '/Users/sachinmalego/Documents/AIT Course Works/02. Second Semester/02. AI-NLU/Lab Work/Github/Python-fo-Natural-Language-Processing/Assignment/NLP-A6-Lets-Talk-with-Yourself/documents/CV _SachinMalego.pdf', 'page': 2, 'total_pages': 7, 'format': 'PDF 1.4', 'title': '', 'author': '', 'subject': '', 'keywords': '', 'creator': '', 'producer': 'macOS Version 15.1.1 (Build 24B91) Quartz PDFContext', 'creationDate': \"D:20241213042847Z00'00'\", 'modDate': \"D:20241213042847Z00'00'\", 'trapped': ''}),\n",
       "  Document(page_content='Sachin Malego is an accomplished professional specializing in Information Systems Design, Data \\nScience, Artificial Intelligence, and Disaster Risk Reduction. Born on December 23, 1988, he has \\namassed extensive experience in the field, combining technical expertise with leadership roles in \\nnational and international projects. His career spans over a decade, with significant contributions \\nto data-driven decision-making and digital transformation initiatives. \\nWith an academic foundation rooted in technology and innovation, Sachin holds a Bachelor of \\nScience in Computer Science and Information Technology (B.Sc. CSIT) from St. Xavier’s', metadata={'source': '/Users/sachinmalego/Documents/AIT Course Works/02. Second Semester/02. AI-NLU/Lab Work/Github/Python-fo-Natural-Language-Processing/Assignment/NLP-A6-Lets-Talk-with-Yourself/documents/Profile_SachinMalego.pdf', 'file_path': '/Users/sachinmalego/Documents/AIT Course Works/02. Second Semester/02. AI-NLU/Lab Work/Github/Python-fo-Natural-Language-Processing/Assignment/NLP-A6-Lets-Talk-with-Yourself/documents/Profile_SachinMalego.pdf', 'page': 0, 'total_pages': 2, 'format': 'PDF 1.3', 'title': '', 'author': '', 'subject': '', 'keywords': '', 'creator': '', 'producer': 'macOS Version 15.3.2 (Build 24D81) Quartz PDFContext', 'creationDate': \"D:20250315142840Z00'00'\", 'modDate': \"D:20250315142840Z00'00'\", 'trapped': ''}),\n",
       "  Document(page_content='SACHIN MALEGO  \\n  \\n+66-0910633538(M); e-mail: s.malego@gmail.com; st125171@ait.asia   \\n1 | P a g e  \\n  \\nSUMMARY  \\n• \\nProficient in Core Information Systems Design and Development.  \\n• \\nSkilled in Data Management, Data Collection, Data Analysis, and Data Visualization.  \\n• \\nExperienced in Publication and Infographics Designs.  \\n• \\nCompetent in GIS Mapping, particularly with QGIS.  \\n• \\nProficient in Web Application, Web Design, and Development.  \\n• \\nFamiliar with Office package software.  \\n• \\nProvided support as a Consultant to the National Reconstruction Authority (NRA) from CRS-HRRP, \\noffering assistance in information system design, data visualization, data security, and data', metadata={'source': '/Users/sachinmalego/Documents/AIT Course Works/02. Second Semester/02. AI-NLU/Lab Work/Github/Python-fo-Natural-Language-Processing/Assignment/NLP-A6-Lets-Talk-with-Yourself/documents/CV _SachinMalego.pdf', 'file_path': '/Users/sachinmalego/Documents/AIT Course Works/02. Second Semester/02. AI-NLU/Lab Work/Github/Python-fo-Natural-Language-Processing/Assignment/NLP-A6-Lets-Talk-with-Yourself/documents/CV _SachinMalego.pdf', 'page': 0, 'total_pages': 7, 'format': 'PDF 1.4', 'title': '', 'author': '', 'subject': '', 'keywords': '', 'creator': '', 'producer': 'macOS Version 15.1.1 (Build 24B91) Quartz PDFContext', 'creationDate': \"D:20241213042847Z00'00'\", 'modDate': \"D:20241213042847Z00'00'\", 'trapped': ''})]}"
      ]
     },
     "execution_count": 33,
     "metadata": {},
     "output_type": "execute_result"
    }
   ],
   "source": [
    "prompt_question = \"How old are you?\"\n",
    "answer = chain({\"question\":prompt_question})\n",
    "answer"
   ]
  },
  {
   "cell_type": "code",
   "execution_count": 34,
   "metadata": {},
   "outputs": [
    {
     "name": "stdout",
     "output_type": "stream",
     "text": [
      "\n",
      "\n",
      "\u001b[1m> Entering new ConversationalRetrievalChain chain...\u001b[0m\n",
      "\n",
      "\n",
      "\u001b[1m> Entering new LLMChain chain...\u001b[0m\n",
      "Prompt after formatting:\n",
      "\u001b[32;1m\u001b[1;3mGiven the following conversation and a follow up question, rephrase the follow up question to be a standalone question, in its original language.\n",
      "\n",
      "Chat History:\n",
      "[HumanMessage(content='Who are you by the way?'), AIMessage(content='<pad>  I  am  an  AI  -  RAGBot  assistant  that  answers  questions  about  the  user  based  on  the  available  documents.  I  am  not  a  human  being  and  do  not  have  personal  experiences  or  identity.  I  am  here  to  assist  you  with  any  questions  you  may  have.\\n'), HumanMessage(content='How old are you?'), AIMessage(content='<pad>  23rd  Dec  1988  A.D.\\n')]\n",
      "Follow Up Input: What is your highest level of education?\n",
      "Standalone question:\u001b[0m\n",
      "\n",
      "\u001b[1m> Finished chain.\u001b[0m\n",
      "\n",
      "\n",
      "\u001b[1m> Entering new StuffDocumentsChain chain...\u001b[0m\n",
      "\n",
      "\n",
      "\u001b[1m> Entering new LLMChain chain...\u001b[0m\n",
      "Prompt after formatting:\n",
      "\u001b[32;1m\u001b[1;3mHi! I am an AI - RAGBot assistant that answers questions about the user based on the available documents. \n",
      "    I ensure responses are accurate and cite relevant sources.\n",
      "    I'll be sure to answer you to the best of my ability!!\n",
      "    Context: (Division)  \n",
      "M.Sc. DSAI \n",
      "AIT \n",
      "Asian Institute of Technology, \n",
      "Thailand \n",
      "Current \n",
      " \n",
      "B.Sc. CSIT  \n",
      "T.U.  \n",
      "St. Xavier’s College Maitighar,  \n",
      "Kathmandu  \n",
      "2013 A.D.  \n",
      "81.36%  \n",
      "(Distinction)  \n",
      "10+2  \n",
      "HSEB  \n",
      "Millennium H.S.S. Tansen, \n",
      "Palpa  \n",
      "2007 A.D.  \n",
      "64.1%  \n",
      "(Ist div.)  \n",
      "S.L.C.  \n",
      "HMG  \n",
      "New Horizon Eng. Bo. Sec. School \n",
      "Tansen, Palpa  \n",
      "2005 A.D.  \n",
      "71.37%  \n",
      "(Ist div.)  \n",
      "  \n",
      "ACADEMIC PROJECTS  \n",
      "• \n",
      "Final year project entitled “ICT in SMART Energy for Sustainable Empowerment” as per the \n",
      "requirement for the partial fulfillment of B.Sc. CSIT degree.  \n",
      "• \n",
      "Mini project on Database entitled “Vehicle Registration System” as per the requirement for the \n",
      "partial fulfillment of B.Sc. CSIT degree.  \n",
      "•\n",
      "\n",
      "Science in Computer Science and Information Technology (B.Sc. CSIT) from St. Xavier’s \n",
      "College, Maitighar, Kathmandu, where he graduated with distinction, securing 81.36%. Currently, \n",
      "he is pursuing a Master of Science in Data Science and Artificial Intelligence at the Asian Institute \n",
      "of Technology (AIT), Thailand, further expanding his expertise in AI, predictive analytics, and \n",
      "data-driven solutions. \n",
      "Sachin's professional experience is marked by his tenure as an Information Management Officer \n",
      "at the National Disaster Risk Reduction and Management Authority (NDRRMA) under the \n",
      "Government of Nepal from 2018 to 2024. His role involved designing and managing critical\n",
      "\n",
      "Sachin Malego is an accomplished professional specializing in Information Systems Design, Data \n",
      "Science, Artificial Intelligence, and Disaster Risk Reduction. Born on December 23, 1988, he has \n",
      "amassed extensive experience in the field, combining technical expertise with leadership roles in \n",
      "national and international projects. His career spans over a decade, with significant contributions \n",
      "to data-driven decision-making and digital transformation initiatives. \n",
      "With an academic foundation rooted in technology and innovation, Sachin holds a Bachelor of \n",
      "Science in Computer Science and Information Technology (B.Sc. CSIT) from St. Xavier’s\n",
      "\n",
      "record in technical leadership and consultancy roles, my aim is to drive digital transformation initiatives \n",
      "and enhance organizational capabilities in utilizing data-driven strategies, artificial intelligence, and \n",
      "machine learning for impactful decision-making and sustainable development.  \n",
      "  \n",
      "PERSONAL DETAILS  \n",
      "Date of Birth:  \n",
      "23rd Dec 1988 A.D.  \n",
      "Gender:  \n",
      "Male  \n",
      "Permanent Address:  \n",
      "Asan Tole, Tansen-2, Palpa, Nepal   \n",
      "Current Address:  \n",
      "AIT Thailand  \n",
      "Nationality:  \n",
      "Nepali  \n",
      "Language Known:  \n",
      "English, Nepali  \n",
      "  \n",
      "PROFESSIONAL WORKING EXPERIENCE  \n",
      "Date: July 08, 2018 – July 15, 2024 \n",
      "Job Title: Information Management Officer - National\n",
      "    Question: <pad> What  is  your  highest  level  of  education?\n",
      "\n",
      "    Answer:\u001b[0m\n",
      "\n",
      "\u001b[1m> Finished chain.\u001b[0m\n",
      "\n",
      "\u001b[1m> Finished chain.\u001b[0m\n",
      "\n",
      "\u001b[1m> Finished chain.\u001b[0m\n"
     ]
    },
    {
     "data": {
      "text/plain": [
       "{'question': 'What is your highest level of education?',\n",
       " 'chat_history': [HumanMessage(content='Who are you by the way?'),\n",
       "  AIMessage(content='<pad>  I  am  an  AI  -  RAGBot  assistant  that  answers  questions  about  the  user  based  on  the  available  documents.  I  am  not  a  human  being  and  do  not  have  personal  experiences  or  identity.  I  am  here  to  assist  you  with  any  questions  you  may  have.\\n'),\n",
       "  HumanMessage(content='How old are you?'),\n",
       "  AIMessage(content='<pad>  23rd  Dec  1988  A.D.\\n')],\n",
       " 'answer': '<pad>  M.Sc.  DSAI  AIT  Asian  Institute  of  Technology,  Thailand\\n',\n",
       " 'source_documents': [Document(page_content='(Division)  \\nM.Sc. DSAI \\nAIT \\nAsian Institute of Technology, \\nThailand \\nCurrent \\n \\nB.Sc. CSIT  \\nT.U.  \\nSt. Xavier’s College Maitighar,  \\nKathmandu  \\n2013 A.D.  \\n81.36%  \\n(Distinction)  \\n10+2  \\nHSEB  \\nMillennium H.S.S. Tansen, \\nPalpa  \\n2007 A.D.  \\n64.1%  \\n(Ist div.)  \\nS.L.C.  \\nHMG  \\nNew Horizon Eng. Bo. Sec. School \\nTansen, Palpa  \\n2005 A.D.  \\n71.37%  \\n(Ist div.)  \\n  \\nACADEMIC PROJECTS  \\n• \\nFinal year project entitled “ICT in SMART Energy for Sustainable Empowerment” as per the \\nrequirement for the partial fulfillment of B.Sc. CSIT degree.  \\n• \\nMini project on Database entitled “Vehicle Registration System” as per the requirement for the \\npartial fulfillment of B.Sc. CSIT degree.  \\n•', metadata={'source': '/Users/sachinmalego/Documents/AIT Course Works/02. Second Semester/02. AI-NLU/Lab Work/Github/Python-fo-Natural-Language-Processing/Assignment/NLP-A6-Lets-Talk-with-Yourself/documents/CV _SachinMalego.pdf', 'file_path': '/Users/sachinmalego/Documents/AIT Course Works/02. Second Semester/02. AI-NLU/Lab Work/Github/Python-fo-Natural-Language-Processing/Assignment/NLP-A6-Lets-Talk-with-Yourself/documents/CV _SachinMalego.pdf', 'page': 4, 'total_pages': 7, 'format': 'PDF 1.4', 'title': '', 'author': '', 'subject': '', 'keywords': '', 'creator': '', 'producer': 'macOS Version 15.1.1 (Build 24B91) Quartz PDFContext', 'creationDate': \"D:20241213042847Z00'00'\", 'modDate': \"D:20241213042847Z00'00'\", 'trapped': ''}),\n",
       "  Document(page_content=\"Science in Computer Science and Information Technology (B.Sc. CSIT) from St. Xavier’s \\nCollege, Maitighar, Kathmandu, where he graduated with distinction, securing 81.36%. Currently, \\nhe is pursuing a Master of Science in Data Science and Artificial Intelligence at the Asian Institute \\nof Technology (AIT), Thailand, further expanding his expertise in AI, predictive analytics, and \\ndata-driven solutions. \\nSachin's professional experience is marked by his tenure as an Information Management Officer \\nat the National Disaster Risk Reduction and Management Authority (NDRRMA) under the \\nGovernment of Nepal from 2018 to 2024. His role involved designing and managing critical\", metadata={'source': '/Users/sachinmalego/Documents/AIT Course Works/02. Second Semester/02. AI-NLU/Lab Work/Github/Python-fo-Natural-Language-Processing/Assignment/NLP-A6-Lets-Talk-with-Yourself/documents/Profile_SachinMalego.pdf', 'file_path': '/Users/sachinmalego/Documents/AIT Course Works/02. Second Semester/02. AI-NLU/Lab Work/Github/Python-fo-Natural-Language-Processing/Assignment/NLP-A6-Lets-Talk-with-Yourself/documents/Profile_SachinMalego.pdf', 'page': 0, 'total_pages': 2, 'format': 'PDF 1.3', 'title': '', 'author': '', 'subject': '', 'keywords': '', 'creator': '', 'producer': 'macOS Version 15.3.2 (Build 24D81) Quartz PDFContext', 'creationDate': \"D:20250315142840Z00'00'\", 'modDate': \"D:20250315142840Z00'00'\", 'trapped': ''}),\n",
       "  Document(page_content='Sachin Malego is an accomplished professional specializing in Information Systems Design, Data \\nScience, Artificial Intelligence, and Disaster Risk Reduction. Born on December 23, 1988, he has \\namassed extensive experience in the field, combining technical expertise with leadership roles in \\nnational and international projects. His career spans over a decade, with significant contributions \\nto data-driven decision-making and digital transformation initiatives. \\nWith an academic foundation rooted in technology and innovation, Sachin holds a Bachelor of \\nScience in Computer Science and Information Technology (B.Sc. CSIT) from St. Xavier’s', metadata={'source': '/Users/sachinmalego/Documents/AIT Course Works/02. Second Semester/02. AI-NLU/Lab Work/Github/Python-fo-Natural-Language-Processing/Assignment/NLP-A6-Lets-Talk-with-Yourself/documents/Profile_SachinMalego.pdf', 'file_path': '/Users/sachinmalego/Documents/AIT Course Works/02. Second Semester/02. AI-NLU/Lab Work/Github/Python-fo-Natural-Language-Processing/Assignment/NLP-A6-Lets-Talk-with-Yourself/documents/Profile_SachinMalego.pdf', 'page': 0, 'total_pages': 2, 'format': 'PDF 1.3', 'title': '', 'author': '', 'subject': '', 'keywords': '', 'creator': '', 'producer': 'macOS Version 15.3.2 (Build 24D81) Quartz PDFContext', 'creationDate': \"D:20250315142840Z00'00'\", 'modDate': \"D:20250315142840Z00'00'\", 'trapped': ''}),\n",
       "  Document(page_content='record in technical leadership and consultancy roles, my aim is to drive digital transformation initiatives \\nand enhance organizational capabilities in utilizing data-driven strategies, artificial intelligence, and \\nmachine learning for impactful decision-making and sustainable development.  \\n  \\nPERSONAL DETAILS  \\nDate of Birth:  \\n23rd Dec 1988 A.D.  \\nGender:  \\nMale  \\nPermanent Address:  \\nAsan Tole, Tansen-2, Palpa, Nepal   \\nCurrent Address:  \\nAIT Thailand  \\nNationality:  \\nNepali  \\nLanguage Known:  \\nEnglish, Nepali  \\n  \\nPROFESSIONAL WORKING EXPERIENCE  \\nDate: July 08, 2018 – July 15, 2024 \\nJob Title: Information Management Officer - National', metadata={'source': '/Users/sachinmalego/Documents/AIT Course Works/02. Second Semester/02. AI-NLU/Lab Work/Github/Python-fo-Natural-Language-Processing/Assignment/NLP-A6-Lets-Talk-with-Yourself/documents/CV _SachinMalego.pdf', 'file_path': '/Users/sachinmalego/Documents/AIT Course Works/02. Second Semester/02. AI-NLU/Lab Work/Github/Python-fo-Natural-Language-Processing/Assignment/NLP-A6-Lets-Talk-with-Yourself/documents/CV _SachinMalego.pdf', 'page': 0, 'total_pages': 7, 'format': 'PDF 1.4', 'title': '', 'author': '', 'subject': '', 'keywords': '', 'creator': '', 'producer': 'macOS Version 15.1.1 (Build 24B91) Quartz PDFContext', 'creationDate': \"D:20241213042847Z00'00'\", 'modDate': \"D:20241213042847Z00'00'\", 'trapped': ''})]}"
      ]
     },
     "execution_count": 34,
     "metadata": {},
     "output_type": "execute_result"
    }
   ],
   "source": [
    "prompt_question = \"What is your highest level of education?\"\n",
    "answer = chain({\"question\":prompt_question})\n",
    "answer"
   ]
  },
  {
   "cell_type": "code",
   "execution_count": 35,
   "metadata": {},
   "outputs": [
    {
     "name": "stdout",
     "output_type": "stream",
     "text": [
      "\n",
      "\n",
      "\u001b[1m> Entering new ConversationalRetrievalChain chain...\u001b[0m\n",
      "\n",
      "\n",
      "\u001b[1m> Entering new LLMChain chain...\u001b[0m\n",
      "Prompt after formatting:\n",
      "\u001b[32;1m\u001b[1;3mGiven the following conversation and a follow up question, rephrase the follow up question to be a standalone question, in its original language.\n",
      "\n",
      "Chat History:\n",
      "[HumanMessage(content='Who are you by the way?'), AIMessage(content='<pad>  I  am  an  AI  -  RAGBot  assistant  that  answers  questions  about  the  user  based  on  the  available  documents.  I  am  not  a  human  being  and  do  not  have  personal  experiences  or  identity.  I  am  here  to  assist  you  with  any  questions  you  may  have.\\n'), HumanMessage(content='How old are you?'), AIMessage(content='<pad>  23rd  Dec  1988  A.D.\\n'), HumanMessage(content='What is your highest level of education?'), AIMessage(content='<pad>  M.Sc.  DSAI  AIT  Asian  Institute  of  Technology,  Thailand\\n')]\n",
      "Follow Up Input: What major or field of study did you pursue during your education?\n",
      "Standalone question:\u001b[0m\n",
      "\n",
      "\u001b[1m> Finished chain.\u001b[0m\n",
      "\n",
      "\n",
      "\u001b[1m> Entering new StuffDocumentsChain chain...\u001b[0m\n",
      "\n",
      "\n",
      "\u001b[1m> Entering new LLMChain chain...\u001b[0m\n",
      "Prompt after formatting:\n",
      "\u001b[32;1m\u001b[1;3mHi! I am an AI - RAGBot assistant that answers questions about the user based on the available documents. \n",
      "    I ensure responses are accurate and cite relevant sources.\n",
      "    I'll be sure to answer you to the best of my ability!!\n",
      "    Context: (Division)  \n",
      "M.Sc. DSAI \n",
      "AIT \n",
      "Asian Institute of Technology, \n",
      "Thailand \n",
      "Current \n",
      " \n",
      "B.Sc. CSIT  \n",
      "T.U.  \n",
      "St. Xavier’s College Maitighar,  \n",
      "Kathmandu  \n",
      "2013 A.D.  \n",
      "81.36%  \n",
      "(Distinction)  \n",
      "10+2  \n",
      "HSEB  \n",
      "Millennium H.S.S. Tansen, \n",
      "Palpa  \n",
      "2007 A.D.  \n",
      "64.1%  \n",
      "(Ist div.)  \n",
      "S.L.C.  \n",
      "HMG  \n",
      "New Horizon Eng. Bo. Sec. School \n",
      "Tansen, Palpa  \n",
      "2005 A.D.  \n",
      "71.37%  \n",
      "(Ist div.)  \n",
      "  \n",
      "ACADEMIC PROJECTS  \n",
      "• \n",
      "Final year project entitled “ICT in SMART Energy for Sustainable Empowerment” as per the \n",
      "requirement for the partial fulfillment of B.Sc. CSIT degree.  \n",
      "• \n",
      "Mini project on Database entitled “Vehicle Registration System” as per the requirement for the \n",
      "partial fulfillment of B.Sc. CSIT degree.  \n",
      "•\n",
      "\n",
      "• \n",
      "Performed regular quality checks in the database to ensure data quality, accuracy, and \n",
      "consistency.  \n",
      "• \n",
      "Undertook any other duties as required.  \n",
      "  \n",
      "PROFESSIONAL ENGAGEMENT  \n",
      "• \n",
      "Lead the development of disaster emergency situation reports with NDRRMA.  \n",
      "• \n",
      "Established a tool for the collection of disaster emergency support of relief materials distribution.  \n",
      "• \n",
      "Supported and participated as an advisor to the many diaster management information system \n",
      "developed by NDRRMA.  \n",
      "  \n",
      "  \n",
      "ACADEMIC QUALIFICATIONS  \n",
      "  \n",
      "Degree  \n",
      "Board  \n",
      "Name of Institution  \n",
      "Year of \n",
      "Completion  \n",
      "Aggregrate marks \n",
      "(Division)  \n",
      "M.Sc. DSAI \n",
      "AIT \n",
      "Asian Institute of Technology, \n",
      "Thailand \n",
      "Current \n",
      " \n",
      "B.Sc. CSIT\n",
      "\n",
      "Science in Computer Science and Information Technology (B.Sc. CSIT) from St. Xavier’s \n",
      "College, Maitighar, Kathmandu, where he graduated with distinction, securing 81.36%. Currently, \n",
      "he is pursuing a Master of Science in Data Science and Artificial Intelligence at the Asian Institute \n",
      "of Technology (AIT), Thailand, further expanding his expertise in AI, predictive analytics, and \n",
      "data-driven solutions. \n",
      "Sachin's professional experience is marked by his tenure as an Information Management Officer \n",
      "at the National Disaster Risk Reduction and Management Authority (NDRRMA) under the \n",
      "Government of Nepal from 2018 to 2024. His role involved designing and managing critical\n",
      "\n",
      "record in technical leadership and consultancy roles, my aim is to drive digital transformation initiatives \n",
      "and enhance organizational capabilities in utilizing data-driven strategies, artificial intelligence, and \n",
      "machine learning for impactful decision-making and sustainable development.  \n",
      "  \n",
      "PERSONAL DETAILS  \n",
      "Date of Birth:  \n",
      "23rd Dec 1988 A.D.  \n",
      "Gender:  \n",
      "Male  \n",
      "Permanent Address:  \n",
      "Asan Tole, Tansen-2, Palpa, Nepal   \n",
      "Current Address:  \n",
      "AIT Thailand  \n",
      "Nationality:  \n",
      "Nepali  \n",
      "Language Known:  \n",
      "English, Nepali  \n",
      "  \n",
      "PROFESSIONAL WORKING EXPERIENCE  \n",
      "Date: July 08, 2018 – July 15, 2024 \n",
      "Job Title: Information Management Officer - National\n",
      "    Question: <pad> What  was  your  major  or  field  of  study  during  your  education?\n",
      "\n",
      "    Answer:\u001b[0m\n",
      "\n",
      "\u001b[1m> Finished chain.\u001b[0m\n",
      "\n",
      "\u001b[1m> Finished chain.\u001b[0m\n",
      "\n",
      "\u001b[1m> Finished chain.\u001b[0m\n"
     ]
    },
    {
     "data": {
      "text/plain": [
       "{'question': 'What major or field of study did you pursue during your education?',\n",
       " 'chat_history': [HumanMessage(content='Who are you by the way?'),\n",
       "  AIMessage(content='<pad>  I  am  an  AI  -  RAGBot  assistant  that  answers  questions  about  the  user  based  on  the  available  documents.  I  am  not  a  human  being  and  do  not  have  personal  experiences  or  identity.  I  am  here  to  assist  you  with  any  questions  you  may  have.\\n'),\n",
       "  HumanMessage(content='How old are you?'),\n",
       "  AIMessage(content='<pad>  23rd  Dec  1988  A.D.\\n'),\n",
       "  HumanMessage(content='What is your highest level of education?'),\n",
       "  AIMessage(content='<pad>  M.Sc.  DSAI  AIT  Asian  Institute  of  Technology,  Thailand\\n')],\n",
       " 'answer': '<pad>  B.Sc.  CSIT  Science  in  Computer  Science  and  Information  Technology  (B.Sc.  CSIT)  from  St.  Xavier’s  College,  Maitighar,  Kathmandu,  where  he  graduated  with  distinction,  securing  81.36%.\\n',\n",
       " 'source_documents': [Document(page_content='(Division)  \\nM.Sc. DSAI \\nAIT \\nAsian Institute of Technology, \\nThailand \\nCurrent \\n \\nB.Sc. CSIT  \\nT.U.  \\nSt. Xavier’s College Maitighar,  \\nKathmandu  \\n2013 A.D.  \\n81.36%  \\n(Distinction)  \\n10+2  \\nHSEB  \\nMillennium H.S.S. Tansen, \\nPalpa  \\n2007 A.D.  \\n64.1%  \\n(Ist div.)  \\nS.L.C.  \\nHMG  \\nNew Horizon Eng. Bo. Sec. School \\nTansen, Palpa  \\n2005 A.D.  \\n71.37%  \\n(Ist div.)  \\n  \\nACADEMIC PROJECTS  \\n• \\nFinal year project entitled “ICT in SMART Energy for Sustainable Empowerment” as per the \\nrequirement for the partial fulfillment of B.Sc. CSIT degree.  \\n• \\nMini project on Database entitled “Vehicle Registration System” as per the requirement for the \\npartial fulfillment of B.Sc. CSIT degree.  \\n•', metadata={'source': '/Users/sachinmalego/Documents/AIT Course Works/02. Second Semester/02. AI-NLU/Lab Work/Github/Python-fo-Natural-Language-Processing/Assignment/NLP-A6-Lets-Talk-with-Yourself/documents/CV _SachinMalego.pdf', 'file_path': '/Users/sachinmalego/Documents/AIT Course Works/02. Second Semester/02. AI-NLU/Lab Work/Github/Python-fo-Natural-Language-Processing/Assignment/NLP-A6-Lets-Talk-with-Yourself/documents/CV _SachinMalego.pdf', 'page': 4, 'total_pages': 7, 'format': 'PDF 1.4', 'title': '', 'author': '', 'subject': '', 'keywords': '', 'creator': '', 'producer': 'macOS Version 15.1.1 (Build 24B91) Quartz PDFContext', 'creationDate': \"D:20241213042847Z00'00'\", 'modDate': \"D:20241213042847Z00'00'\", 'trapped': ''}),\n",
       "  Document(page_content='• \\nPerformed regular quality checks in the database to ensure data quality, accuracy, and \\nconsistency.  \\n• \\nUndertook any other duties as required.  \\n  \\nPROFESSIONAL ENGAGEMENT  \\n• \\nLead the development of disaster emergency situation reports with NDRRMA.  \\n• \\nEstablished a tool for the collection of disaster emergency support of relief materials distribution.  \\n• \\nSupported and participated as an advisor to the many diaster management information system \\ndeveloped by NDRRMA.  \\n  \\n  \\nACADEMIC QUALIFICATIONS  \\n  \\nDegree  \\nBoard  \\nName of Institution  \\nYear of \\nCompletion  \\nAggregrate marks \\n(Division)  \\nM.Sc. DSAI \\nAIT \\nAsian Institute of Technology, \\nThailand \\nCurrent \\n \\nB.Sc. CSIT', metadata={'source': '/Users/sachinmalego/Documents/AIT Course Works/02. Second Semester/02. AI-NLU/Lab Work/Github/Python-fo-Natural-Language-Processing/Assignment/NLP-A6-Lets-Talk-with-Yourself/documents/CV _SachinMalego.pdf', 'file_path': '/Users/sachinmalego/Documents/AIT Course Works/02. Second Semester/02. AI-NLU/Lab Work/Github/Python-fo-Natural-Language-Processing/Assignment/NLP-A6-Lets-Talk-with-Yourself/documents/CV _SachinMalego.pdf', 'page': 4, 'total_pages': 7, 'format': 'PDF 1.4', 'title': '', 'author': '', 'subject': '', 'keywords': '', 'creator': '', 'producer': 'macOS Version 15.1.1 (Build 24B91) Quartz PDFContext', 'creationDate': \"D:20241213042847Z00'00'\", 'modDate': \"D:20241213042847Z00'00'\", 'trapped': ''}),\n",
       "  Document(page_content=\"Science in Computer Science and Information Technology (B.Sc. CSIT) from St. Xavier’s \\nCollege, Maitighar, Kathmandu, where he graduated with distinction, securing 81.36%. Currently, \\nhe is pursuing a Master of Science in Data Science and Artificial Intelligence at the Asian Institute \\nof Technology (AIT), Thailand, further expanding his expertise in AI, predictive analytics, and \\ndata-driven solutions. \\nSachin's professional experience is marked by his tenure as an Information Management Officer \\nat the National Disaster Risk Reduction and Management Authority (NDRRMA) under the \\nGovernment of Nepal from 2018 to 2024. His role involved designing and managing critical\", metadata={'source': '/Users/sachinmalego/Documents/AIT Course Works/02. Second Semester/02. AI-NLU/Lab Work/Github/Python-fo-Natural-Language-Processing/Assignment/NLP-A6-Lets-Talk-with-Yourself/documents/Profile_SachinMalego.pdf', 'file_path': '/Users/sachinmalego/Documents/AIT Course Works/02. Second Semester/02. AI-NLU/Lab Work/Github/Python-fo-Natural-Language-Processing/Assignment/NLP-A6-Lets-Talk-with-Yourself/documents/Profile_SachinMalego.pdf', 'page': 0, 'total_pages': 2, 'format': 'PDF 1.3', 'title': '', 'author': '', 'subject': '', 'keywords': '', 'creator': '', 'producer': 'macOS Version 15.3.2 (Build 24D81) Quartz PDFContext', 'creationDate': \"D:20250315142840Z00'00'\", 'modDate': \"D:20250315142840Z00'00'\", 'trapped': ''}),\n",
       "  Document(page_content='record in technical leadership and consultancy roles, my aim is to drive digital transformation initiatives \\nand enhance organizational capabilities in utilizing data-driven strategies, artificial intelligence, and \\nmachine learning for impactful decision-making and sustainable development.  \\n  \\nPERSONAL DETAILS  \\nDate of Birth:  \\n23rd Dec 1988 A.D.  \\nGender:  \\nMale  \\nPermanent Address:  \\nAsan Tole, Tansen-2, Palpa, Nepal   \\nCurrent Address:  \\nAIT Thailand  \\nNationality:  \\nNepali  \\nLanguage Known:  \\nEnglish, Nepali  \\n  \\nPROFESSIONAL WORKING EXPERIENCE  \\nDate: July 08, 2018 – July 15, 2024 \\nJob Title: Information Management Officer - National', metadata={'source': '/Users/sachinmalego/Documents/AIT Course Works/02. Second Semester/02. AI-NLU/Lab Work/Github/Python-fo-Natural-Language-Processing/Assignment/NLP-A6-Lets-Talk-with-Yourself/documents/CV _SachinMalego.pdf', 'file_path': '/Users/sachinmalego/Documents/AIT Course Works/02. Second Semester/02. AI-NLU/Lab Work/Github/Python-fo-Natural-Language-Processing/Assignment/NLP-A6-Lets-Talk-with-Yourself/documents/CV _SachinMalego.pdf', 'page': 0, 'total_pages': 7, 'format': 'PDF 1.4', 'title': '', 'author': '', 'subject': '', 'keywords': '', 'creator': '', 'producer': 'macOS Version 15.1.1 (Build 24B91) Quartz PDFContext', 'creationDate': \"D:20241213042847Z00'00'\", 'modDate': \"D:20241213042847Z00'00'\", 'trapped': ''})]}"
      ]
     },
     "execution_count": 35,
     "metadata": {},
     "output_type": "execute_result"
    }
   ],
   "source": [
    "prompt_question = \"What major or field of study did you pursue during your education?\"\n",
    "answer = chain({\"question\":prompt_question})\n",
    "answer"
   ]
  },
  {
   "cell_type": "code",
   "execution_count": 36,
   "metadata": {},
   "outputs": [
    {
     "name": "stdout",
     "output_type": "stream",
     "text": [
      "\n",
      "\n",
      "\u001b[1m> Entering new ConversationalRetrievalChain chain...\u001b[0m\n",
      "\n",
      "\n",
      "\u001b[1m> Entering new LLMChain chain...\u001b[0m\n",
      "Prompt after formatting:\n",
      "\u001b[32;1m\u001b[1;3mGiven the following conversation and a follow up question, rephrase the follow up question to be a standalone question, in its original language.\n",
      "\n",
      "Chat History:\n",
      "[HumanMessage(content='How old are you?'), AIMessage(content='<pad>  23rd  Dec  1988  A.D.\\n'), HumanMessage(content='What is your highest level of education?'), AIMessage(content='<pad>  M.Sc.  DSAI  AIT  Asian  Institute  of  Technology,  Thailand\\n'), HumanMessage(content='What major or field of study did you pursue during your education?'), AIMessage(content='<pad>  B.Sc.  CSIT  Science  in  Computer  Science  and  Information  Technology  (B.Sc.  CSIT)  from  St.  Xavier’s  College,  Maitighar,  Kathmandu,  where  he  graduated  with  distinction,  securing  81.36%.\\n')]\n",
      "Follow Up Input: Can you describe your current role or job responsibilities?\n",
      "Standalone question:\u001b[0m\n",
      "\n",
      "\u001b[1m> Finished chain.\u001b[0m\n",
      "\n",
      "\n",
      "\u001b[1m> Entering new StuffDocumentsChain chain...\u001b[0m\n",
      "\n",
      "\n",
      "\u001b[1m> Entering new LLMChain chain...\u001b[0m\n",
      "Prompt after formatting:\n",
      "\u001b[32;1m\u001b[1;3mHi! I am an AI - RAGBot assistant that answers questions about the user based on the available documents. \n",
      "    I ensure responses are accurate and cite relevant sources.\n",
      "    I'll be sure to answer you to the best of my ability!!\n",
      "    Context: • \n",
      "Undertake any other duties assigned by the supervisor, demonstrating flexibility and \n",
      "adaptability to contribute to various tasks and initiatives as needed.  \n",
      "  \n",
      "Date: July 08, 2018 - March 31, 2018\n",
      "\n",
      "assistance to empower users to effectively utilize information systems for their respective roles \n",
      "and responsibilities.  \n",
      "  \n",
      "Date: January 01, 2020 – March 31, 2020 (Acting Position)  \n",
      "Position: Acting Information Manager (Duty Station: NHSRP Central Office, Lalitpur) \n",
      "Organization/Agency: Catholic Relief Services - Nepal Job Responsibilities:  \n",
      "• \n",
      "Develop and administer a monitoring tool and key performance indicators for Information \n",
      "Management Officers (IMOs), ensuring regular capacity appraisals and performance evaluations \n",
      "to maintain effectiveness.  \n",
      "• \n",
      "Implement training sessions to support staff in various data-related tasks, including data\n",
      "\n",
      "• \n",
      "Offer technical assistance to IMOs in data processing, analysis, GIS mapping, and production of \n",
      "information management products, ensuring consistency in information management strategies \n",
      "across districts.  \n",
      "• \n",
      "Engage with government authorities, Partner Organizations (POs), and other stakeholders to \n",
      "facilitate collaboration and information sharing.  \n",
      "• \n",
      "Collaborate with the national coordination team in the documentation and design of workshops, \n",
      "meetings, monitoring activities, and other events, ensuring timely reporting with updates and \n",
      "reports to support decision-making.  \n",
      "• \n",
      "Undertake any other duties assigned by the supervisor, demonstrating flexibility and\n",
      "\n",
      "record in technical leadership and consultancy roles, my aim is to drive digital transformation initiatives \n",
      "and enhance organizational capabilities in utilizing data-driven strategies, artificial intelligence, and \n",
      "machine learning for impactful decision-making and sustainable development.  \n",
      "  \n",
      "PERSONAL DETAILS  \n",
      "Date of Birth:  \n",
      "23rd Dec 1988 A.D.  \n",
      "Gender:  \n",
      "Male  \n",
      "Permanent Address:  \n",
      "Asan Tole, Tansen-2, Palpa, Nepal   \n",
      "Current Address:  \n",
      "AIT Thailand  \n",
      "Nationality:  \n",
      "Nepali  \n",
      "Language Known:  \n",
      "English, Nepali  \n",
      "  \n",
      "PROFESSIONAL WORKING EXPERIENCE  \n",
      "Date: July 08, 2018 – July 15, 2024 \n",
      "Job Title: Information Management Officer - National\n",
      "    Question: <pad>  What  is  your  current  role  or  job  responsibilities?\n",
      "\n",
      "    Answer:\u001b[0m\n",
      "\n",
      "\u001b[1m> Finished chain.\u001b[0m\n",
      "\n",
      "\u001b[1m> Finished chain.\u001b[0m\n",
      "\n",
      "\u001b[1m> Finished chain.\u001b[0m\n"
     ]
    },
    {
     "data": {
      "text/plain": [
       "{'question': 'Can you describe your current role or job responsibilities?',\n",
       " 'chat_history': [HumanMessage(content='How old are you?'),\n",
       "  AIMessage(content='<pad>  23rd  Dec  1988  A.D.\\n'),\n",
       "  HumanMessage(content='What is your highest level of education?'),\n",
       "  AIMessage(content='<pad>  M.Sc.  DSAI  AIT  Asian  Institute  of  Technology,  Thailand\\n'),\n",
       "  HumanMessage(content='What major or field of study did you pursue during your education?'),\n",
       "  AIMessage(content='<pad>  B.Sc.  CSIT  Science  in  Computer  Science  and  Information  Technology  (B.Sc.  CSIT)  from  St.  Xavier’s  College,  Maitighar,  Kathmandu,  where  he  graduated  with  distinction,  securing  81.36%.\\n')],\n",
       " 'answer': '<pad> My  current  role  or  job  responsibilities  are  as  an  Information  Management  Officer  -  National  with  Catholic  Relief  Services  -  Nepal.  My  main  responsibilities  include  developing  and  administering  a  monitoring  tool  and  key  performance  indicators  for  Information  Management  Officers  (IMOs),  ensuring  regular  capacity  appraisals  and  performance  evaluations  to  maintain  effectiveness.  I  also  implement  training  sessions  to  support  staff  in  various  data-related  tasks,  including  data  processing,  analysis,  GIS  mapping,  and  production  of  information  management  products.  I  also  engage  with  government  authorities,  Partner  Organizations  (POs),  and  other  stakeholders  to  facilitate  collaboration  and  information  sharing.  Additionally,  I  collaborate  with  the  national  coordination  team  in  the  documentation  and  design  of  workshops,  meetings,  monitoring  activities,  and  other  events',\n",
       " 'source_documents': [Document(page_content='• \\nUndertake any other duties assigned by the supervisor, demonstrating flexibility and \\nadaptability to contribute to various tasks and initiatives as needed.  \\n  \\nDate: July 08, 2018 - March 31, 2018', metadata={'source': '/Users/sachinmalego/Documents/AIT Course Works/02. Second Semester/02. AI-NLU/Lab Work/Github/Python-fo-Natural-Language-Processing/Assignment/NLP-A6-Lets-Talk-with-Yourself/documents/CV _SachinMalego.pdf', 'file_path': '/Users/sachinmalego/Documents/AIT Course Works/02. Second Semester/02. AI-NLU/Lab Work/Github/Python-fo-Natural-Language-Processing/Assignment/NLP-A6-Lets-Talk-with-Yourself/documents/CV _SachinMalego.pdf', 'page': 2, 'total_pages': 7, 'format': 'PDF 1.4', 'title': '', 'author': '', 'subject': '', 'keywords': '', 'creator': '', 'producer': 'macOS Version 15.1.1 (Build 24B91) Quartz PDFContext', 'creationDate': \"D:20241213042847Z00'00'\", 'modDate': \"D:20241213042847Z00'00'\", 'trapped': ''}),\n",
       "  Document(page_content='assistance to empower users to effectively utilize information systems for their respective roles \\nand responsibilities.  \\n  \\nDate: January 01, 2020 – March 31, 2020 (Acting Position)  \\nPosition: Acting Information Manager (Duty Station: NHSRP Central Office, Lalitpur) \\nOrganization/Agency: Catholic Relief Services - Nepal Job Responsibilities:  \\n• \\nDevelop and administer a monitoring tool and key performance indicators for Information \\nManagement Officers (IMOs), ensuring regular capacity appraisals and performance evaluations \\nto maintain effectiveness.  \\n• \\nImplement training sessions to support staff in various data-related tasks, including data', metadata={'source': '/Users/sachinmalego/Documents/AIT Course Works/02. Second Semester/02. AI-NLU/Lab Work/Github/Python-fo-Natural-Language-Processing/Assignment/NLP-A6-Lets-Talk-with-Yourself/documents/CV _SachinMalego.pdf', 'file_path': '/Users/sachinmalego/Documents/AIT Course Works/02. Second Semester/02. AI-NLU/Lab Work/Github/Python-fo-Natural-Language-Processing/Assignment/NLP-A6-Lets-Talk-with-Yourself/documents/CV _SachinMalego.pdf', 'page': 2, 'total_pages': 7, 'format': 'PDF 1.4', 'title': '', 'author': '', 'subject': '', 'keywords': '', 'creator': '', 'producer': 'macOS Version 15.1.1 (Build 24B91) Quartz PDFContext', 'creationDate': \"D:20241213042847Z00'00'\", 'modDate': \"D:20241213042847Z00'00'\", 'trapped': ''}),\n",
       "  Document(page_content='• \\nOffer technical assistance to IMOs in data processing, analysis, GIS mapping, and production of \\ninformation management products, ensuring consistency in information management strategies \\nacross districts.  \\n• \\nEngage with government authorities, Partner Organizations (POs), and other stakeholders to \\nfacilitate collaboration and information sharing.  \\n• \\nCollaborate with the national coordination team in the documentation and design of workshops, \\nmeetings, monitoring activities, and other events, ensuring timely reporting with updates and \\nreports to support decision-making.  \\n• \\nUndertake any other duties assigned by the supervisor, demonstrating flexibility and', metadata={'source': '/Users/sachinmalego/Documents/AIT Course Works/02. Second Semester/02. AI-NLU/Lab Work/Github/Python-fo-Natural-Language-Processing/Assignment/NLP-A6-Lets-Talk-with-Yourself/documents/CV _SachinMalego.pdf', 'file_path': '/Users/sachinmalego/Documents/AIT Course Works/02. Second Semester/02. AI-NLU/Lab Work/Github/Python-fo-Natural-Language-Processing/Assignment/NLP-A6-Lets-Talk-with-Yourself/documents/CV _SachinMalego.pdf', 'page': 2, 'total_pages': 7, 'format': 'PDF 1.4', 'title': '', 'author': '', 'subject': '', 'keywords': '', 'creator': '', 'producer': 'macOS Version 15.1.1 (Build 24B91) Quartz PDFContext', 'creationDate': \"D:20241213042847Z00'00'\", 'modDate': \"D:20241213042847Z00'00'\", 'trapped': ''}),\n",
       "  Document(page_content='record in technical leadership and consultancy roles, my aim is to drive digital transformation initiatives \\nand enhance organizational capabilities in utilizing data-driven strategies, artificial intelligence, and \\nmachine learning for impactful decision-making and sustainable development.  \\n  \\nPERSONAL DETAILS  \\nDate of Birth:  \\n23rd Dec 1988 A.D.  \\nGender:  \\nMale  \\nPermanent Address:  \\nAsan Tole, Tansen-2, Palpa, Nepal   \\nCurrent Address:  \\nAIT Thailand  \\nNationality:  \\nNepali  \\nLanguage Known:  \\nEnglish, Nepali  \\n  \\nPROFESSIONAL WORKING EXPERIENCE  \\nDate: July 08, 2018 – July 15, 2024 \\nJob Title: Information Management Officer - National', metadata={'source': '/Users/sachinmalego/Documents/AIT Course Works/02. Second Semester/02. AI-NLU/Lab Work/Github/Python-fo-Natural-Language-Processing/Assignment/NLP-A6-Lets-Talk-with-Yourself/documents/CV _SachinMalego.pdf', 'file_path': '/Users/sachinmalego/Documents/AIT Course Works/02. Second Semester/02. AI-NLU/Lab Work/Github/Python-fo-Natural-Language-Processing/Assignment/NLP-A6-Lets-Talk-with-Yourself/documents/CV _SachinMalego.pdf', 'page': 0, 'total_pages': 7, 'format': 'PDF 1.4', 'title': '', 'author': '', 'subject': '', 'keywords': '', 'creator': '', 'producer': 'macOS Version 15.1.1 (Build 24B91) Quartz PDFContext', 'creationDate': \"D:20241213042847Z00'00'\", 'modDate': \"D:20241213042847Z00'00'\", 'trapped': ''})]}"
      ]
     },
     "execution_count": 36,
     "metadata": {},
     "output_type": "execute_result"
    }
   ],
   "source": [
    "prompt_question = \"Can you describe your current role or job responsibilities?\"\n",
    "answer = chain({\"question\":prompt_question})\n",
    "answer"
   ]
  },
  {
   "cell_type": "code",
   "execution_count": 37,
   "metadata": {},
   "outputs": [
    {
     "name": "stdout",
     "output_type": "stream",
     "text": [
      "\n",
      "\n",
      "\u001b[1m> Entering new ConversationalRetrievalChain chain...\u001b[0m\n",
      "\n",
      "\n",
      "\u001b[1m> Entering new LLMChain chain...\u001b[0m\n",
      "Prompt after formatting:\n",
      "\u001b[32;1m\u001b[1;3mGiven the following conversation and a follow up question, rephrase the follow up question to be a standalone question, in its original language.\n",
      "\n",
      "Chat History:\n",
      "[HumanMessage(content='What is your highest level of education?'), AIMessage(content='<pad>  M.Sc.  DSAI  AIT  Asian  Institute  of  Technology,  Thailand\\n'), HumanMessage(content='What major or field of study did you pursue during your education?'), AIMessage(content='<pad>  B.Sc.  CSIT  Science  in  Computer  Science  and  Information  Technology  (B.Sc.  CSIT)  from  St.  Xavier’s  College,  Maitighar,  Kathmandu,  where  he  graduated  with  distinction,  securing  81.36%.\\n'), HumanMessage(content='Can you describe your current role or job responsibilities?'), AIMessage(content='<pad> My  current  role  or  job  responsibilities  are  as  an  Information  Management  Officer  -  National  with  Catholic  Relief  Services  -  Nepal.  My  main  responsibilities  include  developing  and  administering  a  monitoring  tool  and  key  performance  indicators  for  Information  Management  Officers  (IMOs),  ensuring  regular  capacity  appraisals  and  performance  evaluations  to  maintain  effectiveness.  I  also  implement  training  sessions  to  support  staff  in  various  data-related  tasks,  including  data  processing,  analysis,  GIS  mapping,  and  production  of  information  management  products.  I  also  engage  with  government  authorities,  Partner  Organizations  (POs),  and  other  stakeholders  to  facilitate  collaboration  and  information  sharing.  Additionally,  I  collaborate  with  the  national  coordination  team  in  the  documentation  and  design  of  workshops,  meetings,  monitoring  activities,  and  other  events')]\n",
      "Follow Up Input: What type of work or industry have you been involved in?\n",
      "Standalone question:\u001b[0m\n",
      "\n",
      "\u001b[1m> Finished chain.\u001b[0m\n",
      "\n",
      "\n",
      "\u001b[1m> Entering new StuffDocumentsChain chain...\u001b[0m\n",
      "\n",
      "\n",
      "\u001b[1m> Entering new LLMChain chain...\u001b[0m\n",
      "Prompt after formatting:\n",
      "\u001b[32;1m\u001b[1;3mHi! I am an AI - RAGBot assistant that answers questions about the user based on the available documents. \n",
      "    I ensure responses are accurate and cite relevant sources.\n",
      "    I'll be sure to answer you to the best of my ability!!\n",
      "    Context: • \n",
      "Developed program infographics, snapshots, factsheets, and situation reports.  \n",
      "• \n",
      "Developed and maintained the Content Management System (CMS).\n",
      "\n",
      "Prior to this, Sachin served as a Web Developer and Data Management Officer at Web Fusion \n",
      "Nepal from 2013 to 2018, where he led software development projects, managed databases, and \n",
      "contributed to web application development. His expertise in programming languages such as C, \n",
      "C++, Java, Python, and PHP, along with his proficiency in GIS mapping, SharePoint, and AI-\n",
      "based modeling, have been instrumental in his success. \n",
      "Throughout his career, Sachin has provided consultancy services to national and international \n",
      "organizations, offering insights on data visualization, system documentation, and disaster\n",
      "\n",
      "• \n",
      "Performed regular quality checks in the database to ensure data quality, accuracy, and \n",
      "consistency.  \n",
      "• \n",
      "Undertook any other duties as required.  \n",
      "  \n",
      "PROFESSIONAL ENGAGEMENT  \n",
      "• \n",
      "Lead the development of disaster emergency situation reports with NDRRMA.  \n",
      "• \n",
      "Established a tool for the collection of disaster emergency support of relief materials distribution.  \n",
      "• \n",
      "Supported and participated as an advisor to the many diaster management information system \n",
      "developed by NDRRMA.  \n",
      "  \n",
      "  \n",
      "ACADEMIC QUALIFICATIONS  \n",
      "  \n",
      "Degree  \n",
      "Board  \n",
      "Name of Institution  \n",
      "Year of \n",
      "Completion  \n",
      "Aggregrate marks \n",
      "(Division)  \n",
      "M.Sc. DSAI \n",
      "AIT \n",
      "Asian Institute of Technology, \n",
      "Thailand \n",
      "Current \n",
      " \n",
      "B.Sc. CSIT\n",
      "\n",
      "SACHIN MALEGO  \n",
      "  \n",
      "+66-0910633538(M); e-mail: s.malego@gmail.com; st125171@ait.asia   \n",
      "5 | P a g e  \n",
      "  \n",
      "• \n",
      "Synthesized and analyzed complex information, presenting it in a simplified manner for \n",
      "understanding across the board.  \n",
      "• \n",
      "Supervised interns and data entry volunteers.  \n",
      "• \n",
      "Acted as a backup for the Data Management Associate, as and when requested.  \n",
      "• \n",
      "Provided end-user technical support to staff on software and hardware, including Operating \n",
      "systems, MS-Office package, network printers, and other applications.  \n",
      "• \n",
      "Conducted periodic database backups to ensure data and information security.  \n",
      "• \n",
      "Performed regular quality checks in the database to ensure data quality, accuracy, and\n",
      "    Question: <pad> What  type  of  work  or  industry  have  you  been  involved  in?\n",
      "\n",
      "    Answer:\u001b[0m\n",
      "\n",
      "\u001b[1m> Finished chain.\u001b[0m\n",
      "\n",
      "\u001b[1m> Finished chain.\u001b[0m\n",
      "\n",
      "\u001b[1m> Finished chain.\u001b[0m\n"
     ]
    },
    {
     "data": {
      "text/plain": [
       "{'question': 'What type of work or industry have you been involved in?',\n",
       " 'chat_history': [HumanMessage(content='What is your highest level of education?'),\n",
       "  AIMessage(content='<pad>  M.Sc.  DSAI  AIT  Asian  Institute  of  Technology,  Thailand\\n'),\n",
       "  HumanMessage(content='What major or field of study did you pursue during your education?'),\n",
       "  AIMessage(content='<pad>  B.Sc.  CSIT  Science  in  Computer  Science  and  Information  Technology  (B.Sc.  CSIT)  from  St.  Xavier’s  College,  Maitighar,  Kathmandu,  where  he  graduated  with  distinction,  securing  81.36%.\\n'),\n",
       "  HumanMessage(content='Can you describe your current role or job responsibilities?'),\n",
       "  AIMessage(content='<pad> My  current  role  or  job  responsibilities  are  as  an  Information  Management  Officer  -  National  with  Catholic  Relief  Services  -  Nepal.  My  main  responsibilities  include  developing  and  administering  a  monitoring  tool  and  key  performance  indicators  for  Information  Management  Officers  (IMOs),  ensuring  regular  capacity  appraisals  and  performance  evaluations  to  maintain  effectiveness.  I  also  implement  training  sessions  to  support  staff  in  various  data-related  tasks,  including  data  processing,  analysis,  GIS  mapping,  and  production  of  information  management  products.  I  also  engage  with  government  authorities,  Partner  Organizations  (POs),  and  other  stakeholders  to  facilitate  collaboration  and  information  sharing.  Additionally,  I  collaborate  with  the  national  coordination  team  in  the  documentation  and  design  of  workshops,  meetings,  monitoring  activities,  and  other  events')],\n",
       " 'answer': '<pad>  I  have  been  involved  in  the  field  of  software  development  and  data  management.  I  have  worked  in  various  organizations  such  as  Web  Fusion  Nepal,  NDRRMA,  and  Web  Fusion  Nepal  as  a  Web  Developer  and  Data  Management  Officer.  I  have  also  provided  consultancy  services  to  national  and  international  organizations  on  data  visualization,  system  documentation,  and  disaster  management.\\n',\n",
       " 'source_documents': [Document(page_content='• \\nDeveloped program infographics, snapshots, factsheets, and situation reports.  \\n• \\nDeveloped and maintained the Content Management System (CMS).', metadata={'source': '/Users/sachinmalego/Documents/AIT Course Works/02. Second Semester/02. AI-NLU/Lab Work/Github/Python-fo-Natural-Language-Processing/Assignment/NLP-A6-Lets-Talk-with-Yourself/documents/CV _SachinMalego.pdf', 'file_path': '/Users/sachinmalego/Documents/AIT Course Works/02. Second Semester/02. AI-NLU/Lab Work/Github/Python-fo-Natural-Language-Processing/Assignment/NLP-A6-Lets-Talk-with-Yourself/documents/CV _SachinMalego.pdf', 'page': 3, 'total_pages': 7, 'format': 'PDF 1.4', 'title': '', 'author': '', 'subject': '', 'keywords': '', 'creator': '', 'producer': 'macOS Version 15.1.1 (Build 24B91) Quartz PDFContext', 'creationDate': \"D:20241213042847Z00'00'\", 'modDate': \"D:20241213042847Z00'00'\", 'trapped': ''}),\n",
       "  Document(page_content='Prior to this, Sachin served as a Web Developer and Data Management Officer at Web Fusion \\nNepal from 2013 to 2018, where he led software development projects, managed databases, and \\ncontributed to web application development. His expertise in programming languages such as C, \\nC++, Java, Python, and PHP, along with his proficiency in GIS mapping, SharePoint, and AI-\\nbased modeling, have been instrumental in his success. \\nThroughout his career, Sachin has provided consultancy services to national and international \\norganizations, offering insights on data visualization, system documentation, and disaster', metadata={'source': '/Users/sachinmalego/Documents/AIT Course Works/02. Second Semester/02. AI-NLU/Lab Work/Github/Python-fo-Natural-Language-Processing/Assignment/NLP-A6-Lets-Talk-with-Yourself/documents/Profile_SachinMalego.pdf', 'file_path': '/Users/sachinmalego/Documents/AIT Course Works/02. Second Semester/02. AI-NLU/Lab Work/Github/Python-fo-Natural-Language-Processing/Assignment/NLP-A6-Lets-Talk-with-Yourself/documents/Profile_SachinMalego.pdf', 'page': 0, 'total_pages': 2, 'format': 'PDF 1.3', 'title': '', 'author': '', 'subject': '', 'keywords': '', 'creator': '', 'producer': 'macOS Version 15.3.2 (Build 24D81) Quartz PDFContext', 'creationDate': \"D:20250315142840Z00'00'\", 'modDate': \"D:20250315142840Z00'00'\", 'trapped': ''}),\n",
       "  Document(page_content='• \\nPerformed regular quality checks in the database to ensure data quality, accuracy, and \\nconsistency.  \\n• \\nUndertook any other duties as required.  \\n  \\nPROFESSIONAL ENGAGEMENT  \\n• \\nLead the development of disaster emergency situation reports with NDRRMA.  \\n• \\nEstablished a tool for the collection of disaster emergency support of relief materials distribution.  \\n• \\nSupported and participated as an advisor to the many diaster management information system \\ndeveloped by NDRRMA.  \\n  \\n  \\nACADEMIC QUALIFICATIONS  \\n  \\nDegree  \\nBoard  \\nName of Institution  \\nYear of \\nCompletion  \\nAggregrate marks \\n(Division)  \\nM.Sc. DSAI \\nAIT \\nAsian Institute of Technology, \\nThailand \\nCurrent \\n \\nB.Sc. CSIT', metadata={'source': '/Users/sachinmalego/Documents/AIT Course Works/02. Second Semester/02. AI-NLU/Lab Work/Github/Python-fo-Natural-Language-Processing/Assignment/NLP-A6-Lets-Talk-with-Yourself/documents/CV _SachinMalego.pdf', 'file_path': '/Users/sachinmalego/Documents/AIT Course Works/02. Second Semester/02. AI-NLU/Lab Work/Github/Python-fo-Natural-Language-Processing/Assignment/NLP-A6-Lets-Talk-with-Yourself/documents/CV _SachinMalego.pdf', 'page': 4, 'total_pages': 7, 'format': 'PDF 1.4', 'title': '', 'author': '', 'subject': '', 'keywords': '', 'creator': '', 'producer': 'macOS Version 15.1.1 (Build 24B91) Quartz PDFContext', 'creationDate': \"D:20241213042847Z00'00'\", 'modDate': \"D:20241213042847Z00'00'\", 'trapped': ''}),\n",
       "  Document(page_content='SACHIN MALEGO  \\n  \\n+66-0910633538(M); e-mail: s.malego@gmail.com; st125171@ait.asia   \\n5 | P a g e  \\n  \\n• \\nSynthesized and analyzed complex information, presenting it in a simplified manner for \\nunderstanding across the board.  \\n• \\nSupervised interns and data entry volunteers.  \\n• \\nActed as a backup for the Data Management Associate, as and when requested.  \\n• \\nProvided end-user technical support to staff on software and hardware, including Operating \\nsystems, MS-Office package, network printers, and other applications.  \\n• \\nConducted periodic database backups to ensure data and information security.  \\n• \\nPerformed regular quality checks in the database to ensure data quality, accuracy, and', metadata={'source': '/Users/sachinmalego/Documents/AIT Course Works/02. Second Semester/02. AI-NLU/Lab Work/Github/Python-fo-Natural-Language-Processing/Assignment/NLP-A6-Lets-Talk-with-Yourself/documents/CV _SachinMalego.pdf', 'file_path': '/Users/sachinmalego/Documents/AIT Course Works/02. Second Semester/02. AI-NLU/Lab Work/Github/Python-fo-Natural-Language-Processing/Assignment/NLP-A6-Lets-Talk-with-Yourself/documents/CV _SachinMalego.pdf', 'page': 4, 'total_pages': 7, 'format': 'PDF 1.4', 'title': '', 'author': '', 'subject': '', 'keywords': '', 'creator': '', 'producer': 'macOS Version 15.1.1 (Build 24B91) Quartz PDFContext', 'creationDate': \"D:20241213042847Z00'00'\", 'modDate': \"D:20241213042847Z00'00'\", 'trapped': ''})]}"
      ]
     },
     "execution_count": 37,
     "metadata": {},
     "output_type": "execute_result"
    }
   ],
   "source": [
    "prompt_question = \"What type of work or industry have you been involved in?\"\n",
    "answer = chain({\"question\":prompt_question})\n",
    "answer"
   ]
  },
  {
   "cell_type": "code",
   "execution_count": 38,
   "metadata": {},
   "outputs": [
    {
     "name": "stdout",
     "output_type": "stream",
     "text": [
      "\n",
      "\n",
      "\u001b[1m> Entering new ConversationalRetrievalChain chain...\u001b[0m\n",
      "\n",
      "\n",
      "\u001b[1m> Entering new LLMChain chain...\u001b[0m\n",
      "Prompt after formatting:\n",
      "\u001b[32;1m\u001b[1;3mGiven the following conversation and a follow up question, rephrase the follow up question to be a standalone question, in its original language.\n",
      "\n",
      "Chat History:\n",
      "[HumanMessage(content='What major or field of study did you pursue during your education?'), AIMessage(content='<pad>  B.Sc.  CSIT  Science  in  Computer  Science  and  Information  Technology  (B.Sc.  CSIT)  from  St.  Xavier’s  College,  Maitighar,  Kathmandu,  where  he  graduated  with  distinction,  securing  81.36%.\\n'), HumanMessage(content='Can you describe your current role or job responsibilities?'), AIMessage(content='<pad> My  current  role  or  job  responsibilities  are  as  an  Information  Management  Officer  -  National  with  Catholic  Relief  Services  -  Nepal.  My  main  responsibilities  include  developing  and  administering  a  monitoring  tool  and  key  performance  indicators  for  Information  Management  Officers  (IMOs),  ensuring  regular  capacity  appraisals  and  performance  evaluations  to  maintain  effectiveness.  I  also  implement  training  sessions  to  support  staff  in  various  data-related  tasks,  including  data  processing,  analysis,  GIS  mapping,  and  production  of  information  management  products.  I  also  engage  with  government  authorities,  Partner  Organizations  (POs),  and  other  stakeholders  to  facilitate  collaboration  and  information  sharing.  Additionally,  I  collaborate  with  the  national  coordination  team  in  the  documentation  and  design  of  workshops,  meetings,  monitoring  activities,  and  other  events'), HumanMessage(content='What type of work or industry have you been involved in?'), AIMessage(content='<pad>  I  have  been  involved  in  the  field  of  software  development  and  data  management.  I  have  worked  in  various  organizations  such  as  Web  Fusion  Nepal,  NDRRMA,  and  Web  Fusion  Nepal  as  a  Web  Developer  and  Data  Management  Officer.  I  have  also  provided  consultancy  services  to  national  and  international  organizations  on  data  visualization,  system  documentation,  and  disaster  management.\\n')]\n",
      "Follow Up Input: What are your core beliefs regarding the role of technology in shaping society?\n",
      "Standalone question:\u001b[0m\n",
      "\n",
      "\u001b[1m> Finished chain.\u001b[0m\n",
      "\n",
      "\n",
      "\u001b[1m> Entering new StuffDocumentsChain chain...\u001b[0m\n",
      "\n",
      "\n",
      "\u001b[1m> Entering new LLMChain chain...\u001b[0m\n",
      "Prompt after formatting:\n",
      "\u001b[32;1m\u001b[1;3mHi! I am an AI - RAGBot assistant that answers questions about the user based on the available documents. \n",
      "    I ensure responses are accurate and cite relevant sources.\n",
      "    I'll be sure to answer you to the best of my ability!!\n",
      "    Context: organizations, offering insights on data visualization, system documentation, and disaster \n",
      "management strategies. His technical leadership in major national platforms, including his role as \n",
      "a Technical Lead for Asia Shelter Forum 2020 and Co-facilitator for Asia Shelter Forum 2021, \n",
      "underscores his ability to drive impactful initiatives. \n",
      "Sachin believes in the transformative power of technology in shaping society. He advocates for \n",
      "ethical AI practices, ensuring technological advancements align with cultural values and \n",
      "community needs. His vision is to leverage data science and AI to build resilient communities,\n",
      "\n",
      "development, GIS mapping, and system security, Sachin continues to drive technological \n",
      "advancements in his field. His ambition is to develop intelligent systems that enhance disaster risk \n",
      "assessment and response, ultimately contributing to sustainable development and community \n",
      "resilience.\n",
      "\n",
      "• \n",
      "Offer technical assistance to IMOs in data processing, analysis, GIS mapping, and production of \n",
      "information management products, ensuring consistency in information management strategies \n",
      "across districts.  \n",
      "• \n",
      "Engage with government authorities, Partner Organizations (POs), and other stakeholders to \n",
      "facilitate collaboration and information sharing.  \n",
      "• \n",
      "Collaborate with the national coordination team in the documentation and design of workshops, \n",
      "meetings, monitoring activities, and other events, ensuring timely reporting with updates and \n",
      "reports to support decision-making.  \n",
      "• \n",
      "Undertake any other duties assigned by the supervisor, demonstrating flexibility and\n",
      "\n",
      "functions such as data collection, collation, analysis, and dissemination. It involves maintaining \n",
      "archives of baseline data, key datasets, key indicators, and other essential tools necessary for \n",
      "effective information management.  \n",
      "• \n",
      "Management of IT Projects: Oversee IT projects, including software development initiatives, to \n",
      "ensure they are completed within established timelines and meet project objectives. This entails \n",
      "coordinating with developers, stakeholders, and project managers to ensure smooth project \n",
      "execution.  \n",
      "• \n",
      "Comprehensive System Documentation: Conduct thorough documentation of systems and source\n",
      "    Question: <pad> What  are  your  core  beliefs  regarding  the  role  of  technology  in  shaping  society?\n",
      "\n",
      "    Answer:\u001b[0m\n",
      "\n",
      "\u001b[1m> Finished chain.\u001b[0m\n",
      "\n",
      "\u001b[1m> Finished chain.\u001b[0m\n",
      "\n",
      "\u001b[1m> Finished chain.\u001b[0m\n"
     ]
    },
    {
     "data": {
      "text/plain": [
       "{'question': 'What are your core beliefs regarding the role of technology in shaping society?',\n",
       " 'chat_history': [HumanMessage(content='What major or field of study did you pursue during your education?'),\n",
       "  AIMessage(content='<pad>  B.Sc.  CSIT  Science  in  Computer  Science  and  Information  Technology  (B.Sc.  CSIT)  from  St.  Xavier’s  College,  Maitighar,  Kathmandu,  where  he  graduated  with  distinction,  securing  81.36%.\\n'),\n",
       "  HumanMessage(content='Can you describe your current role or job responsibilities?'),\n",
       "  AIMessage(content='<pad> My  current  role  or  job  responsibilities  are  as  an  Information  Management  Officer  -  National  with  Catholic  Relief  Services  -  Nepal.  My  main  responsibilities  include  developing  and  administering  a  monitoring  tool  and  key  performance  indicators  for  Information  Management  Officers  (IMOs),  ensuring  regular  capacity  appraisals  and  performance  evaluations  to  maintain  effectiveness.  I  also  implement  training  sessions  to  support  staff  in  various  data-related  tasks,  including  data  processing,  analysis,  GIS  mapping,  and  production  of  information  management  products.  I  also  engage  with  government  authorities,  Partner  Organizations  (POs),  and  other  stakeholders  to  facilitate  collaboration  and  information  sharing.  Additionally,  I  collaborate  with  the  national  coordination  team  in  the  documentation  and  design  of  workshops,  meetings,  monitoring  activities,  and  other  events'),\n",
       "  HumanMessage(content='What type of work or industry have you been involved in?'),\n",
       "  AIMessage(content='<pad>  I  have  been  involved  in  the  field  of  software  development  and  data  management.  I  have  worked  in  various  organizations  such  as  Web  Fusion  Nepal,  NDRRMA,  and  Web  Fusion  Nepal  as  a  Web  Developer  and  Data  Management  Officer.  I  have  also  provided  consultancy  services  to  national  and  international  organizations  on  data  visualization,  system  documentation,  and  disaster  management.\\n')],\n",
       " 'answer': '<pad> Sachin  believes  in  the  transformative  power  of  technology  in  shaping  society.  He  advocates  for  ethical  AI  practices,  ensuring  technological  advancements  align  with  cultural  values  and  community  needs.  He  believes  that  technology  can  be  used  to  build  resilient  communities,  develop  intelligent  systems  that  enhance  disaster  risk  assessment  and  response,  and  contribute  to  sustainable  development  and  community  resilience.  He  believes  that  technology  can  be  used  to  enhance  disaster  risk  assessment  and  response,  and  contribute  to  sustainable  development  and  community  resilience.  He  also  believes  that  technology  can  be  used  to  enhance  disaster  risk  assessment  and  response,  and  contribute  to  sustainable  development  and  community  resilience.\\n',\n",
       " 'source_documents': [Document(page_content='organizations, offering insights on data visualization, system documentation, and disaster \\nmanagement strategies. His technical leadership in major national platforms, including his role as \\na Technical Lead for Asia Shelter Forum 2020 and Co-facilitator for Asia Shelter Forum 2021, \\nunderscores his ability to drive impactful initiatives. \\nSachin believes in the transformative power of technology in shaping society. He advocates for \\nethical AI practices, ensuring technological advancements align with cultural values and \\ncommunity needs. His vision is to leverage data science and AI to build resilient communities,', metadata={'source': '/Users/sachinmalego/Documents/AIT Course Works/02. Second Semester/02. AI-NLU/Lab Work/Github/Python-fo-Natural-Language-Processing/Assignment/NLP-A6-Lets-Talk-with-Yourself/documents/Profile_SachinMalego.pdf', 'file_path': '/Users/sachinmalego/Documents/AIT Course Works/02. Second Semester/02. AI-NLU/Lab Work/Github/Python-fo-Natural-Language-Processing/Assignment/NLP-A6-Lets-Talk-with-Yourself/documents/Profile_SachinMalego.pdf', 'page': 0, 'total_pages': 2, 'format': 'PDF 1.3', 'title': '', 'author': '', 'subject': '', 'keywords': '', 'creator': '', 'producer': 'macOS Version 15.3.2 (Build 24D81) Quartz PDFContext', 'creationDate': \"D:20250315142840Z00'00'\", 'modDate': \"D:20250315142840Z00'00'\", 'trapped': ''}),\n",
       "  Document(page_content='development, GIS mapping, and system security, Sachin continues to drive technological \\nadvancements in his field. His ambition is to develop intelligent systems that enhance disaster risk \\nassessment and response, ultimately contributing to sustainable development and community \\nresilience.', metadata={'source': '/Users/sachinmalego/Documents/AIT Course Works/02. Second Semester/02. AI-NLU/Lab Work/Github/Python-fo-Natural-Language-Processing/Assignment/NLP-A6-Lets-Talk-with-Yourself/documents/Profile_SachinMalego.pdf', 'file_path': '/Users/sachinmalego/Documents/AIT Course Works/02. Second Semester/02. AI-NLU/Lab Work/Github/Python-fo-Natural-Language-Processing/Assignment/NLP-A6-Lets-Talk-with-Yourself/documents/Profile_SachinMalego.pdf', 'page': 1, 'total_pages': 2, 'format': 'PDF 1.3', 'title': '', 'author': '', 'subject': '', 'keywords': '', 'creator': '', 'producer': 'macOS Version 15.3.2 (Build 24D81) Quartz PDFContext', 'creationDate': \"D:20250315142840Z00'00'\", 'modDate': \"D:20250315142840Z00'00'\", 'trapped': ''}),\n",
       "  Document(page_content='• \\nOffer technical assistance to IMOs in data processing, analysis, GIS mapping, and production of \\ninformation management products, ensuring consistency in information management strategies \\nacross districts.  \\n• \\nEngage with government authorities, Partner Organizations (POs), and other stakeholders to \\nfacilitate collaboration and information sharing.  \\n• \\nCollaborate with the national coordination team in the documentation and design of workshops, \\nmeetings, monitoring activities, and other events, ensuring timely reporting with updates and \\nreports to support decision-making.  \\n• \\nUndertake any other duties assigned by the supervisor, demonstrating flexibility and', metadata={'source': '/Users/sachinmalego/Documents/AIT Course Works/02. Second Semester/02. AI-NLU/Lab Work/Github/Python-fo-Natural-Language-Processing/Assignment/NLP-A6-Lets-Talk-with-Yourself/documents/CV _SachinMalego.pdf', 'file_path': '/Users/sachinmalego/Documents/AIT Course Works/02. Second Semester/02. AI-NLU/Lab Work/Github/Python-fo-Natural-Language-Processing/Assignment/NLP-A6-Lets-Talk-with-Yourself/documents/CV _SachinMalego.pdf', 'page': 2, 'total_pages': 7, 'format': 'PDF 1.4', 'title': '', 'author': '', 'subject': '', 'keywords': '', 'creator': '', 'producer': 'macOS Version 15.1.1 (Build 24B91) Quartz PDFContext', 'creationDate': \"D:20241213042847Z00'00'\", 'modDate': \"D:20241213042847Z00'00'\", 'trapped': ''}),\n",
       "  Document(page_content='functions such as data collection, collation, analysis, and dissemination. It involves maintaining \\narchives of baseline data, key datasets, key indicators, and other essential tools necessary for \\neffective information management.  \\n• \\nManagement of IT Projects: Oversee IT projects, including software development initiatives, to \\nensure they are completed within established timelines and meet project objectives. This entails \\ncoordinating with developers, stakeholders, and project managers to ensure smooth project \\nexecution.  \\n• \\nComprehensive System Documentation: Conduct thorough documentation of systems and source', metadata={'source': '/Users/sachinmalego/Documents/AIT Course Works/02. Second Semester/02. AI-NLU/Lab Work/Github/Python-fo-Natural-Language-Processing/Assignment/NLP-A6-Lets-Talk-with-Yourself/documents/CV _SachinMalego.pdf', 'file_path': '/Users/sachinmalego/Documents/AIT Course Works/02. Second Semester/02. AI-NLU/Lab Work/Github/Python-fo-Natural-Language-Processing/Assignment/NLP-A6-Lets-Talk-with-Yourself/documents/CV _SachinMalego.pdf', 'page': 1, 'total_pages': 7, 'format': 'PDF 1.4', 'title': '', 'author': '', 'subject': '', 'keywords': '', 'creator': '', 'producer': 'macOS Version 15.1.1 (Build 24B91) Quartz PDFContext', 'creationDate': \"D:20241213042847Z00'00'\", 'modDate': \"D:20241213042847Z00'00'\", 'trapped': ''})]}"
      ]
     },
     "execution_count": 38,
     "metadata": {},
     "output_type": "execute_result"
    }
   ],
   "source": [
    "prompt_question = \"What are your core beliefs regarding the role of technology in shaping society?\"\n",
    "answer = chain({\"question\":prompt_question})\n",
    "answer"
   ]
  },
  {
   "cell_type": "code",
   "execution_count": 39,
   "metadata": {},
   "outputs": [
    {
     "name": "stdout",
     "output_type": "stream",
     "text": [
      "\n",
      "\n",
      "\u001b[1m> Entering new ConversationalRetrievalChain chain...\u001b[0m\n",
      "\n",
      "\n",
      "\u001b[1m> Entering new LLMChain chain...\u001b[0m\n",
      "Prompt after formatting:\n",
      "\u001b[32;1m\u001b[1;3mGiven the following conversation and a follow up question, rephrase the follow up question to be a standalone question, in its original language.\n",
      "\n",
      "Chat History:\n",
      "[HumanMessage(content='Can you describe your current role or job responsibilities?'), AIMessage(content='<pad> My  current  role  or  job  responsibilities  are  as  an  Information  Management  Officer  -  National  with  Catholic  Relief  Services  -  Nepal.  My  main  responsibilities  include  developing  and  administering  a  monitoring  tool  and  key  performance  indicators  for  Information  Management  Officers  (IMOs),  ensuring  regular  capacity  appraisals  and  performance  evaluations  to  maintain  effectiveness.  I  also  implement  training  sessions  to  support  staff  in  various  data-related  tasks,  including  data  processing,  analysis,  GIS  mapping,  and  production  of  information  management  products.  I  also  engage  with  government  authorities,  Partner  Organizations  (POs),  and  other  stakeholders  to  facilitate  collaboration  and  information  sharing.  Additionally,  I  collaborate  with  the  national  coordination  team  in  the  documentation  and  design  of  workshops,  meetings,  monitoring  activities,  and  other  events'), HumanMessage(content='What type of work or industry have you been involved in?'), AIMessage(content='<pad>  I  have  been  involved  in  the  field  of  software  development  and  data  management.  I  have  worked  in  various  organizations  such  as  Web  Fusion  Nepal,  NDRRMA,  and  Web  Fusion  Nepal  as  a  Web  Developer  and  Data  Management  Officer.  I  have  also  provided  consultancy  services  to  national  and  international  organizations  on  data  visualization,  system  documentation,  and  disaster  management.\\n'), HumanMessage(content='What are your core beliefs regarding the role of technology in shaping society?'), AIMessage(content='<pad> Sachin  believes  in  the  transformative  power  of  technology  in  shaping  society.  He  advocates  for  ethical  AI  practices,  ensuring  technological  advancements  align  with  cultural  values  and  community  needs.  He  believes  that  technology  can  be  used  to  build  resilient  communities,  develop  intelligent  systems  that  enhance  disaster  risk  assessment  and  response,  and  contribute  to  sustainable  development  and  community  resilience.  He  believes  that  technology  can  be  used  to  enhance  disaster  risk  assessment  and  response,  and  contribute  to  sustainable  development  and  community  resilience.  He  also  believes  that  technology  can  be  used  to  enhance  disaster  risk  assessment  and  response,  and  contribute  to  sustainable  development  and  community  resilience.\\n')]\n",
      "Follow Up Input: How do you think cultural values should influence technological advancements?\n",
      "Standalone question:\u001b[0m\n",
      "\n",
      "\u001b[1m> Finished chain.\u001b[0m\n",
      "\n",
      "\n",
      "\u001b[1m> Entering new StuffDocumentsChain chain...\u001b[0m\n",
      "\n",
      "\n",
      "\u001b[1m> Entering new LLMChain chain...\u001b[0m\n",
      "Prompt after formatting:\n",
      "\u001b[32;1m\u001b[1;3mHi! I am an AI - RAGBot assistant that answers questions about the user based on the available documents. \n",
      "    I ensure responses are accurate and cite relevant sources.\n",
      "    I'll be sure to answer you to the best of my ability!!\n",
      "    Context: organizations, offering insights on data visualization, system documentation, and disaster \n",
      "management strategies. His technical leadership in major national platforms, including his role as \n",
      "a Technical Lead for Asia Shelter Forum 2020 and Co-facilitator for Asia Shelter Forum 2021, \n",
      "underscores his ability to drive impactful initiatives. \n",
      "Sachin believes in the transformative power of technology in shaping society. He advocates for \n",
      "ethical AI practices, ensuring technological advancements align with cultural values and \n",
      "community needs. His vision is to leverage data science and AI to build resilient communities,\n",
      "\n",
      "development, GIS mapping, and system security, Sachin continues to drive technological \n",
      "advancements in his field. His ambition is to develop intelligent systems that enhance disaster risk \n",
      "assessment and response, ultimately contributing to sustainable development and community \n",
      "resilience.\n",
      "\n",
      "products, such as analysis reports, maps, and case studies, in the local language. These products \n",
      "serve to inform stakeholders and aid in strategy and decision-making processes at the local level.\n",
      "\n",
      "program requirements to visually communicate key information and insights. These visual aids \n",
      "enhance understanding and facilitate effective communication of complex data and concepts.  \n",
      "• \n",
      "Continuous Improvement of Information Systems: Drive continuous improvement efforts to enhance \n",
      "the functionality, efficiency, and sustainability of information systems. This includes gathering user \n",
      "feedback, identifying areas for enhancement, and implementing solutions to optimize system \n",
      "performance.  \n",
      "• \n",
      "Capacity Building Support: Provide inputs and support for the capacity building of end users of \n",
      "information systems. This involves conducting training sessions, workshops, and providing technical\n",
      "    Question: <pad> What  are  your  thoughts  on  the  importance  of  cultural  values  in  shaping  technological  advancements?\n",
      "\n",
      "    Answer:\u001b[0m\n",
      "\n",
      "\u001b[1m> Finished chain.\u001b[0m\n",
      "\n",
      "\u001b[1m> Finished chain.\u001b[0m\n",
      "\n",
      "\u001b[1m> Finished chain.\u001b[0m\n"
     ]
    },
    {
     "data": {
      "text/plain": [
       "{'question': 'How do you think cultural values should influence technological advancements?',\n",
       " 'chat_history': [HumanMessage(content='Can you describe your current role or job responsibilities?'),\n",
       "  AIMessage(content='<pad> My  current  role  or  job  responsibilities  are  as  an  Information  Management  Officer  -  National  with  Catholic  Relief  Services  -  Nepal.  My  main  responsibilities  include  developing  and  administering  a  monitoring  tool  and  key  performance  indicators  for  Information  Management  Officers  (IMOs),  ensuring  regular  capacity  appraisals  and  performance  evaluations  to  maintain  effectiveness.  I  also  implement  training  sessions  to  support  staff  in  various  data-related  tasks,  including  data  processing,  analysis,  GIS  mapping,  and  production  of  information  management  products.  I  also  engage  with  government  authorities,  Partner  Organizations  (POs),  and  other  stakeholders  to  facilitate  collaboration  and  information  sharing.  Additionally,  I  collaborate  with  the  national  coordination  team  in  the  documentation  and  design  of  workshops,  meetings,  monitoring  activities,  and  other  events'),\n",
       "  HumanMessage(content='What type of work or industry have you been involved in?'),\n",
       "  AIMessage(content='<pad>  I  have  been  involved  in  the  field  of  software  development  and  data  management.  I  have  worked  in  various  organizations  such  as  Web  Fusion  Nepal,  NDRRMA,  and  Web  Fusion  Nepal  as  a  Web  Developer  and  Data  Management  Officer.  I  have  also  provided  consultancy  services  to  national  and  international  organizations  on  data  visualization,  system  documentation,  and  disaster  management.\\n'),\n",
       "  HumanMessage(content='What are your core beliefs regarding the role of technology in shaping society?'),\n",
       "  AIMessage(content='<pad> Sachin  believes  in  the  transformative  power  of  technology  in  shaping  society.  He  advocates  for  ethical  AI  practices,  ensuring  technological  advancements  align  with  cultural  values  and  community  needs.  He  believes  that  technology  can  be  used  to  build  resilient  communities,  develop  intelligent  systems  that  enhance  disaster  risk  assessment  and  response,  and  contribute  to  sustainable  development  and  community  resilience.  He  believes  that  technology  can  be  used  to  enhance  disaster  risk  assessment  and  response,  and  contribute  to  sustainable  development  and  community  resilience.  He  also  believes  that  technology  can  be  used  to  enhance  disaster  risk  assessment  and  response,  and  contribute  to  sustainable  development  and  community  resilience.\\n')],\n",
       " 'answer': '<pad> Cultural  values  play  a  crucial  role  in  shaping  technological  advancements.  As  a  technologist  and  advocate  for  ethical  AI  practices,  I  believe  that  it  is  essential  to  consider  cultural  values  when  designing  and  implementing  technological  solutions.  This  involves  ensuring  that  technological  advancements  align  with  the  values  and  beliefs  of  the  communities  they  serve,  and  that  they  are  designed  to  be  inclusive  and  respectful  of  diverse  perspectives  and  experiences.\\n Cultural  values  can  be  expressed  through  various  forms,  such  as  values  related  to  social  justice,  environmental  sustainability,  and  community  empowerment.  By  incorporating  these  values  into  technological  advancements,  we  can  ensure  that  they  are  not  only  effective  but  also  align  with  the  needs  and  aspirations  of  the  communities  they  serve.\\n Additionally',\n",
       " 'source_documents': [Document(page_content='organizations, offering insights on data visualization, system documentation, and disaster \\nmanagement strategies. His technical leadership in major national platforms, including his role as \\na Technical Lead for Asia Shelter Forum 2020 and Co-facilitator for Asia Shelter Forum 2021, \\nunderscores his ability to drive impactful initiatives. \\nSachin believes in the transformative power of technology in shaping society. He advocates for \\nethical AI practices, ensuring technological advancements align with cultural values and \\ncommunity needs. His vision is to leverage data science and AI to build resilient communities,', metadata={'source': '/Users/sachinmalego/Documents/AIT Course Works/02. Second Semester/02. AI-NLU/Lab Work/Github/Python-fo-Natural-Language-Processing/Assignment/NLP-A6-Lets-Talk-with-Yourself/documents/Profile_SachinMalego.pdf', 'file_path': '/Users/sachinmalego/Documents/AIT Course Works/02. Second Semester/02. AI-NLU/Lab Work/Github/Python-fo-Natural-Language-Processing/Assignment/NLP-A6-Lets-Talk-with-Yourself/documents/Profile_SachinMalego.pdf', 'page': 0, 'total_pages': 2, 'format': 'PDF 1.3', 'title': '', 'author': '', 'subject': '', 'keywords': '', 'creator': '', 'producer': 'macOS Version 15.3.2 (Build 24D81) Quartz PDFContext', 'creationDate': \"D:20250315142840Z00'00'\", 'modDate': \"D:20250315142840Z00'00'\", 'trapped': ''}),\n",
       "  Document(page_content='development, GIS mapping, and system security, Sachin continues to drive technological \\nadvancements in his field. His ambition is to develop intelligent systems that enhance disaster risk \\nassessment and response, ultimately contributing to sustainable development and community \\nresilience.', metadata={'source': '/Users/sachinmalego/Documents/AIT Course Works/02. Second Semester/02. AI-NLU/Lab Work/Github/Python-fo-Natural-Language-Processing/Assignment/NLP-A6-Lets-Talk-with-Yourself/documents/Profile_SachinMalego.pdf', 'file_path': '/Users/sachinmalego/Documents/AIT Course Works/02. Second Semester/02. AI-NLU/Lab Work/Github/Python-fo-Natural-Language-Processing/Assignment/NLP-A6-Lets-Talk-with-Yourself/documents/Profile_SachinMalego.pdf', 'page': 1, 'total_pages': 2, 'format': 'PDF 1.3', 'title': '', 'author': '', 'subject': '', 'keywords': '', 'creator': '', 'producer': 'macOS Version 15.3.2 (Build 24D81) Quartz PDFContext', 'creationDate': \"D:20250315142840Z00'00'\", 'modDate': \"D:20250315142840Z00'00'\", 'trapped': ''}),\n",
       "  Document(page_content='products, such as analysis reports, maps, and case studies, in the local language. These products \\nserve to inform stakeholders and aid in strategy and decision-making processes at the local level.', metadata={'source': '/Users/sachinmalego/Documents/AIT Course Works/02. Second Semester/02. AI-NLU/Lab Work/Github/Python-fo-Natural-Language-Processing/Assignment/NLP-A6-Lets-Talk-with-Yourself/documents/CV _SachinMalego.pdf', 'file_path': '/Users/sachinmalego/Documents/AIT Course Works/02. Second Semester/02. AI-NLU/Lab Work/Github/Python-fo-Natural-Language-Processing/Assignment/NLP-A6-Lets-Talk-with-Yourself/documents/CV _SachinMalego.pdf', 'page': 1, 'total_pages': 7, 'format': 'PDF 1.4', 'title': '', 'author': '', 'subject': '', 'keywords': '', 'creator': '', 'producer': 'macOS Version 15.1.1 (Build 24B91) Quartz PDFContext', 'creationDate': \"D:20241213042847Z00'00'\", 'modDate': \"D:20241213042847Z00'00'\", 'trapped': ''}),\n",
       "  Document(page_content='program requirements to visually communicate key information and insights. These visual aids \\nenhance understanding and facilitate effective communication of complex data and concepts.  \\n• \\nContinuous Improvement of Information Systems: Drive continuous improvement efforts to enhance \\nthe functionality, efficiency, and sustainability of information systems. This includes gathering user \\nfeedback, identifying areas for enhancement, and implementing solutions to optimize system \\nperformance.  \\n• \\nCapacity Building Support: Provide inputs and support for the capacity building of end users of \\ninformation systems. This involves conducting training sessions, workshops, and providing technical', metadata={'source': '/Users/sachinmalego/Documents/AIT Course Works/02. Second Semester/02. AI-NLU/Lab Work/Github/Python-fo-Natural-Language-Processing/Assignment/NLP-A6-Lets-Talk-with-Yourself/documents/CV _SachinMalego.pdf', 'file_path': '/Users/sachinmalego/Documents/AIT Course Works/02. Second Semester/02. AI-NLU/Lab Work/Github/Python-fo-Natural-Language-Processing/Assignment/NLP-A6-Lets-Talk-with-Yourself/documents/CV _SachinMalego.pdf', 'page': 2, 'total_pages': 7, 'format': 'PDF 1.4', 'title': '', 'author': '', 'subject': '', 'keywords': '', 'creator': '', 'producer': 'macOS Version 15.1.1 (Build 24B91) Quartz PDFContext', 'creationDate': \"D:20241213042847Z00'00'\", 'modDate': \"D:20241213042847Z00'00'\", 'trapped': ''})]}"
      ]
     },
     "execution_count": 39,
     "metadata": {},
     "output_type": "execute_result"
    }
   ],
   "source": [
    "prompt_question = \"How do you think cultural values should influence technological advancements?\"\n",
    "answer = chain({\"question\":prompt_question})\n",
    "answer"
   ]
  },
  {
   "cell_type": "code",
   "execution_count": 40,
   "metadata": {},
   "outputs": [
    {
     "name": "stdout",
     "output_type": "stream",
     "text": [
      "\n",
      "\n",
      "\u001b[1m> Entering new ConversationalRetrievalChain chain...\u001b[0m\n",
      "\n",
      "\n",
      "\u001b[1m> Entering new LLMChain chain...\u001b[0m\n",
      "Prompt after formatting:\n",
      "\u001b[32;1m\u001b[1;3mGiven the following conversation and a follow up question, rephrase the follow up question to be a standalone question, in its original language.\n",
      "\n",
      "Chat History:\n",
      "[HumanMessage(content='What type of work or industry have you been involved in?'), AIMessage(content='<pad>  I  have  been  involved  in  the  field  of  software  development  and  data  management.  I  have  worked  in  various  organizations  such  as  Web  Fusion  Nepal,  NDRRMA,  and  Web  Fusion  Nepal  as  a  Web  Developer  and  Data  Management  Officer.  I  have  also  provided  consultancy  services  to  national  and  international  organizations  on  data  visualization,  system  documentation,  and  disaster  management.\\n'), HumanMessage(content='What are your core beliefs regarding the role of technology in shaping society?'), AIMessage(content='<pad> Sachin  believes  in  the  transformative  power  of  technology  in  shaping  society.  He  advocates  for  ethical  AI  practices,  ensuring  technological  advancements  align  with  cultural  values  and  community  needs.  He  believes  that  technology  can  be  used  to  build  resilient  communities,  develop  intelligent  systems  that  enhance  disaster  risk  assessment  and  response,  and  contribute  to  sustainable  development  and  community  resilience.  He  believes  that  technology  can  be  used  to  enhance  disaster  risk  assessment  and  response,  and  contribute  to  sustainable  development  and  community  resilience.  He  also  believes  that  technology  can  be  used  to  enhance  disaster  risk  assessment  and  response,  and  contribute  to  sustainable  development  and  community  resilience.\\n'), HumanMessage(content='How do you think cultural values should influence technological advancements?'), AIMessage(content='<pad> Cultural  values  play  a  crucial  role  in  shaping  technological  advancements.  As  a  technologist  and  advocate  for  ethical  AI  practices,  I  believe  that  it  is  essential  to  consider  cultural  values  when  designing  and  implementing  technological  solutions.  This  involves  ensuring  that  technological  advancements  align  with  the  values  and  beliefs  of  the  communities  they  serve,  and  that  they  are  designed  to  be  inclusive  and  respectful  of  diverse  perspectives  and  experiences.\\n Cultural  values  can  be  expressed  through  various  forms,  such  as  values  related  to  social  justice,  environmental  sustainability,  and  community  empowerment.  By  incorporating  these  values  into  technological  advancements,  we  can  ensure  that  they  are  not  only  effective  but  also  align  with  the  needs  and  aspirations  of  the  communities  they  serve.\\n Additionally')]\n",
      "Follow Up Input: As a master’s student, what is the most challenging aspect of your studies so far?\n",
      "Standalone question:\u001b[0m\n",
      "\n",
      "\u001b[1m> Finished chain.\u001b[0m\n",
      "\n",
      "\n",
      "\u001b[1m> Entering new StuffDocumentsChain chain...\u001b[0m\n",
      "\n",
      "\n",
      "\u001b[1m> Entering new LLMChain chain...\u001b[0m\n",
      "Prompt after formatting:\n",
      "\u001b[32;1m\u001b[1;3mHi! I am an AI - RAGBot assistant that answers questions about the user based on the available documents. \n",
      "    I ensure responses are accurate and cite relevant sources.\n",
      "    I'll be sure to answer you to the best of my ability!!\n",
      "    Context: (Division)  \n",
      "M.Sc. DSAI \n",
      "AIT \n",
      "Asian Institute of Technology, \n",
      "Thailand \n",
      "Current \n",
      " \n",
      "B.Sc. CSIT  \n",
      "T.U.  \n",
      "St. Xavier’s College Maitighar,  \n",
      "Kathmandu  \n",
      "2013 A.D.  \n",
      "81.36%  \n",
      "(Distinction)  \n",
      "10+2  \n",
      "HSEB  \n",
      "Millennium H.S.S. Tansen, \n",
      "Palpa  \n",
      "2007 A.D.  \n",
      "64.1%  \n",
      "(Ist div.)  \n",
      "S.L.C.  \n",
      "HMG  \n",
      "New Horizon Eng. Bo. Sec. School \n",
      "Tansen, Palpa  \n",
      "2005 A.D.  \n",
      "71.37%  \n",
      "(Ist div.)  \n",
      "  \n",
      "ACADEMIC PROJECTS  \n",
      "• \n",
      "Final year project entitled “ICT in SMART Energy for Sustainable Empowerment” as per the \n",
      "requirement for the partial fulfillment of B.Sc. CSIT degree.  \n",
      "• \n",
      "Mini project on Database entitled “Vehicle Registration System” as per the requirement for the \n",
      "partial fulfillment of B.Sc. CSIT degree.  \n",
      "•\n",
      "\n",
      "community needs. His vision is to leverage data science and AI to build resilient communities, \n",
      "enhance disaster preparedness, and develop intelligent decision-support systems that optimize \n",
      "resource allocation and policy-making. \n",
      "As a master's student, one of the most challenging aspects of his studies has been balancing \n",
      "academic research with practical implementation. Navigating complex AI model training, dealing \n",
      "with real-world data inconsistencies, and integrating AI-driven solutions in disaster management \n",
      "require continuous learning and adaptation. His research focuses on AI-driven predictive analytics,\n",
      "\n",
      "• \n",
      "Undertake any other duties assigned by the supervisor, demonstrating flexibility and \n",
      "adaptability to contribute to various tasks and initiatives as needed.  \n",
      "  \n",
      "Date: July 08, 2018 - March 31, 2018\n",
      "\n",
      "Sachin’s contributions to academia and research include multiple published reports and case \n",
      "studies, such as the 'Urban Housing Recovery - July 2020' and 'Impact of COVID-19 on Post-\n",
      "Earthquake Recovery and Reconstruction - June 2020,' where he played a crucial role in data \n",
      "collection, analysis, and publication. His research interests revolve around AI applications in \n",
      "disaster risk management, real-time data monitoring, and predictive modeling for crisis response. \n",
      "Equipped with a diverse skill set spanning programming, database management, AI model \n",
      "development, GIS mapping, and system security, Sachin continues to drive technological\n",
      "    Question: <pad>  What  has  been  the  most  challenging  aspect  of  your  studies  so  far?\n",
      "\n",
      "    Answer:\u001b[0m\n",
      "\n",
      "\u001b[1m> Finished chain.\u001b[0m\n",
      "\n",
      "\u001b[1m> Finished chain.\u001b[0m\n",
      "\n",
      "\u001b[1m> Finished chain.\u001b[0m\n"
     ]
    },
    {
     "data": {
      "text/plain": [
       "{'question': 'As a master’s student, what is the most challenging aspect of your studies so far?',\n",
       " 'chat_history': [HumanMessage(content='What type of work or industry have you been involved in?'),\n",
       "  AIMessage(content='<pad>  I  have  been  involved  in  the  field  of  software  development  and  data  management.  I  have  worked  in  various  organizations  such  as  Web  Fusion  Nepal,  NDRRMA,  and  Web  Fusion  Nepal  as  a  Web  Developer  and  Data  Management  Officer.  I  have  also  provided  consultancy  services  to  national  and  international  organizations  on  data  visualization,  system  documentation,  and  disaster  management.\\n'),\n",
       "  HumanMessage(content='What are your core beliefs regarding the role of technology in shaping society?'),\n",
       "  AIMessage(content='<pad> Sachin  believes  in  the  transformative  power  of  technology  in  shaping  society.  He  advocates  for  ethical  AI  practices,  ensuring  technological  advancements  align  with  cultural  values  and  community  needs.  He  believes  that  technology  can  be  used  to  build  resilient  communities,  develop  intelligent  systems  that  enhance  disaster  risk  assessment  and  response,  and  contribute  to  sustainable  development  and  community  resilience.  He  believes  that  technology  can  be  used  to  enhance  disaster  risk  assessment  and  response,  and  contribute  to  sustainable  development  and  community  resilience.  He  also  believes  that  technology  can  be  used  to  enhance  disaster  risk  assessment  and  response,  and  contribute  to  sustainable  development  and  community  resilience.\\n'),\n",
       "  HumanMessage(content='How do you think cultural values should influence technological advancements?'),\n",
       "  AIMessage(content='<pad> Cultural  values  play  a  crucial  role  in  shaping  technological  advancements.  As  a  technologist  and  advocate  for  ethical  AI  practices,  I  believe  that  it  is  essential  to  consider  cultural  values  when  designing  and  implementing  technological  solutions.  This  involves  ensuring  that  technological  advancements  align  with  the  values  and  beliefs  of  the  communities  they  serve,  and  that  they  are  designed  to  be  inclusive  and  respectful  of  diverse  perspectives  and  experiences.\\n Cultural  values  can  be  expressed  through  various  forms,  such  as  values  related  to  social  justice,  environmental  sustainability,  and  community  empowerment.  By  incorporating  these  values  into  technological  advancements,  we  can  ensure  that  they  are  not  only  effective  but  also  align  with  the  needs  and  aspirations  of  the  communities  they  serve.\\n Additionally')],\n",
       " 'answer': '<pad>  Balancing  academic  research  with  practical  implementation.\\n',\n",
       " 'source_documents': [Document(page_content='(Division)  \\nM.Sc. DSAI \\nAIT \\nAsian Institute of Technology, \\nThailand \\nCurrent \\n \\nB.Sc. CSIT  \\nT.U.  \\nSt. Xavier’s College Maitighar,  \\nKathmandu  \\n2013 A.D.  \\n81.36%  \\n(Distinction)  \\n10+2  \\nHSEB  \\nMillennium H.S.S. Tansen, \\nPalpa  \\n2007 A.D.  \\n64.1%  \\n(Ist div.)  \\nS.L.C.  \\nHMG  \\nNew Horizon Eng. Bo. Sec. School \\nTansen, Palpa  \\n2005 A.D.  \\n71.37%  \\n(Ist div.)  \\n  \\nACADEMIC PROJECTS  \\n• \\nFinal year project entitled “ICT in SMART Energy for Sustainable Empowerment” as per the \\nrequirement for the partial fulfillment of B.Sc. CSIT degree.  \\n• \\nMini project on Database entitled “Vehicle Registration System” as per the requirement for the \\npartial fulfillment of B.Sc. CSIT degree.  \\n•', metadata={'source': '/Users/sachinmalego/Documents/AIT Course Works/02. Second Semester/02. AI-NLU/Lab Work/Github/Python-fo-Natural-Language-Processing/Assignment/NLP-A6-Lets-Talk-with-Yourself/documents/CV _SachinMalego.pdf', 'file_path': '/Users/sachinmalego/Documents/AIT Course Works/02. Second Semester/02. AI-NLU/Lab Work/Github/Python-fo-Natural-Language-Processing/Assignment/NLP-A6-Lets-Talk-with-Yourself/documents/CV _SachinMalego.pdf', 'page': 4, 'total_pages': 7, 'format': 'PDF 1.4', 'title': '', 'author': '', 'subject': '', 'keywords': '', 'creator': '', 'producer': 'macOS Version 15.1.1 (Build 24B91) Quartz PDFContext', 'creationDate': \"D:20241213042847Z00'00'\", 'modDate': \"D:20241213042847Z00'00'\", 'trapped': ''}),\n",
       "  Document(page_content=\"community needs. His vision is to leverage data science and AI to build resilient communities, \\nenhance disaster preparedness, and develop intelligent decision-support systems that optimize \\nresource allocation and policy-making. \\nAs a master's student, one of the most challenging aspects of his studies has been balancing \\nacademic research with practical implementation. Navigating complex AI model training, dealing \\nwith real-world data inconsistencies, and integrating AI-driven solutions in disaster management \\nrequire continuous learning and adaptation. His research focuses on AI-driven predictive analytics,\", metadata={'source': '/Users/sachinmalego/Documents/AIT Course Works/02. Second Semester/02. AI-NLU/Lab Work/Github/Python-fo-Natural-Language-Processing/Assignment/NLP-A6-Lets-Talk-with-Yourself/documents/Profile_SachinMalego.pdf', 'file_path': '/Users/sachinmalego/Documents/AIT Course Works/02. Second Semester/02. AI-NLU/Lab Work/Github/Python-fo-Natural-Language-Processing/Assignment/NLP-A6-Lets-Talk-with-Yourself/documents/Profile_SachinMalego.pdf', 'page': 0, 'total_pages': 2, 'format': 'PDF 1.3', 'title': '', 'author': '', 'subject': '', 'keywords': '', 'creator': '', 'producer': 'macOS Version 15.3.2 (Build 24D81) Quartz PDFContext', 'creationDate': \"D:20250315142840Z00'00'\", 'modDate': \"D:20250315142840Z00'00'\", 'trapped': ''}),\n",
       "  Document(page_content='• \\nUndertake any other duties assigned by the supervisor, demonstrating flexibility and \\nadaptability to contribute to various tasks and initiatives as needed.  \\n  \\nDate: July 08, 2018 - March 31, 2018', metadata={'source': '/Users/sachinmalego/Documents/AIT Course Works/02. Second Semester/02. AI-NLU/Lab Work/Github/Python-fo-Natural-Language-Processing/Assignment/NLP-A6-Lets-Talk-with-Yourself/documents/CV _SachinMalego.pdf', 'file_path': '/Users/sachinmalego/Documents/AIT Course Works/02. Second Semester/02. AI-NLU/Lab Work/Github/Python-fo-Natural-Language-Processing/Assignment/NLP-A6-Lets-Talk-with-Yourself/documents/CV _SachinMalego.pdf', 'page': 2, 'total_pages': 7, 'format': 'PDF 1.4', 'title': '', 'author': '', 'subject': '', 'keywords': '', 'creator': '', 'producer': 'macOS Version 15.1.1 (Build 24B91) Quartz PDFContext', 'creationDate': \"D:20241213042847Z00'00'\", 'modDate': \"D:20241213042847Z00'00'\", 'trapped': ''}),\n",
       "  Document(page_content=\"Sachin’s contributions to academia and research include multiple published reports and case \\nstudies, such as the 'Urban Housing Recovery - July 2020' and 'Impact of COVID-19 on Post-\\nEarthquake Recovery and Reconstruction - June 2020,' where he played a crucial role in data \\ncollection, analysis, and publication. His research interests revolve around AI applications in \\ndisaster risk management, real-time data monitoring, and predictive modeling for crisis response. \\nEquipped with a diverse skill set spanning programming, database management, AI model \\ndevelopment, GIS mapping, and system security, Sachin continues to drive technological\", metadata={'source': '/Users/sachinmalego/Documents/AIT Course Works/02. Second Semester/02. AI-NLU/Lab Work/Github/Python-fo-Natural-Language-Processing/Assignment/NLP-A6-Lets-Talk-with-Yourself/documents/Profile_SachinMalego.pdf', 'file_path': '/Users/sachinmalego/Documents/AIT Course Works/02. Second Semester/02. AI-NLU/Lab Work/Github/Python-fo-Natural-Language-Processing/Assignment/NLP-A6-Lets-Talk-with-Yourself/documents/Profile_SachinMalego.pdf', 'page': 1, 'total_pages': 2, 'format': 'PDF 1.3', 'title': '', 'author': '', 'subject': '', 'keywords': '', 'creator': '', 'producer': 'macOS Version 15.3.2 (Build 24D81) Quartz PDFContext', 'creationDate': \"D:20250315142840Z00'00'\", 'modDate': \"D:20250315142840Z00'00'\", 'trapped': ''})]}"
      ]
     },
     "execution_count": 40,
     "metadata": {},
     "output_type": "execute_result"
    }
   ],
   "source": [
    "prompt_question = \"As a master’s student, what is the most challenging aspect of your studies so far?\"\n",
    "answer = chain({\"question\":prompt_question})\n",
    "answer"
   ]
  },
  {
   "cell_type": "code",
   "execution_count": 41,
   "metadata": {},
   "outputs": [
    {
     "name": "stdout",
     "output_type": "stream",
     "text": [
      "\n",
      "\n",
      "\u001b[1m> Entering new ConversationalRetrievalChain chain...\u001b[0m\n",
      "\n",
      "\n",
      "\u001b[1m> Entering new LLMChain chain...\u001b[0m\n",
      "Prompt after formatting:\n",
      "\u001b[32;1m\u001b[1;3mGiven the following conversation and a follow up question, rephrase the follow up question to be a standalone question, in its original language.\n",
      "\n",
      "Chat History:\n",
      "[HumanMessage(content='What are your core beliefs regarding the role of technology in shaping society?'), AIMessage(content='<pad> Sachin  believes  in  the  transformative  power  of  technology  in  shaping  society.  He  advocates  for  ethical  AI  practices,  ensuring  technological  advancements  align  with  cultural  values  and  community  needs.  He  believes  that  technology  can  be  used  to  build  resilient  communities,  develop  intelligent  systems  that  enhance  disaster  risk  assessment  and  response,  and  contribute  to  sustainable  development  and  community  resilience.  He  believes  that  technology  can  be  used  to  enhance  disaster  risk  assessment  and  response,  and  contribute  to  sustainable  development  and  community  resilience.  He  also  believes  that  technology  can  be  used  to  enhance  disaster  risk  assessment  and  response,  and  contribute  to  sustainable  development  and  community  resilience.\\n'), HumanMessage(content='How do you think cultural values should influence technological advancements?'), AIMessage(content='<pad> Cultural  values  play  a  crucial  role  in  shaping  technological  advancements.  As  a  technologist  and  advocate  for  ethical  AI  practices,  I  believe  that  it  is  essential  to  consider  cultural  values  when  designing  and  implementing  technological  solutions.  This  involves  ensuring  that  technological  advancements  align  with  the  values  and  beliefs  of  the  communities  they  serve,  and  that  they  are  designed  to  be  inclusive  and  respectful  of  diverse  perspectives  and  experiences.\\n Cultural  values  can  be  expressed  through  various  forms,  such  as  values  related  to  social  justice,  environmental  sustainability,  and  community  empowerment.  By  incorporating  these  values  into  technological  advancements,  we  can  ensure  that  they  are  not  only  effective  but  also  align  with  the  needs  and  aspirations  of  the  communities  they  serve.\\n Additionally'), HumanMessage(content='As a master’s student, what is the most challenging aspect of your studies so far?'), AIMessage(content='<pad>  Balancing  academic  research  with  practical  implementation.\\n')]\n",
      "Follow Up Input: What specific research interests or academic goals do you hope to achieve during your time as a master’s student?\n",
      "Standalone question:\u001b[0m\n",
      "\n",
      "\u001b[1m> Finished chain.\u001b[0m\n",
      "\n",
      "\n",
      "\u001b[1m> Entering new StuffDocumentsChain chain...\u001b[0m\n",
      "\n",
      "\n",
      "\u001b[1m> Entering new LLMChain chain...\u001b[0m\n",
      "Prompt after formatting:\n",
      "\u001b[32;1m\u001b[1;3mHi! I am an AI - RAGBot assistant that answers questions about the user based on the available documents. \n",
      "    I ensure responses are accurate and cite relevant sources.\n",
      "    I'll be sure to answer you to the best of my ability!!\n",
      "    Context: community needs. His vision is to leverage data science and AI to build resilient communities, \n",
      "enhance disaster preparedness, and develop intelligent decision-support systems that optimize \n",
      "resource allocation and policy-making. \n",
      "As a master's student, one of the most challenging aspects of his studies has been balancing \n",
      "academic research with practical implementation. Navigating complex AI model training, dealing \n",
      "with real-world data inconsistencies, and integrating AI-driven solutions in disaster management \n",
      "require continuous learning and adaptation. His research focuses on AI-driven predictive analytics,\n",
      "\n",
      "(Division)  \n",
      "M.Sc. DSAI \n",
      "AIT \n",
      "Asian Institute of Technology, \n",
      "Thailand \n",
      "Current \n",
      " \n",
      "B.Sc. CSIT  \n",
      "T.U.  \n",
      "St. Xavier’s College Maitighar,  \n",
      "Kathmandu  \n",
      "2013 A.D.  \n",
      "81.36%  \n",
      "(Distinction)  \n",
      "10+2  \n",
      "HSEB  \n",
      "Millennium H.S.S. Tansen, \n",
      "Palpa  \n",
      "2007 A.D.  \n",
      "64.1%  \n",
      "(Ist div.)  \n",
      "S.L.C.  \n",
      "HMG  \n",
      "New Horizon Eng. Bo. Sec. School \n",
      "Tansen, Palpa  \n",
      "2005 A.D.  \n",
      "71.37%  \n",
      "(Ist div.)  \n",
      "  \n",
      "ACADEMIC PROJECTS  \n",
      "• \n",
      "Final year project entitled “ICT in SMART Energy for Sustainable Empowerment” as per the \n",
      "requirement for the partial fulfillment of B.Sc. CSIT degree.  \n",
      "• \n",
      "Mini project on Database entitled “Vehicle Registration System” as per the requirement for the \n",
      "partial fulfillment of B.Sc. CSIT degree.  \n",
      "•\n",
      "\n",
      "• \n",
      "Undertake any other duties assigned by the supervisor, demonstrating flexibility and \n",
      "adaptability to contribute to various tasks and initiatives as needed.  \n",
      "  \n",
      "Date: July 08, 2018 - March 31, 2018\n",
      "\n",
      "record in technical leadership and consultancy roles, my aim is to drive digital transformation initiatives \n",
      "and enhance organizational capabilities in utilizing data-driven strategies, artificial intelligence, and \n",
      "machine learning for impactful decision-making and sustainable development.  \n",
      "  \n",
      "PERSONAL DETAILS  \n",
      "Date of Birth:  \n",
      "23rd Dec 1988 A.D.  \n",
      "Gender:  \n",
      "Male  \n",
      "Permanent Address:  \n",
      "Asan Tole, Tansen-2, Palpa, Nepal   \n",
      "Current Address:  \n",
      "AIT Thailand  \n",
      "Nationality:  \n",
      "Nepali  \n",
      "Language Known:  \n",
      "English, Nepali  \n",
      "  \n",
      "PROFESSIONAL WORKING EXPERIENCE  \n",
      "Date: July 08, 2018 – July 15, 2024 \n",
      "Job Title: Information Management Officer - National\n",
      "    Question: <pad> What  are  your  long-term  academic  and  research  goals  as  a  master’s  student?\n",
      "\n",
      "    Answer:\u001b[0m\n",
      "\n",
      "\u001b[1m> Finished chain.\u001b[0m\n",
      "\n",
      "\u001b[1m> Finished chain.\u001b[0m\n",
      "\n",
      "\u001b[1m> Finished chain.\u001b[0m\n"
     ]
    },
    {
     "data": {
      "text/plain": [
       "{'question': 'What specific research interests or academic goals do you hope to achieve during your time as a master’s student?',\n",
       " 'chat_history': [HumanMessage(content='What are your core beliefs regarding the role of technology in shaping society?'),\n",
       "  AIMessage(content='<pad> Sachin  believes  in  the  transformative  power  of  technology  in  shaping  society.  He  advocates  for  ethical  AI  practices,  ensuring  technological  advancements  align  with  cultural  values  and  community  needs.  He  believes  that  technology  can  be  used  to  build  resilient  communities,  develop  intelligent  systems  that  enhance  disaster  risk  assessment  and  response,  and  contribute  to  sustainable  development  and  community  resilience.  He  believes  that  technology  can  be  used  to  enhance  disaster  risk  assessment  and  response,  and  contribute  to  sustainable  development  and  community  resilience.  He  also  believes  that  technology  can  be  used  to  enhance  disaster  risk  assessment  and  response,  and  contribute  to  sustainable  development  and  community  resilience.\\n'),\n",
       "  HumanMessage(content='How do you think cultural values should influence technological advancements?'),\n",
       "  AIMessage(content='<pad> Cultural  values  play  a  crucial  role  in  shaping  technological  advancements.  As  a  technologist  and  advocate  for  ethical  AI  practices,  I  believe  that  it  is  essential  to  consider  cultural  values  when  designing  and  implementing  technological  solutions.  This  involves  ensuring  that  technological  advancements  align  with  the  values  and  beliefs  of  the  communities  they  serve,  and  that  they  are  designed  to  be  inclusive  and  respectful  of  diverse  perspectives  and  experiences.\\n Cultural  values  can  be  expressed  through  various  forms,  such  as  values  related  to  social  justice,  environmental  sustainability,  and  community  empowerment.  By  incorporating  these  values  into  technological  advancements,  we  can  ensure  that  they  are  not  only  effective  but  also  align  with  the  needs  and  aspirations  of  the  communities  they  serve.\\n Additionally'),\n",
       "  HumanMessage(content='As a master’s student, what is the most challenging aspect of your studies so far?'),\n",
       "  AIMessage(content='<pad>  Balancing  academic  research  with  practical  implementation.\\n')],\n",
       " 'answer': \"<pad> As  a  master's  student,  my  long-term  academic  and  research  goals  as  a  data  science  and  AI  student  are  to  leverage  data  science  and  AI  to  build  resilient  communities,  enhance  disaster  preparedness,  and  develop  intelligent  decision-support  systems  that  optimize  resource  allocation  and  policy-making.  My  research  focuses  on  AI-driven  predictive  analytics,  and  I  aim  to  use  my  skills  and  knowledge  to  develop  innovative  solutions  that  address  real-world  challenges  and  improve  the  lives  of  individuals  and  communities.  I  also  aim  to  contribute  to  the  advancement  of  the  field  by  collaborating  with  industry  experts  and  promoting  the  use  of  data  science  and  AI  in  decision-making  and  resource  allocation.  I  am  also  committed  to  promoting  ethical  and  responsible  use \",\n",
       " 'source_documents': [Document(page_content=\"community needs. His vision is to leverage data science and AI to build resilient communities, \\nenhance disaster preparedness, and develop intelligent decision-support systems that optimize \\nresource allocation and policy-making. \\nAs a master's student, one of the most challenging aspects of his studies has been balancing \\nacademic research with practical implementation. Navigating complex AI model training, dealing \\nwith real-world data inconsistencies, and integrating AI-driven solutions in disaster management \\nrequire continuous learning and adaptation. His research focuses on AI-driven predictive analytics,\", metadata={'source': '/Users/sachinmalego/Documents/AIT Course Works/02. Second Semester/02. AI-NLU/Lab Work/Github/Python-fo-Natural-Language-Processing/Assignment/NLP-A6-Lets-Talk-with-Yourself/documents/Profile_SachinMalego.pdf', 'file_path': '/Users/sachinmalego/Documents/AIT Course Works/02. Second Semester/02. AI-NLU/Lab Work/Github/Python-fo-Natural-Language-Processing/Assignment/NLP-A6-Lets-Talk-with-Yourself/documents/Profile_SachinMalego.pdf', 'page': 0, 'total_pages': 2, 'format': 'PDF 1.3', 'title': '', 'author': '', 'subject': '', 'keywords': '', 'creator': '', 'producer': 'macOS Version 15.3.2 (Build 24D81) Quartz PDFContext', 'creationDate': \"D:20250315142840Z00'00'\", 'modDate': \"D:20250315142840Z00'00'\", 'trapped': ''}),\n",
       "  Document(page_content='(Division)  \\nM.Sc. DSAI \\nAIT \\nAsian Institute of Technology, \\nThailand \\nCurrent \\n \\nB.Sc. CSIT  \\nT.U.  \\nSt. Xavier’s College Maitighar,  \\nKathmandu  \\n2013 A.D.  \\n81.36%  \\n(Distinction)  \\n10+2  \\nHSEB  \\nMillennium H.S.S. Tansen, \\nPalpa  \\n2007 A.D.  \\n64.1%  \\n(Ist div.)  \\nS.L.C.  \\nHMG  \\nNew Horizon Eng. Bo. Sec. School \\nTansen, Palpa  \\n2005 A.D.  \\n71.37%  \\n(Ist div.)  \\n  \\nACADEMIC PROJECTS  \\n• \\nFinal year project entitled “ICT in SMART Energy for Sustainable Empowerment” as per the \\nrequirement for the partial fulfillment of B.Sc. CSIT degree.  \\n• \\nMini project on Database entitled “Vehicle Registration System” as per the requirement for the \\npartial fulfillment of B.Sc. CSIT degree.  \\n•', metadata={'source': '/Users/sachinmalego/Documents/AIT Course Works/02. Second Semester/02. AI-NLU/Lab Work/Github/Python-fo-Natural-Language-Processing/Assignment/NLP-A6-Lets-Talk-with-Yourself/documents/CV _SachinMalego.pdf', 'file_path': '/Users/sachinmalego/Documents/AIT Course Works/02. Second Semester/02. AI-NLU/Lab Work/Github/Python-fo-Natural-Language-Processing/Assignment/NLP-A6-Lets-Talk-with-Yourself/documents/CV _SachinMalego.pdf', 'page': 4, 'total_pages': 7, 'format': 'PDF 1.4', 'title': '', 'author': '', 'subject': '', 'keywords': '', 'creator': '', 'producer': 'macOS Version 15.1.1 (Build 24B91) Quartz PDFContext', 'creationDate': \"D:20241213042847Z00'00'\", 'modDate': \"D:20241213042847Z00'00'\", 'trapped': ''}),\n",
       "  Document(page_content='• \\nUndertake any other duties assigned by the supervisor, demonstrating flexibility and \\nadaptability to contribute to various tasks and initiatives as needed.  \\n  \\nDate: July 08, 2018 - March 31, 2018', metadata={'source': '/Users/sachinmalego/Documents/AIT Course Works/02. Second Semester/02. AI-NLU/Lab Work/Github/Python-fo-Natural-Language-Processing/Assignment/NLP-A6-Lets-Talk-with-Yourself/documents/CV _SachinMalego.pdf', 'file_path': '/Users/sachinmalego/Documents/AIT Course Works/02. Second Semester/02. AI-NLU/Lab Work/Github/Python-fo-Natural-Language-Processing/Assignment/NLP-A6-Lets-Talk-with-Yourself/documents/CV _SachinMalego.pdf', 'page': 2, 'total_pages': 7, 'format': 'PDF 1.4', 'title': '', 'author': '', 'subject': '', 'keywords': '', 'creator': '', 'producer': 'macOS Version 15.1.1 (Build 24B91) Quartz PDFContext', 'creationDate': \"D:20241213042847Z00'00'\", 'modDate': \"D:20241213042847Z00'00'\", 'trapped': ''}),\n",
       "  Document(page_content='record in technical leadership and consultancy roles, my aim is to drive digital transformation initiatives \\nand enhance organizational capabilities in utilizing data-driven strategies, artificial intelligence, and \\nmachine learning for impactful decision-making and sustainable development.  \\n  \\nPERSONAL DETAILS  \\nDate of Birth:  \\n23rd Dec 1988 A.D.  \\nGender:  \\nMale  \\nPermanent Address:  \\nAsan Tole, Tansen-2, Palpa, Nepal   \\nCurrent Address:  \\nAIT Thailand  \\nNationality:  \\nNepali  \\nLanguage Known:  \\nEnglish, Nepali  \\n  \\nPROFESSIONAL WORKING EXPERIENCE  \\nDate: July 08, 2018 – July 15, 2024 \\nJob Title: Information Management Officer - National', metadata={'source': '/Users/sachinmalego/Documents/AIT Course Works/02. Second Semester/02. AI-NLU/Lab Work/Github/Python-fo-Natural-Language-Processing/Assignment/NLP-A6-Lets-Talk-with-Yourself/documents/CV _SachinMalego.pdf', 'file_path': '/Users/sachinmalego/Documents/AIT Course Works/02. Second Semester/02. AI-NLU/Lab Work/Github/Python-fo-Natural-Language-Processing/Assignment/NLP-A6-Lets-Talk-with-Yourself/documents/CV _SachinMalego.pdf', 'page': 0, 'total_pages': 7, 'format': 'PDF 1.4', 'title': '', 'author': '', 'subject': '', 'keywords': '', 'creator': '', 'producer': 'macOS Version 15.1.1 (Build 24B91) Quartz PDFContext', 'creationDate': \"D:20241213042847Z00'00'\", 'modDate': \"D:20241213042847Z00'00'\", 'trapped': ''})]}"
      ]
     },
     "execution_count": 41,
     "metadata": {},
     "output_type": "execute_result"
    }
   ],
   "source": [
    "prompt_question = \"What specific research interests or academic goals do you hope to achieve during your time as a master’s student?\"\n",
    "answer = chain({\"question\":prompt_question})\n",
    "answer"
   ]
  },
  {
   "cell_type": "code",
   "execution_count": 44,
   "metadata": {},
   "outputs": [
    {
     "name": "stdout",
     "output_type": "stream",
     "text": [
      "Chatbot responses saved.\n"
     ]
    }
   ],
   "source": [
    "from langchain.chains import RetrievalQA\n",
    "\n",
    "# Create RAG pipeline\n",
    "qa_chain = RetrievalQA.from_chain_type(\n",
    "    llm = llm,\n",
    "    chain_type = \"stuff\",\n",
    "    retriever = retriever,\n",
    "    return_source_documents = True,\n",
    "    chain_type_kwargs={\"prompt\": PROMPT}\n",
    ")\n",
    "\n",
    "# Function to clean the response\n",
    "def clean_text(text):\n",
    "    return text.replace(\"<pad>\", \"\").replace(\"\\n\", \" \").strip()\n",
    "\n",
    "# Function to ask a question and clean the answer\n",
    "def ask_question(question):\n",
    "    response = qa_chain.invoke({\"query\": question})  # Use invoke instead of run\n",
    "    cleaned_answer = clean_text(response[\"result\"])  # Clean the answer\n",
    "    return cleaned_answer\n",
    "\n",
    "\n",
    "# Example usage\n",
    "questions = [\n",
    "    \"How old is Sachin Malego?\",\n",
    "    \"What is Sachin Malego's highest level of education?\",\n",
    "    \"What major or field of study did Sachin Malego pursue during his education?\",\n",
    "    \"How many years of work experience does Sachin Malego have?\",\n",
    "    \"What type of work or industry have Sachin Malego been involved in?\",\n",
    "    \"Can you describe Sachin Malego's current role or job responsibilities?\",\n",
    "    \"Can you describe Sachin Malego's past role or job responsibilities?\",\n",
    "    \"What are Sachin Malego's core beliefs regarding the role of technology in shaping society?\",\n",
    "    \"How do you think cultural values should influence technological advancements?\",\n",
    "    \"As a master’s student, what is the most challenging aspect of Sachin Malego's studies so far?\",\n",
    "    \"What specific research interests or academic goals do you hope to achieve during your time as a master’s student?\"\n",
    "]\n",
    "\n",
    "# Get answers and clean them\n",
    "answers = [{\"question\": q, \"answer\": ask_question(q)} for q in questions]\n",
    "\n",
    "# Save responses as JSON\n",
    "import json\n",
    "\n",
    "with open(\"chatbot_responses.json\", \"w\") as f:\n",
    "    json.dump(answers, f, indent=4)\n",
    "\n",
    "print(\"Chatbot responses saved.\")"
   ]
  },
  {
   "cell_type": "markdown",
   "metadata": {},
   "source": [
    "##### **JSON Responses**"
   ]
  },
  {
   "cell_type": "code",
   "execution_count": 45,
   "metadata": {},
   "outputs": [
    {
     "data": {
      "text/plain": [
       "[{'question': 'How old is Sachin Malego?',\n",
       "  'answer': 'Sachin  Malego  is  30  years  old.'},\n",
       " {'question': \"What is Sachin Malego's highest level of education?\",\n",
       "  'answer': \"Sachin  Malego's  highest  level  of  education  is  a  Master  of  Science  in  Data  Science  and  Artificial  Intelligence  from  the  Asian  Institute  of  Technology  (AIT),  Thailand.\"},\n",
       " {'question': 'What major or field of study did Sachin Malego pursue during his education?',\n",
       "  'answer': 'Sachin  Malego  pursued  a  Bachelor  of  Science  in  Computer  Science  and  Information  Technology  (B.Sc.  CSIT)  during  his  education.'},\n",
       " {'question': 'How many years of work experience does Sachin Malego have?',\n",
       "  'answer': 'Based  on  the  information  provided  in  the  resume,  Sachin  Malego  has  over  10  years  of  work  experience.'},\n",
       " {'question': 'What type of work or industry have Sachin Malego been involved in?',\n",
       "  'answer': 'Sachin  Malego  has  been  involved  in  the  field  of  Information  Systems  Design,  Data  Science,  Artificial  Intelligence,  and  Disaster  Risk  Reduction.  He  has  been  involved  in  various  roles  such  as  Web  Developer,  Data  Management  Officer,  and  Consultant.  He  has  also  provided  consultancy  services  to  national  and  international  organizations  and  has  contributed  to  academic  and  research  with  published  reports  and  case  studies.  He  has  a  diverse  skill  set  spanning  programming,  database  management,  AI  model  development,  GIS  mapping,  and  system  security.  He  has  been  involved  in  major  national  platforms  such  as  Asia  Shelter  Forum  2020  and  2021.'},\n",
       " {'question': \"Can you describe Sachin Malego's current role or job responsibilities?\",\n",
       "  'answer': \"I'm  sorry,  but  I  do  not  have  access  to  the  current  role  or  job  responsibilities  of  Sachin  Malego.  The  information  provided  in  the  context  does  not  mention  his  current  role  or  job  responsibilities.  Can  you  please  provide  more  context  or  details  about  his  current  role  or  job  responsibilities?\"},\n",
       " {'question': \"Can you describe Sachin Malego's past role or job responsibilities?\",\n",
       "  'answer': \"Sachin  Malego's  past  role  or  job  responsibilities  include:  *  Web  Developer  and  Data  Management  Officer  at  Web  Fusion  Nepal  from  2013  to  2018,  where  he  led  software  development  projects,  managed  databases,  and  contributed  to  web  application  development.  *  Consultant  for  the  Government  of  Nepal  from  2018  to  2024,  designing  and  managing  critical  information  systems  for  disaster  risk  reduction,  including  the  Bipad  portal,  Reconstruction  Management  Information  System  (RMIS),  Resource  Management  System,  and  Volunteer  Management  System  (VMS).  *  Co-ordinator  with  stakeholders,  overseeing  IT  projects,  developing  training  programs,  ensuring  data  security,  and  supporting  policy-making  initiatives  through  data  analysis  and  visualization.\"},\n",
       " {'question': \"What are Sachin Malego's core beliefs regarding the role of technology in shaping society?\",\n",
       "  'answer': \"Sachin  Malego's  core  beliefs  regarding  the  role  of  technology  in  shaping  society  are:  1.  The  transformative  power  of  technology  in  shaping  society.  2.  The  importance  of  ethical  AI  practices  in  ensuring  technological  advancements  align  with  cultural  values  and  community  needs.  3.  The  need  to  leverage  data  science  and  AI  to  build  resilient  communities.  4.  The  need  to  develop  intelligent  systems  that  enhance  disaster  risk  assessment  and  response,  ultimately  contributing  to  sustainable  development  and  community  resilience.\"},\n",
       " {'question': 'How do you think cultural values should influence technological advancements?',\n",
       "  'answer': 'Cultural  values  should  influence  technological  advancements  in  several  ways:  1.  Ethical  considerations:  Cultural  values  should  be  taken  into  account  when  designing  and  implementing  technological  systems  to  ensure  that  they  align  with  ethical  principles  and  respect  for  human  rights  and  privacy.  2.  Community  needs:  Cultural  values  should  be  taken  into  account  when  designing  and  implementing  technological  systems  to  ensure  that  they  are  accessible  and  inclusive  for  all  communities.  3.  Sustainability:  Cultural  values  should  be  taken  into  account  when  designing  and  implementing  technological  systems  to  ensure  that  they  are  sustainable  and  environmentally  friendly.  4.  Accessibility:  Cultural  values  should  be  taken  into  account  when  designing  and  implementing  technological  systems  to  ensure  that  they  are  accessible  and  inclusive  for  all  users.  5.  Eth'},\n",
       " {'question': \"As a master’s student, what is the most challenging aspect of Sachin Malego's studies so far?\",\n",
       "  'answer': \"As  a  master's  student,  the  most  challenging  aspect  of  Sachin  Malego's  studies  so  far  may  be  the  integration  of  advanced  AI  and  data  science  techniques  into  his  research  and  professional  work.  This  may  involve  balancing  the  need  to  develop  and  implement  AI  models  with  the  need  to  manage  and  analyze  large  amounts  of  data,  as  well  as  the  need  to  integrate  these  models  into  real-world  applications.  Additionally,  the  need  to  balance  the  need  to  develop  and  implement  AI  models  with  the  need  to  maintain  and  update  them  over  time  may  be  a  challenge.  Additionally,  the  need  to  balance  the  need  to  develop  and  implement  AI  models  with  the  need  to  maintain  and  update  them  over  time  may  be\"},\n",
       " {'question': 'What specific research interests or academic goals do you hope to achieve during your time as a master’s student?',\n",
       "  'answer': \"Sachin's  research  interests  and  academic  goals  as  a  master's  student  include  leveraging  data  science  and  AI  to  build  resilient  communities,  enhance  disaster  preparedness,  and  develop  intelligent  decision-support  systems  that  optimize  resource  allocation  and  policy-making.  He  aims  to  develop  and  implement  AI-driven  solutions  in  disaster  management,  leveraging  his  expertise  in  AI,  predictive  analytics,  and  data-driven  solutions.  He  also  hopes  to  contribute  to  the  development  of  AI-driven  solutions  in  disaster  management  by  leveraging  his  knowledge  and  skills  in  data  science  and  AI.  Additionally,  he  aims  to  develop  and  implement  AI-driven  solutions  in  disaster  management  by  leveraging  his  expertise  in  data  science  and  AI.\"}]"
      ]
     },
     "execution_count": 45,
     "metadata": {},
     "output_type": "execute_result"
    }
   ],
   "source": [
    "answers"
   ]
  }
 ],
 "metadata": {
  "kernelspec": {
   "display_name": "PyEnv",
   "language": "python",
   "name": "python3"
  },
  "language_info": {
   "codemirror_mode": {
    "name": "ipython",
    "version": 3
   },
   "file_extension": ".py",
   "mimetype": "text/x-python",
   "name": "python",
   "nbconvert_exporter": "python",
   "pygments_lexer": "ipython3",
   "version": "3.8.20"
  }
 },
 "nbformat": 4,
 "nbformat_minor": 2
}
